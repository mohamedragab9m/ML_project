{
 "cells": [
  {
   "cell_type": "code",
   "execution_count": 1,
   "id": "33578e46",
   "metadata": {
    "id": "33578e46"
   },
   "outputs": [],
   "source": [
    "## Main Libraries\n",
    "import numpy as np\n",
    "import pandas as pd\n",
    "import matplotlib.pyplot as plt\n",
    "%matplotlib inline\n",
    "import seaborn as sns\n",
    "\n",
    "## To draw DT\n",
    "from six import StringIO\n",
    "from IPython.display import Image\n",
    "from sklearn.tree import export_graphviz\n",
    "import pydotplus\n",
    "\n",
    "## Embeded Datasets\n",
    "from sklearn import datasets\n",
    "\n",
    "## For shuffling the Dataset\n",
    "from sklearn import utils\n",
    "\n",
    "## Metric\n",
    "from sklearn.metrics import accuracy_score\n",
    "\n",
    "## Preprocessing\n",
    "from sklearn.preprocessing import StandardScaler\n",
    "from sklearn.impute import SimpleImputer\n",
    "from sklearn.pipeline import Pipeline\n",
    "from sklearn.model_selection import cross_val_score, cross_val_predict\n",
    "\n",
    "## Algorithms\n",
    "from sklearn.tree import DecisionTreeClassifier\n",
    "from sklearn.neighbors import KNeighborsClassifier\n",
    "from sklearn.linear_model import LogisticRegression\n",
    "from sklearn.svm import SVC\n",
    "\n",
    "## Ensemble Models (There is for Classification and Regression)\n",
    "from sklearn.ensemble import VotingClassifier, VotingRegressor                          ## One for each task\n",
    "from sklearn.ensemble import BaggingClassifier, BaggingRegressor                        ## One for each task\n",
    "from sklearn.ensemble import RandomForestClassifier, RandomForestRegressor              ## one for each task\n",
    "from sklearn.ensemble import AdaBoostClassifier, AdaBoostRegressor                      ## one for each task\n",
    "from sklearn.ensemble import GradientBoostingClassifier, GradientBoostingRegressor      ## one for each task\n",
    "\n",
    "\n",
    "## XGBoost\n",
    "import xgboost as xgb"
   ]
  },
  {
   "cell_type": "markdown",
   "id": "89bf15ba",
   "metadata": {
    "id": "89bf15ba"
   },
   "source": [
    "## `Classification`"
   ]
  },
  {
   "cell_type": "markdown",
   "id": "3ff0abfb",
   "metadata": {
    "id": "3ff0abfb"
   },
   "source": [
    "### `Loading the iris Dataset`"
   ]
  },
  {
   "cell_type": "code",
   "execution_count": 2,
   "id": "d58a776a",
   "metadata": {
    "colab": {
     "base_uri": "https://localhost:8080/"
    },
    "id": "d58a776a",
    "outputId": "35e87d9c-adee-4e5d-8d5a-f622c658f698"
   },
   "outputs": [
    {
     "data": {
      "text/plain": [
       "dict_keys(['data', 'target', 'frame', 'target_names', 'DESCR', 'feature_names', 'filename', 'data_module'])"
      ]
     },
     "execution_count": 2,
     "metadata": {},
     "output_type": "execute_result"
    }
   ],
   "source": [
    "## Load the iris dataset from the embeded datasets provided in sklearn\n",
    "iris_dataset = datasets.load_iris()\n",
    "\n",
    "## check the dataset by checking its keys\n",
    "iris_dataset.keys()           ## each key has data or information"
   ]
  },
  {
   "cell_type": "code",
   "execution_count": 3,
   "id": "b1db9514",
   "metadata": {
    "colab": {
     "base_uri": "https://localhost:8080/",
     "height": 206
    },
    "id": "b1db9514",
    "outputId": "c16442ea-6928-4cb0-8c4d-b253cf0ebf69"
   },
   "outputs": [
    {
     "data": {
      "text/html": [
       "<div>\n",
       "<style scoped>\n",
       "    .dataframe tbody tr th:only-of-type {\n",
       "        vertical-align: middle;\n",
       "    }\n",
       "\n",
       "    .dataframe tbody tr th {\n",
       "        vertical-align: top;\n",
       "    }\n",
       "\n",
       "    .dataframe thead th {\n",
       "        text-align: right;\n",
       "    }\n",
       "</style>\n",
       "<table border=\"1\" class=\"dataframe\">\n",
       "  <thead>\n",
       "    <tr style=\"text-align: right;\">\n",
       "      <th></th>\n",
       "      <th>sepal length (cm)</th>\n",
       "      <th>sepal width (cm)</th>\n",
       "      <th>petal length (cm)</th>\n",
       "      <th>petal width (cm)</th>\n",
       "      <th>target</th>\n",
       "    </tr>\n",
       "  </thead>\n",
       "  <tbody>\n",
       "    <tr>\n",
       "      <th>0</th>\n",
       "      <td>5.1</td>\n",
       "      <td>3.5</td>\n",
       "      <td>1.4</td>\n",
       "      <td>0.2</td>\n",
       "      <td>0.0</td>\n",
       "    </tr>\n",
       "    <tr>\n",
       "      <th>1</th>\n",
       "      <td>4.9</td>\n",
       "      <td>3.0</td>\n",
       "      <td>1.4</td>\n",
       "      <td>0.2</td>\n",
       "      <td>0.0</td>\n",
       "    </tr>\n",
       "    <tr>\n",
       "      <th>2</th>\n",
       "      <td>4.7</td>\n",
       "      <td>3.2</td>\n",
       "      <td>1.3</td>\n",
       "      <td>0.2</td>\n",
       "      <td>0.0</td>\n",
       "    </tr>\n",
       "    <tr>\n",
       "      <th>3</th>\n",
       "      <td>4.6</td>\n",
       "      <td>3.1</td>\n",
       "      <td>1.5</td>\n",
       "      <td>0.2</td>\n",
       "      <td>0.0</td>\n",
       "    </tr>\n",
       "    <tr>\n",
       "      <th>4</th>\n",
       "      <td>5.0</td>\n",
       "      <td>3.6</td>\n",
       "      <td>1.4</td>\n",
       "      <td>0.2</td>\n",
       "      <td>0.0</td>\n",
       "    </tr>\n",
       "  </tbody>\n",
       "</table>\n",
       "</div>"
      ],
      "text/plain": [
       "   sepal length (cm)  sepal width (cm)  petal length (cm)  petal width (cm)  \\\n",
       "0                5.1               3.5                1.4               0.2   \n",
       "1                4.9               3.0                1.4               0.2   \n",
       "2                4.7               3.2                1.3               0.2   \n",
       "3                4.6               3.1                1.5               0.2   \n",
       "4                5.0               3.6                1.4               0.2   \n",
       "\n",
       "   target  \n",
       "0     0.0  \n",
       "1     0.0  \n",
       "2     0.0  \n",
       "3     0.0  \n",
       "4     0.0  "
      ]
     },
     "execution_count": 3,
     "metadata": {},
     "output_type": "execute_result"
    }
   ],
   "source": [
    "## Let's get all together and create a DF\n",
    "## I will do it in very fast way and it is my preferable one, but there are many ways as we learned together \n",
    "\n",
    "df_iris = pd.DataFrame(np.c_[iris_dataset['data'], iris_dataset['target'].reshape(-1, 1)], \n",
    "                       columns=iris_dataset['feature_names']+['target'])\n",
    "\n",
    "## check the head\n",
    "df_iris.head()"
   ]
  },
  {
   "cell_type": "code",
   "execution_count": 4,
   "id": "f0065164",
   "metadata": {
    "colab": {
     "base_uri": "https://localhost:8080/",
     "height": 206
    },
    "id": "f0065164",
    "outputId": "b816f9d9-aa98-40fa-a9a2-533e069b46e4"
   },
   "outputs": [
    {
     "data": {
      "text/html": [
       "<div>\n",
       "<style scoped>\n",
       "    .dataframe tbody tr th:only-of-type {\n",
       "        vertical-align: middle;\n",
       "    }\n",
       "\n",
       "    .dataframe tbody tr th {\n",
       "        vertical-align: top;\n",
       "    }\n",
       "\n",
       "    .dataframe thead th {\n",
       "        text-align: right;\n",
       "    }\n",
       "</style>\n",
       "<table border=\"1\" class=\"dataframe\">\n",
       "  <thead>\n",
       "    <tr style=\"text-align: right;\">\n",
       "      <th></th>\n",
       "      <th>sepal length (cm)</th>\n",
       "      <th>sepal width (cm)</th>\n",
       "      <th>petal length (cm)</th>\n",
       "      <th>petal width (cm)</th>\n",
       "      <th>target</th>\n",
       "    </tr>\n",
       "  </thead>\n",
       "  <tbody>\n",
       "    <tr>\n",
       "      <th>73</th>\n",
       "      <td>6.1</td>\n",
       "      <td>2.8</td>\n",
       "      <td>4.7</td>\n",
       "      <td>1.2</td>\n",
       "      <td>1.0</td>\n",
       "    </tr>\n",
       "    <tr>\n",
       "      <th>18</th>\n",
       "      <td>5.7</td>\n",
       "      <td>3.8</td>\n",
       "      <td>1.7</td>\n",
       "      <td>0.3</td>\n",
       "      <td>0.0</td>\n",
       "    </tr>\n",
       "    <tr>\n",
       "      <th>118</th>\n",
       "      <td>7.7</td>\n",
       "      <td>2.6</td>\n",
       "      <td>6.9</td>\n",
       "      <td>2.3</td>\n",
       "      <td>2.0</td>\n",
       "    </tr>\n",
       "    <tr>\n",
       "      <th>78</th>\n",
       "      <td>6.0</td>\n",
       "      <td>2.9</td>\n",
       "      <td>4.5</td>\n",
       "      <td>1.5</td>\n",
       "      <td>1.0</td>\n",
       "    </tr>\n",
       "    <tr>\n",
       "      <th>76</th>\n",
       "      <td>6.8</td>\n",
       "      <td>2.8</td>\n",
       "      <td>4.8</td>\n",
       "      <td>1.4</td>\n",
       "      <td>1.0</td>\n",
       "    </tr>\n",
       "  </tbody>\n",
       "</table>\n",
       "</div>"
      ],
      "text/plain": [
       "     sepal length (cm)  sepal width (cm)  petal length (cm)  petal width (cm)  \\\n",
       "73                 6.1               2.8                4.7               1.2   \n",
       "18                 5.7               3.8                1.7               0.3   \n",
       "118                7.7               2.6                6.9               2.3   \n",
       "78                 6.0               2.9                4.5               1.5   \n",
       "76                 6.8               2.8                4.8               1.4   \n",
       "\n",
       "     target  \n",
       "73      1.0  \n",
       "18      0.0  \n",
       "118     2.0  \n",
       "78      1.0  \n",
       "76      1.0  "
      ]
     },
     "execution_count": 4,
     "metadata": {},
     "output_type": "execute_result"
    }
   ],
   "source": [
    "## Let's shuffle the Dataset as you see that the target is ordered (0 then 1 then 2) --> Classification problem\n",
    "## You can use function (sample) provided in pandas or use (shuffle) in sklearn\n",
    "df_iris = utils.shuffle(df_iris, random_state=42)   ## shuffle and overwrite\n",
    "\n",
    "## check the head again\n",
    "df_iris.head()    ## OK"
   ]
  },
  {
   "cell_type": "markdown",
   "id": "ee3b7439",
   "metadata": {
    "id": "ee3b7439"
   },
   "source": [
    "### `Exploratory Data Analysis (EDA)`"
   ]
  },
  {
   "cell_type": "code",
   "execution_count": 5,
   "id": "61d37fe8",
   "metadata": {
    "id": "61d37fe8"
   },
   "outputs": [],
   "source": [
    "## Do it Yourself"
   ]
  },
  {
   "cell_type": "markdown",
   "id": "ee044c67",
   "metadata": {
    "id": "ee044c67"
   },
   "source": [
    "### `Preprocessing`\n",
    "`The Dataset is very small, It is a Toy example, I will not split the data`"
   ]
  },
  {
   "cell_type": "code",
   "execution_count": 6,
   "id": "6cb6f211",
   "metadata": {
    "id": "6cb6f211"
   },
   "outputs": [],
   "source": [
    "### Split the Dataset to Features and Target\n",
    "X = df_iris.drop(columns=['target'], axis=1)\n",
    "y = df_iris['target']"
   ]
  },
  {
   "cell_type": "code",
   "execution_count": 7,
   "id": "8b00342c",
   "metadata": {
    "id": "8b00342c"
   },
   "outputs": [],
   "source": [
    "## Let's impute (although there is no nulls) and standardize the Dataset ---> All in Pipeline\n",
    "num_pipeline = Pipeline(steps=[\n",
    "    ('imputer', SimpleImputer(strategy='median')),\n",
    "    ('scaler', StandardScaler())\n",
    "                              ]\n",
    "                       )\n",
    "\n",
    "X_train = num_pipeline.fit_transform(X)\n",
    "y_train = y.copy()   ## doesn't matter"
   ]
  },
  {
   "cell_type": "markdown",
   "id": "f0cbe9a6",
   "metadata": {
    "id": "f0cbe9a6"
   },
   "source": [
    "### `Building a ML Model`\n",
    "* `Evaluation Metric is Accuracy`"
   ]
  },
  {
   "cell_type": "markdown",
   "id": "5ca2cee2",
   "metadata": {},
   "source": [
    "### `1. Logistic Regression` "
   ]
  },
  {
   "cell_type": "code",
   "execution_count": 8,
   "id": "26d6f642",
   "metadata": {},
   "outputs": [
    {
     "data": {
      "text/plain": [
       "LogisticRegression(C=0.1)"
      ]
     },
     "execution_count": 8,
     "metadata": {},
     "output_type": "execute_result"
    }
   ],
   "source": [
    "## Logistic Regression\n",
    "logit_clf = LogisticRegression(C=0.1)\n",
    "logit_clf.fit(X_train, y_train)  ## Train"
   ]
  },
  {
   "cell_type": "code",
   "execution_count": 9,
   "id": "0ea6ac4e",
   "metadata": {},
   "outputs": [
    {
     "name": "stdout",
     "output_type": "stream",
     "text": [
      "Accuracy (Mean) scores using \"Logistic Regression\" -- 0.913\n"
     ]
    }
   ],
   "source": [
    "## Using cross validation for prediction and evaluation\n",
    "acc_scores_logit = cross_val_score(estimator=logit_clf, X=X_train, y=y_train, cv=5, n_jobs=-1, scoring='accuracy')\n",
    "print(f'Accuracy (Mean) scores using \"Logistic Regression\" -- {acc_scores_logit.mean():.3f}', )\n",
    "\n",
    "## Prediction using cross validation\n",
    "y_pred_logit = cross_val_predict(estimator=logit_clf, X=X_train, y=y_train, cv=5, n_jobs=-1, method='predict')"
   ]
  },
  {
   "cell_type": "markdown",
   "id": "8e77c1b9",
   "metadata": {},
   "source": [
    "### `2. KNN`"
   ]
  },
  {
   "cell_type": "code",
   "execution_count": 10,
   "id": "6b376ea5",
   "metadata": {},
   "outputs": [
    {
     "data": {
      "text/plain": [
       "KNeighborsClassifier()"
      ]
     },
     "execution_count": 10,
     "metadata": {},
     "output_type": "execute_result"
    }
   ],
   "source": [
    "## Using KNN\n",
    "knn_clf = KNeighborsClassifier(n_neighbors=5)\n",
    "knn_clf.fit(X_train, y_train)  ## Train"
   ]
  },
  {
   "cell_type": "code",
   "execution_count": 11,
   "id": "63e4354c",
   "metadata": {},
   "outputs": [
    {
     "name": "stdout",
     "output_type": "stream",
     "text": [
      "Accuracy (Mean) scores using \"KNN\" -- 0.947\n"
     ]
    }
   ],
   "source": [
    "## Using cross validation for prediction and evaluation\n",
    "acc_scores_knn = cross_val_score(estimator=knn_clf, X=X_train, y=y_train, cv=5, n_jobs=-1, scoring='accuracy')\n",
    "print(f'Accuracy (Mean) scores using \"KNN\" -- {acc_scores_knn.mean():.3f}', )\n",
    "\n",
    "## Prediction using cross validation\n",
    "y_pred_knn = cross_val_predict(estimator=knn_clf, X=X_train, y=y_train, cv=5, n_jobs=-1, method='predict')"
   ]
  },
  {
   "cell_type": "markdown",
   "id": "43f41939",
   "metadata": {},
   "source": [
    "### `3. SVC`"
   ]
  },
  {
   "cell_type": "code",
   "execution_count": 12,
   "id": "45f88649",
   "metadata": {},
   "outputs": [
    {
     "data": {
      "text/plain": [
       "SVC(C=0.1, kernel='linear', probability=True)"
      ]
     },
     "execution_count": 12,
     "metadata": {},
     "output_type": "execute_result"
    }
   ],
   "source": [
    "## Using SVMs\n",
    "svm_clf = SVC(kernel='linear', C=0.1, probability=True)\n",
    "svm_clf.fit(X_train, y_train)  ## Train"
   ]
  },
  {
   "cell_type": "code",
   "execution_count": 13,
   "id": "06cf528a",
   "metadata": {},
   "outputs": [
    {
     "name": "stdout",
     "output_type": "stream",
     "text": [
      "Accuracy (Mean) scores using \"SVM\" -- 0.947\n"
     ]
    }
   ],
   "source": [
    "## Using cross validation for prediction and evaluation\n",
    "acc_scores_svm = cross_val_score(estimator=svm_clf, X=X_train, y=y_train, cv=5, n_jobs=-1, scoring='accuracy')\n",
    "print(f'Accuracy (Mean) scores using \"SVM\" -- {acc_scores_svm.mean():.3f}', )\n",
    "\n",
    "## Prediction using cross validation\n",
    "y_pred_svm = cross_val_predict(estimator=svm_clf, X=X_train, y=y_train, cv=5, n_jobs=-1, method='predict')"
   ]
  },
  {
   "cell_type": "markdown",
   "id": "5b2cb43b",
   "metadata": {},
   "source": [
    "### `Decision Trees`"
   ]
  },
  {
   "cell_type": "code",
   "execution_count": 14,
   "id": "46ff6a9e",
   "metadata": {},
   "outputs": [
    {
     "data": {
      "text/plain": [
       "DecisionTreeClassifier(max_depth=2)"
      ]
     },
     "execution_count": 14,
     "metadata": {},
     "output_type": "execute_result"
    }
   ],
   "source": [
    "## Decison Trees\n",
    "tree_clf = DecisionTreeClassifier(criterion='gini', max_depth=2)\n",
    "tree_clf.fit(X_train, y_train)  ## Train"
   ]
  },
  {
   "cell_type": "code",
   "execution_count": 15,
   "id": "9659d818",
   "metadata": {},
   "outputs": [
    {
     "name": "stdout",
     "output_type": "stream",
     "text": [
      "Accuracy (Mean) scores using \"Decision Trees\" -- 0.927\n"
     ]
    }
   ],
   "source": [
    "## Using cross validation for prediction and evaluation\n",
    "acc_scores_tree = cross_val_score(estimator=tree_clf, X=X_train, y=y_train, cv=5, n_jobs=-1, scoring='accuracy')\n",
    "print(f'Accuracy (Mean) scores using \"Decision Trees\" -- {acc_scores_tree.mean():.3f}', )\n",
    "\n",
    "## Prediction using cross validation\n",
    "y_pred_tree = cross_val_predict(estimator=tree_clf, X=X_train, y=y_train, cv=5, n_jobs=-1, method='predict')"
   ]
  },
  {
   "cell_type": "markdown",
   "id": "13770de9",
   "metadata": {},
   "source": [
    "> * `Enough, Let's vote all the above models`"
   ]
  },
  {
   "cell_type": "markdown",
   "id": "666b0352",
   "metadata": {},
   "source": [
    "### `Voting Classifiers`"
   ]
  },
  {
   "cell_type": "code",
   "execution_count": 16,
   "id": "fda4d069",
   "metadata": {},
   "outputs": [
    {
     "data": {
      "text/plain": [
       "VotingClassifier(estimators=[('logit', LogisticRegression(C=0.1)),\n",
       "                             ('knn', KNeighborsClassifier()),\n",
       "                             ('svm',\n",
       "                              SVC(C=0.1, kernel='linear', probability=True)),\n",
       "                             ('tree', DecisionTreeClassifier(max_depth=2))])"
      ]
     },
     "execution_count": 16,
     "metadata": {},
     "output_type": "execute_result"
    }
   ],
   "source": [
    "## Voting the above 4 models, firstly --------> try tuning the above models before voting\n",
    "voting_clf = VotingClassifier(estimators=\n",
    "                                    [\n",
    "                                        ('logit', logit_clf),\n",
    "                                        ('knn', knn_clf),\n",
    "                                        ('svm', svm_clf),\n",
    "                                        ('tree', tree_clf)\n",
    "                                    ], \n",
    "                              voting='hard'      ## --> Try using (hard), take your time playing with code.\n",
    "                            )\n",
    "## deal with the (voting_clf) as an ordinary model                \n",
    "voting_clf.fit(X_train, y_train)  ## Train"
   ]
  },
  {
   "cell_type": "code",
   "execution_count": 17,
   "id": "a69e0cd4",
   "metadata": {},
   "outputs": [
    {
     "name": "stdout",
     "output_type": "stream",
     "text": [
      "Accuracy (Mean) scores using \"Voting Classifier\" -- 0.960\n"
     ]
    }
   ],
   "source": [
    "## Using cross validation for prediction and evaluation\n",
    "acc_scores_voting = cross_val_score(estimator=voting_clf, X=X_train, y=y_train, cv=5, n_jobs=-1, scoring='accuracy')\n",
    "print(f'Accuracy (Mean) scores using \"Voting Classifier\" -- {acc_scores_voting.mean():.3f}', )\n",
    "\n",
    "## Prediction using cross validation\n",
    "y_pred_voting = cross_val_predict(estimator=voting_clf, X=X_train, y=y_train, cv=5, n_jobs=-1, method='predict')"
   ]
  },
  {
   "cell_type": "code",
   "execution_count": 18,
   "id": "0be50de3",
   "metadata": {},
   "outputs": [
    {
     "name": "stdout",
     "output_type": "stream",
     "text": [
      "LogisticRegression ------- Accuracy score is : 0.9133\n",
      "KNeighborsClassifier ------- Accuracy score is : 0.9467\n",
      "SVC ------- Accuracy score is : 0.9467\n",
      "DecisionTreeClassifier ------- Accuracy score is : 0.9333\n",
      "VotingClassifier ------- Accuracy score is : 0.9600\n"
     ]
    }
   ],
   "source": [
    "## Getting all together \n",
    "models_outs = {logit_clf:y_pred_logit, \n",
    "               knn_clf:y_pred_knn, \n",
    "               svm_clf:y_pred_svm, \n",
    "               tree_clf:y_pred_tree, \n",
    "               voting_clf:y_pred_voting}\n",
    "\n",
    "for idx, clf in enumerate(models_outs.keys()):\n",
    "    y_pred_each_clf = [*models_outs.values()][idx]   ## prediction for each model\n",
    "    acc_score = accuracy_score(y_train, y_pred_each_clf)   ## accuracy\n",
    "    print(clf.__class__.__name__, '-------', f'Accuracy score is : {acc_score:.4f}')"
   ]
  },
  {
   "cell_type": "markdown",
   "id": "2ecaf778",
   "metadata": {},
   "source": [
    "### `Bagging & Pasting`"
   ]
  },
  {
   "cell_type": "code",
   "execution_count": 19,
   "id": "4a024048",
   "metadata": {},
   "outputs": [
    {
     "data": {
      "text/plain": [
       "BaggingClassifier(base_estimator=DecisionTreeClassifier(max_depth=2),\n",
       "                  max_samples=0.8, n_estimators=100, n_jobs=-1, oob_score=True,\n",
       "                  random_state=42)"
      ]
     },
     "execution_count": 19,
     "metadata": {},
     "output_type": "execute_result"
    }
   ],
   "source": [
    "## Bagging and pasting for Decision Trees  ---> take your time discovering the hyperparameters\n",
    "## (max_samples) & (max_features) --> when (float) it will be a ratio from samples and features \n",
    "## (max_samples) & (max_features) --> when (int) the number taken from samples and features \n",
    "## (bootstrap_features) is working the same as (bootstrap) working but for features, (bootstrap) for samples.. --> take care\n",
    "bag_clf = BaggingClassifier(\n",
    "                  base_estimator=DecisionTreeClassifier(max_depth=2, criterion='gini'),    ## the base model itself\n",
    "                  n_estimators=100,                       ## Number of predictors (imortant Hyperparam)\n",
    "                  max_samples=0.8, max_features=1.0,     \n",
    "                  bootstrap=True,                         ## True --> Bagging & False --> Pasting\n",
    "                  oob_score=True,                         ## If you want to evaluate on oob set\n",
    "                  random_state=42, n_jobs=-1              ## Additional params\n",
    "                          )             \n",
    "\n",
    "bag_clf.fit(X_train, y_train)  ## train and deal with it as an ordinary model "
   ]
  },
  {
   "cell_type": "code",
   "execution_count": 20,
   "id": "6ba47702",
   "metadata": {},
   "outputs": [
    {
     "name": "stdout",
     "output_type": "stream",
     "text": [
      "Accuracy (Mean) scores using \"Bagging of DT\" -- 0.940\n",
      "Evaluation of Out-of-Bag set is --  0.94\n"
     ]
    }
   ],
   "source": [
    "## Using cross validation for prediction and evaluation\n",
    "acc_scores_bagTree = cross_val_score(estimator=bag_clf, X=X_train, y=y_train, cv=5, n_jobs=-1, scoring='accuracy')\n",
    "print(f'Accuracy (Mean) scores using \"Bagging of DT\" -- {acc_scores_bagTree.mean():.3f}', )\n",
    "\n",
    "## oob now will be an attribute in the model as we set to True in the model\n",
    "## oob score gives an indication about the final score on test set, as model doesn't touch them while training.\n",
    "print('Evaluation of Out-of-Bag set is -- ', bag_clf.oob_score_)\n",
    "\n",
    "## Prediction using cross validation\n",
    "y_pred_bagTree = cross_val_predict(estimator=bag_clf, X=X_train, y=y_train, cv=5, n_jobs=-1, method='predict')"
   ]
  },
  {
   "cell_type": "markdown",
   "id": "76223a59",
   "metadata": {},
   "source": [
    "### `RandomForest`"
   ]
  },
  {
   "cell_type": "code",
   "execution_count": 21,
   "id": "152c2719",
   "metadata": {},
   "outputs": [
    {
     "data": {
      "text/plain": [
       "RandomForestClassifier(max_depth=3, max_features=1.0, max_leaf_nodes=20,\n",
       "                       max_samples=0.8)"
      ]
     },
     "execution_count": 21,
     "metadata": {},
     "output_type": "execute_result"
    }
   ],
   "source": [
    "## One of the most powerfull ML models avilable today, RandomForest (all is random)\n",
    "## Instead of building number of DT using Bagging, sklearn implemented RandomForest Model and it is very optimized\n",
    "\n",
    "forest_clf = RandomForestClassifier(n_estimators=100, max_depth=3, max_leaf_nodes=20, \n",
    "                                    criterion='gini', max_features=1.0, max_samples=0.8)\n",
    "forest_clf.fit(X_train, y_train)  ## train"
   ]
  },
  {
   "cell_type": "code",
   "execution_count": 22,
   "id": "5823e1e2",
   "metadata": {},
   "outputs": [
    {
     "name": "stdout",
     "output_type": "stream",
     "text": [
      "Accuracy (Mean) scores using \"RandomForest\" -- 0.960\n"
     ]
    }
   ],
   "source": [
    "## Using cross validation for prediction and evaluation\n",
    "acc_scores_forest = cross_val_score(estimator=forest_clf, X=X_train, y=y_train, cv=5, n_jobs=-1, scoring='accuracy')\n",
    "print(f'Accuracy (Mean) scores using \"RandomForest\" -- {acc_scores_forest.mean():.3f}', )\n",
    "\n",
    "## Prediction using cross validation\n",
    "y_pred_forest = cross_val_predict(estimator=forest_clf, X=X_train, y=y_train, cv=5, n_jobs=-1, method='predict')"
   ]
  },
  {
   "cell_type": "markdown",
   "id": "20ef1026",
   "metadata": {},
   "source": [
    "``` python\n",
    "    ## The above RandomForest Model is equal to the following Bagging\n",
    "    equal_forest = BaggingClassifier( \n",
    "                                    base_estimator=DecisionTreeClassifier(max_depth=3, \n",
    "                                                                          splitter='random',   ## random split\n",
    "                                                                          criterion='gini', \n",
    "                                                                          max_leaf_nodes=20), \n",
    "                                    n_estimators=100,\n",
    "                                    max_features=1.0, \n",
    "                                    max_samples=0.8\n",
    "                                    )\n",
    "\n",
    "    ## Instead of using this technique --> we always use RandomForest provided in sklearn\n",
    "```"
   ]
  },
  {
   "cell_type": "markdown",
   "id": "cbe29fb9",
   "metadata": {},
   "source": [
    "### `Feature Importance using RF`"
   ]
  },
  {
   "cell_type": "code",
   "execution_count": 23,
   "id": "ac56f785",
   "metadata": {},
   "outputs": [],
   "source": [
    "## Getting the Features Importance (they are normalized in RF, sum=1)\n",
    "feat_dict = {}      ## to append in it\n",
    "for name, score in zip(iris_dataset['feature_names'], forest_clf.feature_importances_):  ## using the attribute provided\n",
    "    feat_dict[name] = score\n",
    "\n",
    "## Features are keys, Importance is the value\n",
    "keys_forest = feat_dict.keys()\n",
    "values_forest = feat_dict.values()"
   ]
  },
  {
   "cell_type": "code",
   "execution_count": 24,
   "id": "3ee47c55",
   "metadata": {
    "scrolled": false
   },
   "outputs": [
    {
     "data": {
      "image/png": "[encoded data removed]",
      "text/plain": [
       "<Figure size 864x576 with 1 Axes>"
      ]
     },
     "metadata": {
      "needs_background": "light"
     },
     "output_type": "display_data"
    }
   ],
   "source": [
    "## to DF and then plotting\n",
    "df_feat_import_forest = pd.DataFrame({'Features': keys_forest, 'Scores': values_forest})\n",
    "df_feat_import_forest = df_feat_import_forest.sort_values(by='Scores', ascending=False)\n",
    "\n",
    "## plotting\n",
    "plt.figure(figsize=(12, 8))\n",
    "plt.barh(y=df_feat_import_forest['Features'], width=df_feat_import_forest['Scores'])\n",
    "plt.title('Featutre Importance for RandomForest Model', fontsize=16, c='k')\n",
    "plt.xlabel('Scores', fontsize=16, c='k')\n",
    "plt.ylabel('Features', fontsize=16, c='k')\n",
    "plt.xticks(c='k', fontsize=12)\n",
    "plt.yticks(c='k', fontsize=12)\n",
    "plt.grid('on')\n",
    "plt.show()"
   ]
  },
  {
   "cell_type": "markdown",
   "id": "65573ea1",
   "metadata": {},
   "source": [
    "### `Boosting`\n",
    "* > `The general idea of most boosting methods is to train predictors \"sequentially\", each trying to correct its predecessor. `"
   ]
  },
  {
   "cell_type": "markdown",
   "id": "6d647019",
   "metadata": {},
   "source": [
    "### `Adaboost`"
   ]
  },
  {
   "cell_type": "code",
   "execution_count": 25,
   "id": "0e660741",
   "metadata": {},
   "outputs": [
    {
     "data": {
      "text/plain": [
       "AdaBoostClassifier(base_estimator=DecisionTreeClassifier(max_depth=3),\n",
       "                   learning_rate=0.5, n_estimators=100)"
      ]
     },
     "execution_count": 25,
     "metadata": {},
     "output_type": "execute_result"
    }
   ],
   "source": [
    "## using adaboost for DT as the base estimator\n",
    "adaboost_clf = AdaBoostClassifier(\n",
    "                                    base_estimator=DecisionTreeClassifier(criterion='gini', max_depth=3), \n",
    "                                    n_estimators=100, \n",
    "                                    algorithm='SAMME.R', \n",
    "                                    learning_rate=0.5\n",
    "                                  )\n",
    "adaboost_clf.fit(X_train, y_train)  ## train"
   ]
  },
  {
   "cell_type": "code",
   "execution_count": 26,
   "id": "291204cc",
   "metadata": {},
   "outputs": [
    {
     "name": "stdout",
     "output_type": "stream",
     "text": [
      "Accuracy (Mean) scores using \"Adaboost\" -- 0.933\n"
     ]
    }
   ],
   "source": [
    "## Using cross validation for prediction and evaluation\n",
    "acc_scores_adaboost = cross_val_score(estimator=adaboost_clf, X=X_train, y=y_train, cv=5, n_jobs=-1, scoring='accuracy')\n",
    "print(f'Accuracy (Mean) scores using \"Adaboost\" -- {acc_scores_adaboost.mean():.3f}', )\n",
    "\n",
    "## Prediction using cross validation\n",
    "y_pred_adaboost = cross_val_predict(estimator=adaboost_clf, X=X_train, y=y_train, cv=5, n_jobs=-1, method='predict')"
   ]
  },
  {
   "cell_type": "markdown",
   "id": "cc78955a",
   "metadata": {},
   "source": [
    "### `Gradient Bossting`\n",
    "* > `A simpler way to train GB ensembles is to use Scikit-Learn’s GradientBoostingRegressor class,  Much like the RandomForestRegressor class, it has hyperparameters to control the growth of Decision Trees, The same is done for classification`"
   ]
  },
  {
   "cell_type": "code",
   "execution_count": 27,
   "id": "0f6791c6",
   "metadata": {},
   "outputs": [
    {
     "data": {
      "text/plain": [
       "GradientBoostingClassifier(n_estimators=150)"
      ]
     },
     "execution_count": 27,
     "metadata": {},
     "output_type": "execute_result"
    }
   ],
   "source": [
    "## The learning_rate hyperparameter scales the contribution of each tree. If you set it to a low value, such as 0.1 ..\n",
    "## you will need more trees in the ensemble to fit the training set, but the predictions will usually generalize better\n",
    "## learning_rate works as (Regularization technique called 'shrinkage')\n",
    "gradBoost_clf = GradientBoostingClassifier(n_estimators=150, max_depth=3, learning_rate=0.1)\n",
    "gradBoost_clf.fit(X_train, y_train)  ## train"
   ]
  },
  {
   "cell_type": "code",
   "execution_count": 28,
   "id": "18268000",
   "metadata": {},
   "outputs": [
    {
     "name": "stdout",
     "output_type": "stream",
     "text": [
      "Accuracy (Mean) scores using \"GradientBoosting\" -- 0.940\n"
     ]
    }
   ],
   "source": [
    "## Using cross validation for prediction and evaluation\n",
    "acc_scores_gradBoost = cross_val_score(estimator=gradBoost_clf, X=X_train, y=y_train, cv=5, n_jobs=-1, scoring='accuracy')\n",
    "print(f'Accuracy (Mean) scores using \"GradientBoosting\" -- {acc_scores_gradBoost.mean():.3f}', )\n",
    "\n",
    "## Prediction using cross validation\n",
    "y_pred_gradBoost = cross_val_predict(estimator=gradBoost_clf, X=X_train, y=y_train, cv=5, n_jobs=-1, method='predict')"
   ]
  },
  {
   "cell_type": "markdown",
   "id": "01fccd7a",
   "metadata": {},
   "source": [
    "### `XGBoost`\n",
    "* > `If I will train one model and tune one model and I don't have time to think a lot, of course I will choose it`"
   ]
  },
  {
   "cell_type": "code",
   "execution_count": 29,
   "id": "c4a77c52",
   "metadata": {},
   "outputs": [
    {
     "name": "stdout",
     "output_type": "stream",
     "text": [
      "[01:29:40] WARNING: C:/Users/Administrator/workspace/xgboost-win64_release_1.5.1/src/learner.cc:1115: Starting in XGBoost 1.3.0, the default evaluation metric used with the objective 'multi:softprob' was changed from 'merror' to 'mlogloss'. Explicitly set eval_metric if you'd like to restore the old behavior.\n"
     ]
    },
    {
     "data": {
      "text/plain": [
       "XGBClassifier(base_score=0.5, booster='gbtree', colsample_bylevel=1,\n",
       "              colsample_bynode=1, colsample_bytree=1, enable_categorical=False,\n",
       "              gamma=0, gpu_id=-1, importance_type=None,\n",
       "              interaction_constraints='', learning_rate=0.01, max_delta_step=0,\n",
       "              max_depth=6, min_child_weight=1, missing=nan,\n",
       "              monotone_constraints='()', n_estimators=500, n_jobs=8,\n",
       "              num_parallel_tree=1, objective='multi:softprob', predictor='auto',\n",
       "              random_state=0, reg_alpha=0, reg_lambda=1, scale_pos_weight=None,\n",
       "              subsample=1, tree_method='exact', use_label_encoder=False,\n",
       "              validate_parameters=1, verbosity=None)"
      ]
     },
     "execution_count": 29,
     "metadata": {},
     "output_type": "execute_result"
    }
   ],
   "source": [
    "## XGBoost is an API, not an algorithm, it is the implementation of Gradient Boosting, but much faster and strong\n",
    "## I recommend you to know much more about xgboost --> it is very powerfull API\n",
    "\n",
    "## objective --> 'multi:softproba' ---> for multiclassification\n",
    "## objective --> 'binary:logistic' ---> for binaryclassification\n",
    "\n",
    "## Here I tried to put some Hyperparams\n",
    "xgb_clf = xgb.XGBClassifier(objective='multi:softprob',   ## The most one according to your task (here, Multiclass class.)\n",
    "                            learning_rate=0.01,           ## eta or learning_rate \n",
    "                            n_estimators=500,             ## number of trees\n",
    "                            use_label_encoder=False,)     ## only to remove the warning\n",
    "xgb_clf.fit(X_train, y_train)  ## train, deal with it as an ordinary model"
   ]
  },
  {
   "cell_type": "code",
   "execution_count": 30,
   "id": "61e386c7",
   "metadata": {},
   "outputs": [
    {
     "name": "stdout",
     "output_type": "stream",
     "text": [
      "Accuracy (Mean) scores using \"XGBoost\" -- 0.947\n"
     ]
    }
   ],
   "source": [
    "## Using cross validation for prediction and evaluation\n",
    "acc_scores_xgboost = cross_val_score(estimator=xgb_clf, X=X_train, y=y_train, cv=5, n_jobs=-1, scoring='accuracy')\n",
    "print(f'Accuracy (Mean) scores using \"XGBoost\" -- {acc_scores_xgboost.mean():.3f}', )\n",
    "\n",
    "## Prediction using cross validation\n",
    "y_pred_xgboost = cross_val_predict(estimator=xgb_clf, X=X_train, y=y_train, cv=5, n_jobs=-1, method='predict')"
   ]
  },
  {
   "cell_type": "markdown",
   "id": "fc958af1",
   "metadata": {},
   "source": [
    "### `Done`"
   ]
  }
 ],
 "metadata": {
  "kernelspec": {
   "display_name": "Python 3 (ipykernel)",
   "language": "python",
   "name": "python3"
  },
  "language_info": {
   "codemirror_mode": {
    "name": "ipython",
    "version": 3
   },
   "file_extension": ".py",
   "mimetype": "text/x-python",
   "name": "python",
   "nbconvert_exporter": "python",
   "pygments_lexer": "ipython3",
   "version": "3.9.7"
  }
 },
 "nbformat": 4,
 "nbformat_minor": 5
}
