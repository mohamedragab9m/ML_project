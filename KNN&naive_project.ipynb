{
 "cells": [
  {
   "cell_type": "markdown",
   "id": "237c4f55",
   "metadata": {},
   "source": [
    "### `Import the Main Libraries`"
   ]
  },
  {
   "cell_type": "code",
   "execution_count": 1,
   "id": "04d1f2db",
   "metadata": {},
   "outputs": [],
   "source": [
    "## Main Libraries\n",
    "import numpy as np\n",
    "import pandas as pd\n",
    "import matplotlib.pyplot as plt\n",
    "%matplotlib inline\n",
    "import seaborn as sns\n",
    "import joblib\n",
    "\n",
    "## Embeded Datasets\n",
    "from sklearn import datasets\n",
    "\n",
    "## Preprocessing\n",
    "from sklearn.model_selection import cross_val_score, cross_val_predict\n",
    "\n",
    "## Metrics\n",
    "from sklearn.metrics import accuracy_score, precision_score, recall_score, f1_score\n",
    "from sklearn.metrics import classification_report, confusion_matrix\n",
    "from sklearn.metrics import precision_recall_curve, roc_curve, roc_auc_score\n",
    "\n",
    "## Algorithm\n",
    "from sklearn.linear_model import SGDClassifier, LogisticRegression\n",
    "from sklearn.neighbors import KNeighborsClassifier\n",
    "from sklearn.multiclass import OneVsOneClassifier\n",
    "from sklearn.naive_bayes import GaussianNB, MultinomialNB, BernoulliNB"
   ]
  },
  {
   "cell_type": "markdown",
   "id": "2cf67741",
   "metadata": {},
   "source": [
    "### `Load the Dataset and Look at the big Picture`"
   ]
  },
  {
   "cell_type": "code",
   "execution_count": 2,
   "id": "a1c754e7",
   "metadata": {},
   "outputs": [],
   "source": [
    "## Load the MNIST Dataset --> using the embeded version of data in sklearn\n",
    "## You can download it manually and read it as CSV file\n",
    "mnsit_dataset = datasets.fetch_openml('mnist_784', version=1)"
   ]
  },
  {
   "cell_type": "code",
   "execution_count": 3,
   "id": "4e0be44c",
   "metadata": {},
   "outputs": [
    {
     "data": {
      "text/plain": [
       "dict_keys(['data', 'target', 'frame', 'categories', 'feature_names', 'target_names', 'DESCR', 'details', 'url'])"
      ]
     },
     "execution_count": 3,
     "metadata": {},
     "output_type": "execute_result"
    }
   ],
   "source": [
    "## Check the keys of the Dataset\n",
    "mnsit_dataset.keys()             ## each keys represent some information or data"
   ]
  },
  {
   "cell_type": "code",
   "execution_count": 4,
   "id": "5450516e",
   "metadata": {},
   "outputs": [
    {
     "data": {
      "text/html": [
       "<div>\n",
       "<style scoped>\n",
       "    .dataframe tbody tr th:only-of-type {\n",
       "        vertical-align: middle;\n",
       "    }\n",
       "\n",
       "    .dataframe tbody tr th {\n",
       "        vertical-align: top;\n",
       "    }\n",
       "\n",
       "    .dataframe thead th {\n",
       "        text-align: right;\n",
       "    }\n",
       "</style>\n",
       "<table border=\"1\" class=\"dataframe\">\n",
       "  <thead>\n",
       "    <tr style=\"text-align: right;\">\n",
       "      <th></th>\n",
       "      <th>pixel1</th>\n",
       "      <th>pixel2</th>\n",
       "      <th>pixel3</th>\n",
       "      <th>pixel4</th>\n",
       "      <th>pixel5</th>\n",
       "      <th>pixel6</th>\n",
       "      <th>pixel7</th>\n",
       "      <th>pixel8</th>\n",
       "      <th>pixel9</th>\n",
       "      <th>pixel10</th>\n",
       "      <th>...</th>\n",
       "      <th>pixel776</th>\n",
       "      <th>pixel777</th>\n",
       "      <th>pixel778</th>\n",
       "      <th>pixel779</th>\n",
       "      <th>pixel780</th>\n",
       "      <th>pixel781</th>\n",
       "      <th>pixel782</th>\n",
       "      <th>pixel783</th>\n",
       "      <th>pixel784</th>\n",
       "      <th>target</th>\n",
       "    </tr>\n",
       "  </thead>\n",
       "  <tbody>\n",
       "    <tr>\n",
       "      <th>0</th>\n",
       "      <td>0.0</td>\n",
       "      <td>0.0</td>\n",
       "      <td>0.0</td>\n",
       "      <td>0.0</td>\n",
       "      <td>0.0</td>\n",
       "      <td>0.0</td>\n",
       "      <td>0.0</td>\n",
       "      <td>0.0</td>\n",
       "      <td>0.0</td>\n",
       "      <td>0.0</td>\n",
       "      <td>...</td>\n",
       "      <td>0.0</td>\n",
       "      <td>0.0</td>\n",
       "      <td>0.0</td>\n",
       "      <td>0.0</td>\n",
       "      <td>0.0</td>\n",
       "      <td>0.0</td>\n",
       "      <td>0.0</td>\n",
       "      <td>0.0</td>\n",
       "      <td>0.0</td>\n",
       "      <td>5</td>\n",
       "    </tr>\n",
       "    <tr>\n",
       "      <th>1</th>\n",
       "      <td>0.0</td>\n",
       "      <td>0.0</td>\n",
       "      <td>0.0</td>\n",
       "      <td>0.0</td>\n",
       "      <td>0.0</td>\n",
       "      <td>0.0</td>\n",
       "      <td>0.0</td>\n",
       "      <td>0.0</td>\n",
       "      <td>0.0</td>\n",
       "      <td>0.0</td>\n",
       "      <td>...</td>\n",
       "      <td>0.0</td>\n",
       "      <td>0.0</td>\n",
       "      <td>0.0</td>\n",
       "      <td>0.0</td>\n",
       "      <td>0.0</td>\n",
       "      <td>0.0</td>\n",
       "      <td>0.0</td>\n",
       "      <td>0.0</td>\n",
       "      <td>0.0</td>\n",
       "      <td>0</td>\n",
       "    </tr>\n",
       "    <tr>\n",
       "      <th>2</th>\n",
       "      <td>0.0</td>\n",
       "      <td>0.0</td>\n",
       "      <td>0.0</td>\n",
       "      <td>0.0</td>\n",
       "      <td>0.0</td>\n",
       "      <td>0.0</td>\n",
       "      <td>0.0</td>\n",
       "      <td>0.0</td>\n",
       "      <td>0.0</td>\n",
       "      <td>0.0</td>\n",
       "      <td>...</td>\n",
       "      <td>0.0</td>\n",
       "      <td>0.0</td>\n",
       "      <td>0.0</td>\n",
       "      <td>0.0</td>\n",
       "      <td>0.0</td>\n",
       "      <td>0.0</td>\n",
       "      <td>0.0</td>\n",
       "      <td>0.0</td>\n",
       "      <td>0.0</td>\n",
       "      <td>4</td>\n",
       "    </tr>\n",
       "    <tr>\n",
       "      <th>3</th>\n",
       "      <td>0.0</td>\n",
       "      <td>0.0</td>\n",
       "      <td>0.0</td>\n",
       "      <td>0.0</td>\n",
       "      <td>0.0</td>\n",
       "      <td>0.0</td>\n",
       "      <td>0.0</td>\n",
       "      <td>0.0</td>\n",
       "      <td>0.0</td>\n",
       "      <td>0.0</td>\n",
       "      <td>...</td>\n",
       "      <td>0.0</td>\n",
       "      <td>0.0</td>\n",
       "      <td>0.0</td>\n",
       "      <td>0.0</td>\n",
       "      <td>0.0</td>\n",
       "      <td>0.0</td>\n",
       "      <td>0.0</td>\n",
       "      <td>0.0</td>\n",
       "      <td>0.0</td>\n",
       "      <td>1</td>\n",
       "    </tr>\n",
       "    <tr>\n",
       "      <th>4</th>\n",
       "      <td>0.0</td>\n",
       "      <td>0.0</td>\n",
       "      <td>0.0</td>\n",
       "      <td>0.0</td>\n",
       "      <td>0.0</td>\n",
       "      <td>0.0</td>\n",
       "      <td>0.0</td>\n",
       "      <td>0.0</td>\n",
       "      <td>0.0</td>\n",
       "      <td>0.0</td>\n",
       "      <td>...</td>\n",
       "      <td>0.0</td>\n",
       "      <td>0.0</td>\n",
       "      <td>0.0</td>\n",
       "      <td>0.0</td>\n",
       "      <td>0.0</td>\n",
       "      <td>0.0</td>\n",
       "      <td>0.0</td>\n",
       "      <td>0.0</td>\n",
       "      <td>0.0</td>\n",
       "      <td>9</td>\n",
       "    </tr>\n",
       "  </tbody>\n",
       "</table>\n",
       "<p>5 rows × 785 columns</p>\n",
       "</div>"
      ],
      "text/plain": [
       "  pixel1 pixel2 pixel3 pixel4 pixel5 pixel6 pixel7 pixel8 pixel9 pixel10  ...  \\\n",
       "0    0.0    0.0    0.0    0.0    0.0    0.0    0.0    0.0    0.0     0.0  ...   \n",
       "1    0.0    0.0    0.0    0.0    0.0    0.0    0.0    0.0    0.0     0.0  ...   \n",
       "2    0.0    0.0    0.0    0.0    0.0    0.0    0.0    0.0    0.0     0.0  ...   \n",
       "3    0.0    0.0    0.0    0.0    0.0    0.0    0.0    0.0    0.0     0.0  ...   \n",
       "4    0.0    0.0    0.0    0.0    0.0    0.0    0.0    0.0    0.0     0.0  ...   \n",
       "\n",
       "  pixel776 pixel777 pixel778 pixel779 pixel780 pixel781 pixel782 pixel783  \\\n",
       "0      0.0      0.0      0.0      0.0      0.0      0.0      0.0      0.0   \n",
       "1      0.0      0.0      0.0      0.0      0.0      0.0      0.0      0.0   \n",
       "2      0.0      0.0      0.0      0.0      0.0      0.0      0.0      0.0   \n",
       "3      0.0      0.0      0.0      0.0      0.0      0.0      0.0      0.0   \n",
       "4      0.0      0.0      0.0      0.0      0.0      0.0      0.0      0.0   \n",
       "\n",
       "  pixel784 target  \n",
       "0      0.0      5  \n",
       "1      0.0      0  \n",
       "2      0.0      4  \n",
       "3      0.0      1  \n",
       "4      0.0      9  \n",
       "\n",
       "[5 rows x 785 columns]"
      ]
     },
     "execution_count": 4,
     "metadata": {},
     "output_type": "execute_result"
    }
   ],
   "source": [
    "## Let's create a DF \n",
    "## I will do it in my preferable fast way\n",
    "df_mnist = pd.DataFrame(np.c_[mnsit_dataset['data'], mnsit_dataset['target']], \n",
    "                        columns=mnsit_dataset['feature_names']+['target'])\n",
    "\n",
    "## check the head\n",
    "df_mnist.head()"
   ]
  },
  {
   "cell_type": "code",
   "execution_count": 5,
   "id": "dc5ac893",
   "metadata": {},
   "outputs": [
    {
     "name": "stdout",
     "output_type": "stream",
     "text": [
      "<class 'pandas.core.frame.DataFrame'>\n",
      "RangeIndex: 70000 entries, 0 to 69999\n",
      "Columns: 785 entries, pixel1 to target\n",
      "dtypes: object(785)\n",
      "memory usage: 419.2+ MB\n"
     ]
    }
   ],
   "source": [
    "## check info\n",
    "df_mnist.info()   ## object --> take care --> to numerical values"
   ]
  },
  {
   "cell_type": "code",
   "execution_count": 6,
   "id": "47992089",
   "metadata": {},
   "outputs": [
    {
     "name": "stdout",
     "output_type": "stream",
     "text": [
      "<class 'pandas.core.frame.DataFrame'>\n",
      "RangeIndex: 70000 entries, 0 to 69999\n",
      "Columns: 785 entries, pixel1 to target\n",
      "dtypes: int32(785)\n",
      "memory usage: 209.6 MB\n"
     ]
    }
   ],
   "source": [
    "## convert to numerical values\n",
    "df_mnist = df_mnist.astype(np.int32)   ## overwrite the DF\n",
    "\n",
    "## check the info again\n",
    "df_mnist.info()"
   ]
  },
  {
   "cell_type": "markdown",
   "id": "e1b8d85c",
   "metadata": {},
   "source": [
    "### `Exploratory Data Analysis (EDA)`"
   ]
  },
  {
   "cell_type": "code",
   "execution_count": 7,
   "id": "8ed9427d",
   "metadata": {},
   "outputs": [
    {
     "data": {
      "image/png": "[encoded data removed]",
      "text/plain": [
       "<Figure size 432x288 with 1 Axes>"
      ]
     },
     "metadata": {
      "needs_background": "light"
     },
     "output_type": "display_data"
    }
   ],
   "source": [
    "## Let's check some instances \n",
    "## first instance  --> take only the Features not the target\n",
    "first_img = df_mnist.iloc[0, :]\n",
    "first_img_feat = first_img[:-1].values.reshape(28, 28)  ## Features reshaped to be image (28, 28)\n",
    "first_img_label = first_img[-1]                         ## target of the same instance\n",
    "\n",
    "\n",
    "## Plotting the image -- using any method (PILLOW, Keras, Sklearn, Skimage, matplotlib (below))\n",
    "plt.imshow(first_img_feat, cmap='binary')\n",
    "plt.title(f'Label is --- {first_img_label}', fontsize=16, color='b')\n",
    "plt.axis('off')\n",
    "plt.show()   ## Right"
   ]
  },
  {
   "cell_type": "code",
   "execution_count": 8,
   "id": "6ff733f1",
   "metadata": {},
   "outputs": [
    {
     "data": {
      "image/png": "[encoded data removed]",
      "text/plain": [
       "<Figure size 1008x576 with 10 Axes>"
      ]
     },
     "metadata": {
      "needs_background": "light"
     },
     "output_type": "display_data"
    }
   ],
   "source": [
    "## We want to get an instance for each unique target and plot it\n",
    "## Read the code carefully --> trace it line by line, point by point\n",
    "\n",
    "target_values = df_mnist['target'].unique()\n",
    "\n",
    "img_key_value = {}    ## to append in it\n",
    "for key in target_values:\n",
    "    img_key_value[key] = df_mnist[df_mnist['target']==target_values[key]].iloc[0][:-1].values.reshape(28, 28)\n",
    "    \n",
    "\n",
    "    \n",
    "## Split the labels -- which are the keys of the dictionary\n",
    "img_label = list(img_key_value.keys())\n",
    "\n",
    "## Plotting\n",
    "fig, ax = plt.subplots(2, 5, figsize=(14, 8))   ## 10 values\n",
    "\n",
    "i = 0\n",
    "for row in range(2):\n",
    "    for col in range(5):\n",
    "        plt.sca(ax[row, col])\n",
    "        plt.title(f'label = {img_label[i]}', fontsize=16, color='b')   ## label \n",
    "        plt.imshow(img_key_value[i], cmap='binary')  ## image itself\n",
    "        plt.axis('off')\n",
    "        i+=1                       ## OK"
   ]
  },
  {
   "cell_type": "markdown",
   "id": "2f741c23",
   "metadata": {},
   "source": [
    "### `Preprocessing`"
   ]
  },
  {
   "cell_type": "code",
   "execution_count": 9,
   "id": "b99546d3",
   "metadata": {},
   "outputs": [],
   "source": [
    "## Split to Features and traget\n",
    "X = df_mnist.drop(columns=['target'], axis=1)\n",
    "y = df_mnist['target']"
   ]
  },
  {
   "cell_type": "code",
   "execution_count": 10,
   "id": "ad662f58",
   "metadata": {},
   "outputs": [
    {
     "data": {
      "text/plain": [
       "255"
      ]
     },
     "execution_count": 10,
     "metadata": {},
     "output_type": "execute_result"
    }
   ],
   "source": [
    "## No Imputing, No encoding\n",
    "max_value = np.max(X.max(axis=0))\n",
    "max_value"
   ]
  },
  {
   "cell_type": "code",
   "execution_count": 11,
   "id": "8dad3c17",
   "metadata": {},
   "outputs": [],
   "source": [
    "## Standardize by dividing by 255 to be range (0 - 1) instead of (0 - 255)\n",
    "## You can split first to train, test and then divide by 255, or do the opposite thing here --> the same here --> WHY ?\n",
    "\n",
    "## I will divide first then split the dataset to train, test\n",
    "X = X / 255."
   ]
  },
  {
   "cell_type": "markdown",
   "id": "30484fa7",
   "metadata": {},
   "source": [
    "### `Split the Dataset`"
   ]
  },
  {
   "cell_type": "code",
   "execution_count": 12,
   "id": "1b45eb59",
   "metadata": {},
   "outputs": [
    {
     "name": "stdout",
     "output_type": "stream",
     "text": [
      "X_train shape --  (60000, 784)\n",
      "y_train shape --  (60000,)\n",
      "X_test shape --  (10000, 784)\n",
      "y_test shape --  (10000,)\n"
     ]
    }
   ],
   "source": [
    "## First 60000 to train, and the other to test, for validation I will use cross validation\n",
    "X_train, X_test, y_train, y_test = X[:60000], X[60000:], y[:60000], y[60000:]   \n",
    "\n",
    "## check the shapes\n",
    "print('X_train shape -- ', X_train.shape)\n",
    "print('y_train shape -- ', y_train.shape)\n",
    "print('X_test shape -- ', X_test.shape)\n",
    "print('y_test shape -- ', y_test.shape)"
   ]
  },
  {
   "cell_type": "markdown",
   "id": "ee534f15",
   "metadata": {},
   "source": [
    "### `Firstly, Binary Classification`"
   ]
  },
  {
   "cell_type": "code",
   "execution_count": 13,
   "id": "9903095d",
   "metadata": {},
   "outputs": [],
   "source": [
    "## Binary classification (True or 1 --> for target is 5) & (False or 0 --> for other target)\n",
    "y_train_5 = (y_train==5)\n",
    "y_test_5 = (y_test==5)"
   ]
  },
  {
   "cell_type": "markdown",
   "id": "ddf8c80f",
   "metadata": {},
   "source": [
    "### `Build the Model`"
   ]
  },
  {
   "cell_type": "markdown",
   "id": "0b54b8a3",
   "metadata": {},
   "source": [
    "### `SGDClassifier`"
   ]
  },
  {
   "cell_type": "code",
   "execution_count": 14,
   "id": "8573e792",
   "metadata": {},
   "outputs": [
    {
     "data": {
      "text/plain": [
       "SGDClassifier(penalty=None, random_state=42)"
      ]
     },
     "execution_count": 14,
     "metadata": {},
     "output_type": "execute_result"
    }
   ],
   "source": [
    "## Let's try SGD\n",
    "sgd_clf = SGDClassifier(penalty=None, random_state=42)\n",
    "sgd_clf.fit(X_train, y_train_5)    ## train for only binary classification (target is something or not) (True or False)"
   ]
  },
  {
   "cell_type": "code",
   "execution_count": 15,
   "id": "f5196e4c",
   "metadata": {},
   "outputs": [
    {
     "name": "stdout",
     "output_type": "stream",
     "text": [
      "Mean of Accuracy Scores using SGD --  0.9676\n",
      "Std of Accuracy Scores using SGD --  0.001664498589832831\n"
     ]
    }
   ],
   "source": [
    "## Validation --> Using Cross validation\n",
    "sgd_acc_scores_valid = cross_val_score(estimator=sgd_clf, X=X_train, y=y_train_5, cv=5, scoring='accuracy', n_jobs=-1)\n",
    "\n",
    "## Get the Mean and std\n",
    "print('Mean of Accuracy Scores using SGD -- ', sgd_acc_scores_valid.mean())\n",
    "print('Std of Accuracy Scores using SGD -- ', sgd_acc_scores_valid.std())"
   ]
  },
  {
   "cell_type": "markdown",
   "id": "fa1845f1",
   "metadata": {},
   "source": [
    "* > `It seems that the Accuracy is very high --> something wrong -----------> talking with Instructor and spend much time here -----> Why is this happening ?`"
   ]
  },
  {
   "cell_type": "markdown",
   "id": "b22b3532",
   "metadata": {},
   "source": [
    "### `Other Metrics`"
   ]
  },
  {
   "cell_type": "code",
   "execution_count": 16,
   "id": "a843a74a",
   "metadata": {},
   "outputs": [],
   "source": [
    "## Predict for validation --> using (predict) method\n",
    "y_pred_sgd_valid = cross_val_predict(estimator=sgd_clf, X=X_train, y=y_train_5, cv=5, n_jobs=-1, method='predict')"
   ]
  },
  {
   "cell_type": "code",
   "execution_count": 17,
   "id": "16f0c62f",
   "metadata": {},
   "outputs": [
    {
     "name": "stdout",
     "output_type": "stream",
     "text": [
      "confmat_sgd =>\n",
      " [[53578  1001]\n",
      " [  943  4478]]\n",
      "------------------------------------------------------------\n"
     ]
    },
    {
     "data": {
      "image/png": "[encoded data removed]",
      "text/plain": [
       "<Figure size 720x432 with 1 Axes>"
      ]
     },
     "metadata": {
      "needs_background": "light"
     },
     "output_type": "display_data"
    }
   ],
   "source": [
    "## confusion Matrix\n",
    "confmat_sgd = confusion_matrix(y_train_5, y_pred_sgd_valid)\n",
    "print('confmat_sgd =>\\n', confmat_sgd)\n",
    "\n",
    "print('--'*30)\n",
    "\n",
    "\n",
    "## Plotting as a HeatMap\n",
    "plt.figure(figsize=(10, 6))\n",
    "sns.heatmap(confmat_sgd, fmt='g', annot=True, cbar=False, vmin=0, cmap='Blues')\n",
    "plt.xticks(ticks=np.arange(2) + 0.5, labels=['False', 'True'])   ## to only handle the names in proper way\n",
    "plt.yticks(ticks=np.arange(2) + 0.5, labels=['False', 'True'])   ## to only handle the names in proper way\n",
    "plt.xlabel('Predicted', fontsize=14, color='b')\n",
    "plt.ylabel('Actual', fontsize=14, color='b')\n",
    "plt.title('Confusion Matrix', fontsize=14, color='b')\n",
    "plt.show()"
   ]
  },
  {
   "cell_type": "code",
   "execution_count": 18,
   "id": "e55299d9",
   "metadata": {},
   "outputs": [
    {
     "name": "stdout",
     "output_type": "stream",
     "text": [
      "Precison Score using SGD => 0.8173024274502646\n",
      "------------------------------------------------------------\n",
      "Recall Score using SGD => 0.8260468548238332\n",
      "------------------------------------------------------------\n",
      "Classifcation Report using SGD => \n",
      "               precision    recall  f1-score   support\n",
      "\n",
      "       False       0.98      0.98      0.98     54579\n",
      "        True       0.82      0.83      0.82      5421\n",
      "\n",
      "    accuracy                           0.97     60000\n",
      "   macro avg       0.90      0.90      0.90     60000\n",
      "weighted avg       0.97      0.97      0.97     60000\n",
      "\n"
     ]
    }
   ],
   "source": [
    "## Precision and Recall score\n",
    "precison_score_sgd = precision_score(y_train_5, y_pred_sgd_valid)\n",
    "print('Precison Score using SGD =>', precison_score_sgd)\n",
    "\n",
    "print('---'*20)\n",
    "\n",
    "recall_score_sgd = recall_score(y_train_5, y_pred_sgd_valid)\n",
    "print('Recall Score using SGD =>', recall_score_sgd)\n",
    "\n",
    "print('---'*20)\n",
    "\n",
    "class_repo_sgd = classification_report(y_train_5, y_pred_sgd_valid)\n",
    "print('Classifcation Report using SGD => \\n', class_repo_sgd)"
   ]
  },
  {
   "cell_type": "code",
   "execution_count": 19,
   "id": "96439857",
   "metadata": {},
   "outputs": [
    {
     "name": "stdout",
     "output_type": "stream",
     "text": [
      "F1 Score using SGD => 0.821651376146789\n"
     ]
    }
   ],
   "source": [
    "## to get f1_score\n",
    "f1_score_sgd = f1_score(y_train_5, y_pred_sgd_valid)\n",
    "print('F1 Score using SGD =>', f1_score_sgd)"
   ]
  },
  {
   "cell_type": "markdown",
   "id": "828d9b4a",
   "metadata": {},
   "source": [
    "### `Precision/Recall Tradeoff`\n",
    "\n",
    "* `Scikit-Learn does not let you set the threshold directly, but it does give you access to the decision scores that it uses to make predictions.` \n",
    "* `Instead of calling the classifier’s predict() method.`\n",
    "* `You can call its decision_function() method, which returns a score for each instance, and then make predictions based on those scores using any threshold you want.`"
   ]
  },
  {
   "cell_type": "code",
   "execution_count": 20,
   "id": "f8e18c13",
   "metadata": {},
   "outputs": [],
   "source": [
    "## To get the score (that will be compared to threshold)\n",
    "\n",
    "## Using the (decision_function) provided in sklearn\n",
    "y_scores_sgd = cross_val_predict(estimator=sgd_clf, X=X_train, y=y_train_5, cv=5, n_jobs=-1, method='decision_function')"
   ]
  },
  {
   "cell_type": "code",
   "execution_count": 21,
   "id": "371b8942",
   "metadata": {},
   "outputs": [],
   "source": [
    "## Using these scores to get precision and recall at different thresholds\n",
    "precision_vals, recall_vals, thresholds_vals = precision_recall_curve(y_train_5, y_scores_sgd)"
   ]
  },
  {
   "cell_type": "markdown",
   "id": "ee463efe",
   "metadata": {},
   "source": [
    "#### `Precision & Recall & thresholds Curve`"
   ]
  },
  {
   "cell_type": "code",
   "execution_count": 22,
   "id": "aa9747e6",
   "metadata": {},
   "outputs": [
    {
     "data": {
      "image/png": "[encoded data removed]",
      "text/plain": [
       "<Figure size 720x432 with 1 Axes>"
      ]
     },
     "metadata": {
      "needs_background": "light"
     },
     "output_type": "display_data"
    }
   ],
   "source": [
    "## Precision and Recall Curve\n",
    "plt.figure(figsize=(10, 6))\n",
    "plt.plot(thresholds_vals, precision_vals[:-1], 'b--', label='Precision')\n",
    "plt.plot(thresholds_vals, recall_vals[:-1], 'g-', label='Recall')\n",
    "plt.title('Precision and Recall Tradeoff', fontsize=14)\n",
    "plt.xlabel('Thresholds', fontsize=14)\n",
    "plt.grid()\n",
    "plt.legend(fontsize=16)\n",
    "plt.show()"
   ]
  },
  {
   "cell_type": "code",
   "execution_count": 23,
   "id": "c8352df5",
   "metadata": {},
   "outputs": [
    {
     "name": "stdout",
     "output_type": "stream",
     "text": [
      "Precison Score using SGD at threshold=50 ----  0.9519230769230769\n",
      "Recall Score using SGD at threshold=50 ----  0.018262313226342003\n",
      "------------------------------------------------------------------------------------------\n",
      "Precison Score using SGD at threshold=-50 ----  0.10532708998648145\n",
      "Recall Score using SGD at threshold=-50 ----  0.991698948533481\n"
     ]
    }
   ],
   "source": [
    "## Try to change threshold from 0 to any number --> \n",
    "## more than 0 --> precision increases and recall decreases\n",
    "## less than 0 --> precision decreases and recall increases\n",
    "\n",
    "## Increase threshold to be more than 0\n",
    "precision_score_50 = precision_score(y_train_5, y_scores_sgd>50)\n",
    "recall_score_50 = recall_score(y_train_5, y_scores_sgd>50)\n",
    "print('Precison Score using SGD at threshold=50 ---- ', precision_score_50)\n",
    "print('Recall Score using SGD at threshold=50 ---- ', recall_score_50)\n",
    "\n",
    "print('---'*30)\n",
    "\n",
    "## Decrease threshold to be less than 0\n",
    "precision_score_50_minus = precision_score(y_train_5, y_scores_sgd>-50)\n",
    "recall_score_50_minus = recall_score(y_train_5, y_scores_sgd>-50)\n",
    "print('Precison Score using SGD at threshold=-50 ---- ', precision_score_50_minus)\n",
    "print('Recall Score using SGD at threshold=-50 ---- ', recall_score_50_minus)"
   ]
  },
  {
   "cell_type": "code",
   "execution_count": 24,
   "id": "15510fa5",
   "metadata": {},
   "outputs": [
    {
     "name": "stdout",
     "output_type": "stream",
     "text": [
      "Threshold which achieve Precision >= 90% ---- 3.7192\n",
      "Precison Score using SGD at threshold=3.719 ---- 0.900\n",
      "Recall Score using SGD at threshold=3.719 ---- 0.714\n"
     ]
    }
   ],
   "source": [
    "## What about choosing precision to be specific value --> Let's say, We want precision to be more than 90%\n",
    "## OK\n",
    "threshold_prec_90 = thresholds_vals[np.argmax(precision_vals >= 0.90)]   ## Threshold which achieve precision >= 90%\n",
    "print(f'Threshold which achieve Precision >= 90% ---- {threshold_prec_90:.4f}')\n",
    "\n",
    "## Prediction at specific threshold which achieve precision >= 90%\n",
    "y_pred_prec_90 = (y_scores_sgd >= threshold_prec_90)\n",
    "print(f'Precison Score using SGD at threshold={threshold_prec_90:.3f} ---- {precision_score(y_train_5, y_pred_prec_90):.3f}')\n",
    "print(f'Recall Score using SGD at threshold={threshold_prec_90:.3f} ---- {recall_score(y_train_5, y_pred_prec_90):.3f}')"
   ]
  },
  {
   "cell_type": "markdown",
   "id": "9f4221a7",
   "metadata": {},
   "source": [
    "#### `Precision & Recall  Curve`"
   ]
  },
  {
   "cell_type": "code",
   "execution_count": 25,
   "id": "52ac397a",
   "metadata": {},
   "outputs": [
    {
     "data": {
      "image/png": "[encoded data removed]",
      "text/plain": [
       "<Figure size 720x432 with 1 Axes>"
      ]
     },
     "metadata": {
      "needs_background": "light"
     },
     "output_type": "display_data"
    }
   ],
   "source": [
    "## Precision and Recall Curve\n",
    "plt.figure(figsize=(10, 6))\n",
    "plt.plot(recall_vals, precision_vals, 'b-')\n",
    "plt.title('Precision and Recall Tradeoff', fontsize=14)\n",
    "plt.xlabel('Recall (TPR)', fontsize=14)\n",
    "plt.ylabel('Precision', fontsize=14)\n",
    "## plotting the point at threshold=0 -- whis is our case here\n",
    "plt.scatter(recall_score_sgd, precison_score_sgd, color='r', marker='o', s=80)\n",
    "plt.vlines(ymin=0, ymax=precison_score_sgd, x=recall_score_sgd, linestyles='--', color='r')\n",
    "plt.hlines(xmin=0, xmax=recall_score_sgd, y=precison_score_sgd, linestyles='--', color='r')\n",
    "plt.grid()\n",
    "plt.xlim(0, 1)\n",
    "plt.ylim(0, 1)\n",
    "plt.show()"
   ]
  },
  {
   "cell_type": "markdown",
   "id": "8144147e",
   "metadata": {},
   "source": [
    "### `ROC Curve`\n",
    "`Receiver Operating Characteristic  (ROC)`"
   ]
  },
  {
   "cell_type": "code",
   "execution_count": 26,
   "id": "ab6ad20a",
   "metadata": {},
   "outputs": [
    {
     "data": {
      "image/png": "[encoded data removed]",
      "text/plain": [
       "<Figure size 720x432 with 1 Axes>"
      ]
     },
     "metadata": {
      "needs_background": "light"
     },
     "output_type": "display_data"
    }
   ],
   "source": [
    "## ROC Curve --> Binary Classification only\n",
    "fpr_sgd, tpr_sgd, thresholds_sgd = roc_curve(y_train_5, y_scores_sgd)\n",
    "\n",
    "\n",
    "## Plotting\n",
    "plt.figure(figsize=(10, 6))\n",
    "plt.plot(fpr_sgd, tpr_sgd, linewidth=2, color='b', label='SGDClassifier')\n",
    "plt.plot([1, 0], [1, 0], 'r--', label='Random Classifier')\n",
    "plt.scatter(0, 0, color='g', s=50)\n",
    "plt.scatter(1, 1, color='g', s=50)\n",
    "plt.title('ROC Curve')\n",
    "plt.xlabel('False Positive Rate (FPR)', fontsize=14)\n",
    "plt.ylabel('True Positive Rate (TPR = Recall)', fontsize=14)\n",
    "plt.legend(fontsize=12)\n",
    "plt.show()"
   ]
  },
  {
   "cell_type": "code",
   "execution_count": 27,
   "id": "db9b1826",
   "metadata": {},
   "outputs": [
    {
     "name": "stdout",
     "output_type": "stream",
     "text": [
      "Area Under Curve using SGD --  0.9653085940230138\n"
     ]
    }
   ],
   "source": [
    "## To get the AUC (Area under Curve) \n",
    "auc_sgd = roc_auc_score(y_train_5, y_scores_sgd)\n",
    "print('Area Under Curve using SGD -- ', auc_sgd)"
   ]
  },
  {
   "cell_type": "markdown",
   "id": "8abcb490",
   "metadata": {},
   "source": [
    "### `KNN`\n",
    "`Let's try another algorithm --- KNN`"
   ]
  },
  {
   "cell_type": "code",
   "execution_count": 28,
   "id": "ddd9e2cc",
   "metadata": {},
   "outputs": [
    {
     "data": {
      "text/plain": [
       "KNeighborsClassifier()"
      ]
     },
     "execution_count": 28,
     "metadata": {},
     "output_type": "execute_result"
    }
   ],
   "source": [
    "## intialize knn and fit and calculate cross_validation, get the scores, get different scores (precision, recall .......)\n",
    "knn_clf = KNeighborsClassifier(n_neighbors=5)\n",
    "knn_clf.fit(X_train, y_train_5)"
   ]
  },
  {
   "cell_type": "code",
   "execution_count": 29,
   "id": "dba5e7b7",
   "metadata": {},
   "outputs": [
    {
     "name": "stdout",
     "output_type": "stream",
     "text": [
      "Mean of Accuracy Scores using KNN --  0.9934666666666667\n",
      "Std of Accuracy Scores using KNN --  0.0008508166012067002\n"
     ]
    }
   ],
   "source": [
    "## Get the croos validation scores --> accuracy\n",
    "knn_acc_scores_valid = cross_val_score(knn_clf, X_train, y_train_5, cv=5, scoring='accuracy', n_jobs=-1)\n",
    "\n",
    "\n",
    "## Get the Mean and std\n",
    "print('Mean of Accuracy Scores using KNN -- ', knn_acc_scores_valid.mean())\n",
    "print('Std of Accuracy Scores using KNN -- ', knn_acc_scores_valid.std())"
   ]
  },
  {
   "cell_type": "code",
   "execution_count": 30,
   "id": "a225fc99",
   "metadata": {},
   "outputs": [],
   "source": [
    "## Predict for validation --> using (predict) method\n",
    "y_pred_knn_valid = cross_val_predict(estimator=knn_clf, X=X_train, y=y_train_5, cv=5, n_jobs=-1, method='predict')"
   ]
  },
  {
   "cell_type": "code",
   "execution_count": 31,
   "id": "1a09dc57",
   "metadata": {},
   "outputs": [
    {
     "name": "stdout",
     "output_type": "stream",
     "text": [
      "confmat_knn =>\n",
      " [[54428   151]\n",
      " [  241  5180]]\n",
      "------------------------------------------------------------\n"
     ]
    },
    {
     "data": {
      "image/png": "[encoded data removed]",
      "text/plain": [
       "<Figure size 720x432 with 1 Axes>"
      ]
     },
     "metadata": {
      "needs_background": "light"
     },
     "output_type": "display_data"
    }
   ],
   "source": [
    "## confusion Matrix\n",
    "confmat_knn = confusion_matrix(y_train_5, y_pred_knn_valid)\n",
    "print('confmat_knn =>\\n', confmat_knn)\n",
    "\n",
    "print('--'*30)\n",
    "\n",
    "\n",
    "## Plotting as a HeatMap\n",
    "plt.figure(figsize=(10, 6))\n",
    "sns.heatmap(confmat_knn, fmt='g', annot=True, cbar=False, vmin=0, cmap='Blues')\n",
    "plt.xticks(ticks=np.arange(2) + 0.5, labels=['False', 'True'])   ## to only handle the names in proper way\n",
    "plt.yticks(ticks=np.arange(2) + 0.5, labels=['False', 'True'])   ## to only handle the names in proper way\n",
    "plt.xlabel('Predicted', fontsize=14, color='b')\n",
    "plt.ylabel('Actual', fontsize=14, color='b')\n",
    "plt.title('Confusion Matrix', fontsize=14, color='b')\n",
    "plt.show()"
   ]
  },
  {
   "cell_type": "code",
   "execution_count": 32,
   "id": "59a1f15e",
   "metadata": {},
   "outputs": [
    {
     "name": "stdout",
     "output_type": "stream",
     "text": [
      "Precison Score using KNN => 0.9716751078596886\n",
      "------------------------------------------------------------\n",
      "Recall Score using KNN => 0.955543257701531\n",
      "------------------------------------------------------------\n",
      "Classifcation Report using KNN => \n",
      "               precision    recall  f1-score   support\n",
      "\n",
      "       False       1.00      1.00      1.00     54579\n",
      "        True       0.97      0.96      0.96      5421\n",
      "\n",
      "    accuracy                           0.99     60000\n",
      "   macro avg       0.98      0.98      0.98     60000\n",
      "weighted avg       0.99      0.99      0.99     60000\n",
      "\n"
     ]
    }
   ],
   "source": [
    "## Precision and Recall score\n",
    "precison_score_knn = precision_score(y_train_5, y_pred_knn_valid)\n",
    "print('Precison Score using KNN =>', precison_score_knn)\n",
    "\n",
    "print('---'*20)\n",
    "\n",
    "recall_score_knn = recall_score(y_train_5, y_pred_knn_valid)\n",
    "print('Recall Score using KNN =>', recall_score_knn)\n",
    "\n",
    "print('---'*20)\n",
    "\n",
    "class_repo_knn = classification_report(y_train_5, y_pred_knn_valid)\n",
    "print('Classifcation Report using KNN => \\n', class_repo_knn)"
   ]
  },
  {
   "cell_type": "code",
   "execution_count": 33,
   "id": "d2cc3b83",
   "metadata": {},
   "outputs": [],
   "source": [
    "##  Get scores using KNN\n",
    "## take care of Method (decision_function & predict_proba) ---> Ask your Instructor\n",
    "y_scores_knn = cross_val_predict(knn_clf, X_train, y_train_5, cv=5, n_jobs=-1, method='predict_proba')"
   ]
  },
  {
   "cell_type": "code",
   "execution_count": 34,
   "id": "2a61add5",
   "metadata": {},
   "outputs": [],
   "source": [
    "## Take only the column for (True) probability, complete all steps\n",
    "y_scores_knn = y_scores_knn[:, 1]\n",
    "\n",
    "## ROC using KNN\n",
    "fpr_knn, tpr_knn, thresholds_knn = roc_curve(y_train_5, y_scores_knn)"
   ]
  },
  {
   "cell_type": "code",
   "execution_count": 35,
   "id": "79051191",
   "metadata": {},
   "outputs": [
    {
     "data": {
      "image/png": "[encoded data removed]",
      "text/plain": [
       "<Figure size 720x432 with 1 Axes>"
      ]
     },
     "metadata": {
      "needs_background": "light"
     },
     "output_type": "display_data"
    }
   ],
   "source": [
    "## Comapring between AUC for both Models (SGD & KNN)\n",
    "\n",
    "## Plotting the ROC for KNN & SGD\n",
    "## Plotting\n",
    "plt.figure(figsize=(10, 6))\n",
    "plt.plot(fpr_sgd, tpr_sgd, linewidth=2, color='b', label='SGDClassifier')\n",
    "plt.plot(fpr_knn, tpr_knn, linewidth=2, color='y', label='KNN')\n",
    "plt.plot([1, 0], [1, 0], 'r--', label='Random Classifier')\n",
    "plt.scatter(0, 0, color='g', s=50)\n",
    "plt.scatter(1, 1, color='g', s=50)\n",
    "plt.title('ROC Curve')\n",
    "plt.xlabel('False Positive Rate (FPR)', fontsize=14)\n",
    "plt.ylabel('True Positive Rate (TPR = Recall)', fontsize=14)\n",
    "plt.legend(fontsize=12)\n",
    "plt.show()"
   ]
  },
  {
   "cell_type": "code",
   "execution_count": 36,
   "id": "c4f54aae",
   "metadata": {},
   "outputs": [
    {
     "name": "stdout",
     "output_type": "stream",
     "text": [
      "Area Under Curve using KNN --  0.9946272968644606\n"
     ]
    }
   ],
   "source": [
    "## AUC for KNN\n",
    "auc_knn = roc_auc_score(y_train_5, y_scores_knn)\n",
    "print('Area Under Curve using KNN -- ', auc_knn)"
   ]
  },
  {
   "cell_type": "markdown",
   "id": "9d17c411",
   "metadata": {},
   "source": [
    "#### `You can complete the steps for Precision and Recall and for any Algorithm`"
   ]
  },
  {
   "cell_type": "markdown",
   "id": "76c964bb",
   "metadata": {},
   "source": [
    "----------"
   ]
  },
  {
   "cell_type": "markdown",
   "id": "c77e36fb",
   "metadata": {},
   "source": [
    "### `MultiClass Classification`\n",
    "`## Now time for classification for MNIST Dataset as Multiclass `"
   ]
  },
  {
   "cell_type": "code",
   "execution_count": 37,
   "id": "91c13cc7",
   "metadata": {},
   "outputs": [
    {
     "data": {
      "text/plain": [
       "OneVsOneClassifier(estimator=SGDClassifier(penalty=None, random_state=42))"
      ]
     },
     "execution_count": 37,
     "metadata": {},
     "output_type": "execute_result"
    }
   ],
   "source": [
    "## Try SGDClassifier --> Default in sklearn is OVA, I will here use OVO (only for showing)\n",
    "sgd_multi_clf = OneVsOneClassifier(SGDClassifier(penalty=None, random_state=42))  ## using OVO\n",
    "sgd_multi_clf.fit(X_train.values, y_train)"
   ]
  },
  {
   "cell_type": "code",
   "execution_count": 38,
   "id": "687f2efa",
   "metadata": {},
   "outputs": [
    {
     "name": "stdout",
     "output_type": "stream",
     "text": [
      "Scores of first Instance is --- \n",
      " [[ 1.66689021  3.66725898  6.3328495   8.3332049  -0.33320603  9.33317776\n",
      "   1.66684254  2.66779186  5.33298189  6.33265104]]\n",
      "------------------------------------------------------------\n",
      "Prediction of the first Instance is ----  5\n"
     ]
    }
   ],
   "source": [
    "## If you want to test the Model -> If we predict an Instance, it will produce 10 scores (we have 10 categories)\n",
    "## And the final result is the max score and its index which represent the category \n",
    "\n",
    "## Try on the first element in the Dataset\n",
    "first_scores = sgd_multi_clf.decision_function([X_train.iloc[0]])   ## the max score here is 9.333 --> which is 5\n",
    "print('Scores of first Instance is --- \\n', first_scores)\n",
    "\n",
    "print('--'*30)\n",
    "\n",
    "first_pred = sgd_multi_clf.predict([X_train.iloc[0]])\n",
    "print('Prediction of the first Instance is ---- ', first_pred[0])"
   ]
  },
  {
   "cell_type": "markdown",
   "id": "e0bedbb4",
   "metadata": {},
   "source": [
    "### `I will always use OVR (Default in sklearn) except with SVM, I will use (OVO)`\n",
    "\n",
    "`I will show how to get all the above Results but with Multiclass --- Let's GO`"
   ]
  },
  {
   "cell_type": "markdown",
   "id": "e8224820",
   "metadata": {},
   "source": [
    "#### `SGDClassifier for Multiclass`"
   ]
  },
  {
   "cell_type": "code",
   "execution_count": 39,
   "id": "aa706908",
   "metadata": {},
   "outputs": [
    {
     "data": {
      "text/plain": [
       "SGDClassifier(penalty=None, random_state=425)"
      ]
     },
     "execution_count": 39,
     "metadata": {},
     "output_type": "execute_result"
    }
   ],
   "source": [
    "## Intialize a SGDClassifier, Train and get the validation scores, vaidation prediction and scores\n",
    "sgd_clf_2 = SGDClassifier(penalty=None, random_state=425)\n",
    "sgd_clf_2.fit(X_train, y_train)  ## train"
   ]
  },
  {
   "cell_type": "code",
   "execution_count": 40,
   "id": "7a930109",
   "metadata": {},
   "outputs": [
    {
     "name": "stdout",
     "output_type": "stream",
     "text": [
      "Mean of Cross Validation using SGD --  0.8939499999999999\n",
      "Std of Cross Validation using SGD --  0.0032590898524997064\n"
     ]
    }
   ],
   "source": [
    "## Cross Validation\n",
    "## Accuracy here is meaningfull metric, not like the above for binary ----> Why ?\n",
    "sgd_acc_scores_valid_2 = cross_val_score(sgd_clf_2, X_train, y_train, cv=3, n_jobs=-1, scoring='accuracy')\n",
    "\n",
    "print('Mean of Cross Validation using SGD -- ', sgd_acc_scores_valid_2.mean())\n",
    "print('Std of Cross Validation using SGD -- ', sgd_acc_scores_valid_2.std())"
   ]
  },
  {
   "cell_type": "code",
   "execution_count": 41,
   "id": "94dc80f0",
   "metadata": {},
   "outputs": [],
   "source": [
    "## Predict for validation --> using (predict) method\n",
    "y_pred_sgd_valid_2 = cross_val_predict(sgd_clf_2, X_train, y_train, cv=3, n_jobs=-1, method='predict')"
   ]
  },
  {
   "cell_type": "code",
   "execution_count": 42,
   "id": "e7a0d5cd",
   "metadata": {},
   "outputs": [
    {
     "name": "stdout",
     "output_type": "stream",
     "text": [
      "confmat_sgd_2 =>\n",
      " [[5660    1   41   28    9   41   29    7   88   19]\n",
      " [   2 6447   48   42    6   55    5    7  101   29]\n",
      " [  45   57 5257  144   54   50   75   60  194   22]\n",
      " [  27   28  186 5276   12  263   19   58  162  100]\n",
      " [   9   18   55   30 5266   56   42   37   92  237]\n",
      " [  47   19   42  226   61 4609  105   24  209   79]\n",
      " [  42   11   84   22   37  142 5495    7   72    6]\n",
      " [  19   14   66   50   62   28    5 5730   44  247]\n",
      " [  40  101  106  219   50  245   48   20 4870  152]\n",
      " [  22   28   18  116  230  103    3  286  116 5027]]\n",
      "------------------------------------------------------------\n"
     ]
    },
    {
     "data": {
      "image/png": "[encoded data removed]",
      "text/plain": [
       "<Figure size 720x432 with 1 Axes>"
      ]
     },
     "metadata": {
      "needs_background": "light"
     },
     "output_type": "display_data"
    }
   ],
   "source": [
    "## Confusion Matrix\n",
    "confmat_sgd_2 = confusion_matrix(y_train, y_pred_sgd_valid_2)\n",
    "print('confmat_sgd_2 =>\\n', confmat_sgd_2)\n",
    "\n",
    "print('--'*30)\n",
    "\n",
    "## Plotting as a HeatMap\n",
    "plt.figure(figsize=(10, 6))\n",
    "sns.heatmap(confmat_sgd_2, fmt='g', annot=True, cbar=False, vmin=0, cmap='Blues')\n",
    "plt.xlabel('Predicted', fontsize=14, color='b')\n",
    "plt.ylabel('Actual', fontsize=14, color='b')\n",
    "plt.title('Confusion Matrix', fontsize=14, color='b')\n",
    "plt.show()"
   ]
  },
  {
   "cell_type": "code",
   "execution_count": 43,
   "id": "bbcd30f0",
   "metadata": {},
   "outputs": [
    {
     "name": "stdout",
     "output_type": "stream",
     "text": [
      "Precison Score using SGD using Macro Averaging => 0.8928481961210588\n",
      "Precison Score using SGD using Micro Averaging => 0.89395\n",
      "Precison Score using SGD using Weighted Averaging => 0.8943897998096211\n"
     ]
    }
   ],
   "source": [
    "## Precision and Recall score\n",
    "precison_score_sgd_2 = precision_score(y_train, y_pred_sgd_valid_2, average='macro')\n",
    "print('Precison Score using SGD using Macro Averaging =>', precison_score_sgd_2)\n",
    "\n",
    "precison_score_sgd_2 = precision_score(y_train, y_pred_sgd_valid_2, average='micro')\n",
    "print('Precison Score using SGD using Micro Averaging =>', precison_score_sgd_2)\n",
    "\n",
    "precison_score_sgd_2 = precision_score(y_train, y_pred_sgd_valid_2, average='weighted')\n",
    "print('Precison Score using SGD using Weighted Averaging =>', precison_score_sgd_2)\n",
    "\n",
    "## The same for Recall and F1_score and other Metrics and also classification report\n",
    "\n",
    "## ------- take your time understanding every thing carefully"
   ]
  },
  {
   "cell_type": "markdown",
   "id": "f2385734",
   "metadata": {},
   "source": [
    "### `KNN`\n",
    "`You can use KNN for both Classification and Regression`"
   ]
  },
  {
   "cell_type": "code",
   "execution_count": 44,
   "id": "2c140f33",
   "metadata": {},
   "outputs": [
    {
     "data": {
      "text/plain": [
       "KNeighborsClassifier(n_jobs=-1)"
      ]
     },
     "execution_count": 44,
     "metadata": {},
     "output_type": "execute_result"
    }
   ],
   "source": [
    "## Define a Model, train, and do all what you want like we did above -------------\n",
    "knn_clf = KNeighborsClassifier(n_neighbors=5, p=2, metric='minkowski', n_jobs=-1)\n",
    "knn_clf.fit(X_train, y_train)   ## train"
   ]
  },
  {
   "cell_type": "code",
   "execution_count": 45,
   "id": "51bba11c",
   "metadata": {},
   "outputs": [
    {
     "name": "stdout",
     "output_type": "stream",
     "text": [
      "Mean of Cross Validation using KNN --  0.9674166666666667\n",
      "Std of Cross Validation using KNN --  0.00022484562605389473\n"
     ]
    }
   ],
   "source": [
    "## Cross Validation\n",
    "## Accuracy here is meaningfull metric, not like the above for binary ----> Why ?\n",
    "## try different scorings (classification Metrics)\n",
    "knn_acc_scores = cross_val_score(knn_clf, X_train, y_train, cv=3, n_jobs=-1, scoring='accuracy')  \n",
    "\n",
    "print('Mean of Cross Validation using KNN -- ', knn_acc_scores.mean())\n",
    "print('Std of Cross Validation using KNN -- ', knn_acc_scores.std())"
   ]
  },
  {
   "cell_type": "code",
   "execution_count": 46,
   "id": "a558379f",
   "metadata": {},
   "outputs": [],
   "source": [
    "## Predict for validation --> using (predict) method\n",
    "y_pred_knn_valid = cross_val_predict(knn_clf, X_train, y_train, cv=3, n_jobs=-1, method='predict')  ## Prediction"
   ]
  },
  {
   "cell_type": "code",
   "execution_count": 47,
   "id": "28ffc4cc",
   "metadata": {},
   "outputs": [],
   "source": [
    "## You can get aslo scores of classification if you want\n",
    "## But here we have 10 categories --> each instance will have 10 scores for all the dataset\n",
    "## The instance is classified according to the maximum score\n",
    "\n",
    "## scores using knn -- onyl if you want to see it or if you want to draw precision_recall_curve or dealing with thresholds\n",
    "## Note that KNN doesn't have decision_function --> talk with your Instructor about that \n",
    "## Instead use predict_proba\n",
    "y_scores_knn = cross_val_predict(knn_clf, X_train, y_train, cv=3, n_jobs=-1, method='predict_proba')  ## scores"
   ]
  },
  {
   "cell_type": "code",
   "execution_count": 48,
   "id": "bf130dd9",
   "metadata": {},
   "outputs": [
    {
     "data": {
      "text/plain": [
       "array([[0., 0., 0., ..., 0., 0., 0.],\n",
       "       [1., 0., 0., ..., 0., 0., 0.],\n",
       "       [0., 0., 0., ..., 0., 0., 0.],\n",
       "       ...,\n",
       "       [0., 0., 0., ..., 0., 0., 0.],\n",
       "       [0., 0., 0., ..., 0., 0., 0.],\n",
       "       [0., 0., 0., ..., 0., 1., 0.]])"
      ]
     },
     "execution_count": 48,
     "metadata": {},
     "output_type": "execute_result"
    }
   ],
   "source": [
    "y_scores_knn   ## as you think the sum of each row is 1 -- (probability)\n",
    "\n",
    "## take your time playing with the resutls"
   ]
  },
  {
   "cell_type": "markdown",
   "id": "150c1f1a",
   "metadata": {},
   "source": [
    "* > `You can complete your work by getting confusion Matrix and get other metric ---`"
   ]
  },
  {
   "cell_type": "markdown",
   "id": "051163ec",
   "metadata": {},
   "source": [
    "### `Naive Bayes`"
   ]
  },
  {
   "cell_type": "markdown",
   "id": "3957f670",
   "metadata": {},
   "source": [
    "### `1. Gaussian Naive Bayes`\n",
    "* > `The assumption is that data from each label is drawn from a simple Gaussian distribution.`"
   ]
  },
  {
   "cell_type": "code",
   "execution_count": 49,
   "id": "00ce3960",
   "metadata": {},
   "outputs": [
    {
     "data": {
      "text/plain": [
       "GaussianNB()"
      ]
     },
     "execution_count": 49,
     "metadata": {},
     "output_type": "execute_result"
    }
   ],
   "source": [
    "## Doing the same steps as we did above, for naive bayes using Gaussian\n",
    "gauss_clf = GaussianNB()\n",
    "gauss_clf.fit(X_train, y_train)"
   ]
  },
  {
   "cell_type": "code",
   "execution_count": 50,
   "id": "65f9a155",
   "metadata": {},
   "outputs": [
    {
     "name": "stdout",
     "output_type": "stream",
     "text": [
      "Mean of Cross Validation using GaussianNB --  0.5617666666666666\n",
      "Std of Cross Validation using GaussianNB --  0.011085952071578403\n"
     ]
    }
   ],
   "source": [
    "## Cross Validation\n",
    "gauss_acc_scores = cross_val_score(gauss_clf, X_train, y_train, cv=5, n_jobs=-1, scoring='accuracy')  \n",
    "\n",
    "print('Mean of Cross Validation using GaussianNB -- ', gauss_acc_scores.mean())\n",
    "print('Std of Cross Validation using GaussianNB -- ', gauss_acc_scores.std())"
   ]
  },
  {
   "cell_type": "code",
   "execution_count": 51,
   "id": "518e915f",
   "metadata": {},
   "outputs": [
    {
     "data": {
      "text/plain": [
       "array([3, 0, 4, ..., 8, 6, 8])"
      ]
     },
     "execution_count": 51,
     "metadata": {},
     "output_type": "execute_result"
    }
   ],
   "source": [
    "## Predict for validation --> using (predict) method\n",
    "y_pred_gauss_valid = cross_val_predict(gauss_clf, X_train, y_train, cv=5, n_jobs=-1, method='predict')  ## Prediction\n",
    "y_pred_gauss_valid"
   ]
  },
  {
   "cell_type": "markdown",
   "id": "0671ed7e",
   "metadata": {},
   "source": [
    "### `1. Multinomial Naive Bayes`\n",
    "*  `The multinomial distribution is a generalization of the binomial distribution`\n",
    "*  `The multinomial Naive Bayes classifier is suitable for classification with discrete features`"
   ]
  },
  {
   "cell_type": "code",
   "execution_count": 52,
   "id": "93382755",
   "metadata": {},
   "outputs": [
    {
     "data": {
      "text/plain": [
       "MultinomialNB()"
      ]
     },
     "execution_count": 52,
     "metadata": {},
     "output_type": "execute_result"
    }
   ],
   "source": [
    "## Doing the same steps as we did above, for naive bayes using Multinomial\n",
    "binomial_clf = MultinomialNB()\n",
    "binomial_clf.fit(X_train, y_train)"
   ]
  },
  {
   "cell_type": "code",
   "execution_count": 53,
   "id": "a2d9b8fe",
   "metadata": {},
   "outputs": [
    {
     "name": "stdout",
     "output_type": "stream",
     "text": [
      "Mean of Cross Validation using MultinomialNB --  0.8225666666666667\n",
      "Std of Cross Validation using MultinomialNB --  0.00932907641016336\n"
     ]
    }
   ],
   "source": [
    "## Cross Validation\n",
    "binomial_acc_scores = cross_val_score(binomial_clf, X_train, y_train, cv=5, n_jobs=-1, scoring='accuracy')  \n",
    "\n",
    "print('Mean of Cross Validation using MultinomialNB -- ', binomial_acc_scores.mean())\n",
    "print('Std of Cross Validation using MultinomialNB -- ', binomial_acc_scores.std())"
   ]
  },
  {
   "cell_type": "code",
   "execution_count": 54,
   "id": "0ff70231",
   "metadata": {},
   "outputs": [
    {
     "data": {
      "text/plain": [
       "array([5, 0, 4, ..., 5, 6, 8])"
      ]
     },
     "execution_count": 54,
     "metadata": {},
     "output_type": "execute_result"
    }
   ],
   "source": [
    "## Predict for validation --> using (predict) method\n",
    "y_pred_binomial_valid = cross_val_predict(binomial_clf, X_train, y_train, cv=5, n_jobs=-1, method='predict')  ## Prediction\n",
    "y_pred_binomial_valid"
   ]
  },
  {
   "cell_type": "markdown",
   "id": "44e2452b",
   "metadata": {},
   "source": [
    "### `1. Bernolli Naive Bayes`\n",
    "* `The Bernoulli distribution represents the success or failure of a single Bernoulli trial.`\n",
    "* `Like MultinomialNB, this classifier is suitable for discrete data.`"
   ]
  },
  {
   "cell_type": "code",
   "execution_count": 55,
   "id": "0630f56e",
   "metadata": {},
   "outputs": [
    {
     "data": {
      "text/plain": [
       "BernoulliNB()"
      ]
     },
     "execution_count": 55,
     "metadata": {},
     "output_type": "execute_result"
    }
   ],
   "source": [
    "## Doing the same steps as we did above, for naive bayes using BernoulliNB\n",
    "bernolli_clf = BernoulliNB()\n",
    "bernolli_clf.fit(X_train, y_train)"
   ]
  },
  {
   "cell_type": "code",
   "execution_count": 56,
   "id": "505db5b8",
   "metadata": {},
   "outputs": [
    {
     "name": "stdout",
     "output_type": "stream",
     "text": [
      "Mean of Cross Validation using BernoulliNB --  0.8300166666666667\n",
      "Std of Cross Validation using BernoulliNB --  0.008194069671279225\n"
     ]
    }
   ],
   "source": [
    "## Cross Validation\n",
    "bernolli_acc_scores = cross_val_score(bernolli_clf, X_train, y_train, cv=5, n_jobs=-1, scoring='accuracy')  \n",
    "\n",
    "print('Mean of Cross Validation using BernoulliNB -- ', bernolli_acc_scores.mean())\n",
    "print('Std of Cross Validation using BernoulliNB -- ', bernolli_acc_scores.std())"
   ]
  },
  {
   "cell_type": "code",
   "execution_count": 57,
   "id": "1f385335",
   "metadata": {},
   "outputs": [
    {
     "data": {
      "text/plain": [
       "array([5, 0, 4, ..., 5, 6, 8])"
      ]
     },
     "execution_count": 57,
     "metadata": {},
     "output_type": "execute_result"
    }
   ],
   "source": [
    "## Predict for validation --> using (predict) method\n",
    "y_pred_bernolli_valid = cross_val_predict(bernolli_clf, X_train, y_train, cv=5, n_jobs=-1, method='predict')  ## Prediction\n",
    "y_pred_bernolli_valid"
   ]
  },
  {
   "cell_type": "markdown",
   "id": "a26c85bf",
   "metadata": {},
   "source": [
    "### `Logistic Regression`\n",
    "`LR can be used only for Classification instead of its name`"
   ]
  },
  {
   "cell_type": "code",
   "execution_count": 58,
   "id": "df099fd8",
   "metadata": {},
   "outputs": [
    {
     "name": "stderr",
     "output_type": "stream",
     "text": [
      "C:\\Users\\moham\\ANACONDA\\anaconda3\\lib\\site-packages\\sklearn\\linear_model\\_logistic.py:814: ConvergenceWarning: lbfgs failed to converge (status=1):\n",
      "STOP: TOTAL NO. of ITERATIONS REACHED LIMIT.\n",
      "\n",
      "Increase the number of iterations (max_iter) or scale the data as shown in:\n",
      "    https://scikit-learn.org/stable/modules/preprocessing.html\n",
      "Please also refer to the documentation for alternative solver options:\n",
      "    https://scikit-learn.org/stable/modules/linear_model.html#logistic-regression\n",
      "  n_iter_i = _check_optimize_result(\n"
     ]
    },
    {
     "data": {
      "text/plain": [
       "LogisticRegression(C=10, max_iter=1000, multi_class='multinomial')"
      ]
     },
     "execution_count": 58,
     "metadata": {},
     "output_type": "execute_result"
    }
   ],
   "source": [
    "## Doing the same steps as we did above\n",
    "## C is Hyperparameters used for Regularization but it works inversely \n",
    "## (Increase C less Regularization) (Decrease C more Regularization)\n",
    "## multi_class hyperparameter to \"multinomial\" to switch it to Softmax Regression instead.\n",
    "\n",
    "logit_clf = LogisticRegression(multi_class='multinomial', solver='lbfgs', C=10, max_iter=1000)\n",
    "logit_clf.fit(X_train, y_train)"
   ]
  },
  {
   "cell_type": "code",
   "execution_count": 59,
   "id": "2facf3f9",
   "metadata": {},
   "outputs": [
    {
     "name": "stdout",
     "output_type": "stream",
     "text": [
      "Mean of Cross Validation using Logistic --  0.9110333333333333\n",
      "Std of Cross Validation using Logistic --  0.0018130698337963107\n"
     ]
    }
   ],
   "source": [
    "## Cross Validation\n",
    "## Accuracy here is meaningfull metric, not like the above for binary ----> Why ?\n",
    "## try different scorings (classification Metrics)\n",
    "logit_acc_scores = cross_val_score(logit_clf, X_train, y_train, cv=3, n_jobs=-1, scoring='accuracy')  \n",
    "\n",
    "print('Mean of Cross Validation using Logistic -- ', logit_acc_scores.mean())\n",
    "print('Std of Cross Validation using Logistic -- ', logit_acc_scores.std())"
   ]
  },
  {
   "cell_type": "code",
   "execution_count": 60,
   "id": "62a6e81a",
   "metadata": {},
   "outputs": [],
   "source": [
    "## Predict for validation --> using (predict) method\n",
    "y_pred_logit_valid = cross_val_predict(logit_clf, X_train, y_train, cv=3, n_jobs=-1, method='predict')  ## Prediction"
   ]
  },
  {
   "cell_type": "code",
   "execution_count": 61,
   "id": "0f5707e1",
   "metadata": {},
   "outputs": [],
   "source": [
    "## You can get aslo scores of classification if you want\n",
    "## Instead use predict_proba\n",
    "\n",
    "y_scores_logit = cross_val_predict(logit_clf, X_train, y_train, cv=3, n_jobs=-1, method='predict_proba')  ## scores"
   ]
  },
  {
   "cell_type": "code",
   "execution_count": 62,
   "id": "714dce04",
   "metadata": {},
   "outputs": [
    {
     "data": {
      "text/plain": [
       "array([[1.08438983e-03, 2.24604503e-10, 3.97053400e-05, ...,\n",
       "        4.32018986e-08, 1.93083651e-05, 1.94857650e-06],\n",
       "       [9.99999559e-01, 3.78172477e-14, 3.04539390e-08, ...,\n",
       "        1.64418847e-09, 7.79085116e-09, 3.75078019e-08],\n",
       "       [9.08186308e-07, 6.84249643e-09, 1.67988481e-04, ...,\n",
       "        2.41169154e-04, 1.03975949e-04, 2.81932470e-04],\n",
       "       ...,\n",
       "       [2.03393958e-05, 1.48344000e-04, 1.36494033e-06, ...,\n",
       "        2.29600780e-08, 2.48797879e-03, 9.94207813e-07],\n",
       "       [1.25826428e-04, 2.03694920e-05, 2.69790057e-04, ...,\n",
       "        1.30326347e-06, 1.30527950e-06, 2.30433957e-06],\n",
       "       [3.00606425e-02, 1.77918141e-10, 3.19222769e-05, ...,\n",
       "        2.45116175e-05, 9.36221618e-01, 6.70741087e-03]])"
      ]
     },
     "execution_count": 62,
     "metadata": {},
     "output_type": "execute_result"
    }
   ],
   "source": [
    "y_scores_logit   ## as you think the sum of each row is 1 -- (probability)\n",
    "\n",
    "## take your time playing with the resutls"
   ]
  },
  {
   "cell_type": "markdown",
   "id": "1e0de56a",
   "metadata": {},
   "source": [
    "### `Decision Trees`"
   ]
  },
  {
   "cell_type": "code",
   "execution_count": null,
   "id": "c5df7b16",
   "metadata": {},
   "outputs": [],
   "source": [
    "## Build Linear SVM\n"
   ]
  }
 ],
 "metadata": {
  "kernelspec": {
   "display_name": "Python 3 (ipykernel)",
   "language": "python",
   "name": "python3"
  },
  "language_info": {
   "codemirror_mode": {
    "name": "ipython",
    "version": 3
   },
   "file_extension": ".py",
   "mimetype": "text/x-python",
   "name": "python",
   "nbconvert_exporter": "python",
   "pygments_lexer": "ipython3",
   "version": "3.9.7"
  }
 },
 "nbformat": 4,
 "nbformat_minor": 5
}
