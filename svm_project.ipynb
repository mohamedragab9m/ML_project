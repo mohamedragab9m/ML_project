{
 "cells": [
  {
   "cell_type": "code",
   "execution_count": 3,
   "id": "987e6cdd",
   "metadata": {},
   "outputs": [],
   "source": [
    "# Most Important \n",
    "import numpy as np\n",
    "import pandas as pd\n",
    "import matplotlib.pyplot as plt\n",
    "%matplotlib inline\n",
    "import seaborn as sns\n",
    "from scipy import stats\n",
    "\n",
    "# other\n",
    "import missingno as msno\n",
    "import joblib\n",
    "import tarfile\n",
    "import os\n",
    "import urllib\n",
    "\n",
    "### Scikit-learn\n",
    "\n",
    "from sklearn import datasets\n",
    "from sklearn import utils\n",
    "# Metrics\n",
    "from sklearn.metrics import mean_squared_error, mean_squared_log_error\n",
    "from sklearn.metrics import accuracy_score, r2_score\n",
    "from sklearn.metrics import confusion_matrix, classification_report\n",
    "from sklearn.metrics import precision_score, recall_score\n",
    "from sklearn.metrics import roc_auc_score, roc_curve, precision_recall_curve\n",
    "\n",
    "# Preprocessing & Imputing\n",
    "from sklearn.preprocessing import StandardScaler, MinMaxScaler, LabelEncoder, OneHotEncoder\n",
    "from sklearn.preprocessing import PolynomialFeatures\n",
    "from sklearn.impute import SimpleImputer\n",
    "from sklearn.pipeline import Pipeline\n",
    "from sklearn.compose import ColumnTransformer\n",
    "\n",
    "# Validating and Tuning\n",
    "from sklearn.model_selection import train_test_split, StratifiedShuffleSplit\n",
    "from sklearn.model_selection import cross_val_score, cross_val_predict\n",
    "from sklearn.model_selection import GridSearchCV, RandomizedSearchCV\n",
    "\n",
    "# Algorithms\n",
    "from sklearn.svm import LinearSVR, LinearSVC\n",
    "from sklearn.svm import SVC, SVR"
   ]
  },
  {
   "cell_type": "markdown",
   "id": "a7db66bd",
   "metadata": {},
   "source": [
    "## SVM for  Classification\n",
    "\n",
    "get the widest possible street and limiting margin violations\n",
    "\n",
    "**it can be handeled using 'C' Hyper-parameter**\n",
    "\n",
    "**'C' Hyper-parameter is used also for Regularization, by decreasing C > reducing overfitting**"
   ]
  },
  {
   "cell_type": "markdown",
   "id": "8f005c34",
   "metadata": {},
   "source": [
    "### First : for Linear Data (iris)"
   ]
  },
  {
   "cell_type": "code",
   "execution_count": 2,
   "id": "230519ef",
   "metadata": {},
   "outputs": [],
   "source": [
    "iris = datasets.load_iris()\n",
    "df_iris = pd.DataFrame(np.c_[iris.data, iris.target], columns=iris.feature_names+['target'])\n",
    "\n",
    "# shuffle the data\n",
    "df_iris = utils.shuffle(df_iris)\n",
    "\n",
    "X = df_iris[['petal length (cm)', 'petal width (cm)']].astype(np.float64)\n",
    "y = df_iris['target'].astype(np.float64)"
   ]
  },
  {
   "cell_type": "markdown",
   "id": "dd30ef98",
   "metadata": {},
   "source": [
    "#### LinearSVC"
   ]
  },
  {
   "cell_type": "code",
   "execution_count": 3,
   "id": "2ee0e880",
   "metadata": {},
   "outputs": [],
   "source": [
    "## standardization firstly\n",
    "\n",
    "X = X.copy() \n",
    "\n",
    "my_scalar = StandardScaler()\n",
    "\n",
    "X = my_scalar.fit_transform(X)"
   ]
  },
  {
   "cell_type": "code",
   "execution_count": 4,
   "id": "8968d924",
   "metadata": {},
   "outputs": [],
   "source": [
    "best_params = {'C': range(1,150,5)}\n",
    "linear_svc = LinearSVC(C=1, loss='hinge', max_iter=10000)  ### decreasing C >> reducing Overfitting"
   ]
  },
  {
   "cell_type": "code",
   "execution_count": 5,
   "id": "865c5115",
   "metadata": {},
   "outputs": [],
   "source": [
    "grid_search = GridSearchCV(estimator=linear_svc, \n",
    "                           param_grid=best_params, cv=5, n_jobs=-1, scoring='accuracy')\n",
    "grid_search.fit(X, y)\n",
    "linear_best = grid_search.best_estimator_"
   ]
  },
  {
   "cell_type": "code",
   "execution_count": 6,
   "id": "e10f6fd1",
   "metadata": {},
   "outputs": [
    {
     "name": "stdout",
     "output_type": "stream",
     "text": [
      "scores => [1.         0.93333333 0.96666667 0.96666667 1.        ]\n",
      "mean => 0.9733333333333334\n",
      "std => 0.02494438257849294\n"
     ]
    }
   ],
   "source": [
    "scores = cross_val_score(linear_best, X, y, cv=5, n_jobs=-1, scoring='accuracy')\n",
    "print('scores =>', scores)\n",
    "print('mean =>', scores.mean())\n",
    "print('std =>', scores.std())"
   ]
  },
  {
   "cell_type": "code",
   "execution_count": 7,
   "id": "84560fee",
   "metadata": {},
   "outputs": [],
   "source": [
    "y_scores_predict = cross_val_predict(linear_best, X, y, cv=5, n_jobs=-1, method='predict')"
   ]
  },
  {
   "cell_type": "code",
   "execution_count": 8,
   "id": "ef89f926",
   "metadata": {},
   "outputs": [
    {
     "data": {
      "text/plain": [
       "<AxesSubplot:>"
      ]
     },
     "execution_count": 8,
     "metadata": {},
     "output_type": "execute_result"
    },
    {
     "data": {
      "image/png": "[encoded data removed]",
      "text/plain": [
       "<Figure size 432x288 with 1 Axes>"
      ]
     },
     "metadata": {
      "needs_background": "light"
     },
     "output_type": "display_data"
    }
   ],
   "source": [
    "conf_matrix = confusion_matrix(y, y_scores_predict)\n",
    "\n",
    "sns.heatmap(conf_matrix, annot=True, cmap='Blues', fmt='g', cbar=False)"
   ]
  },
  {
   "cell_type": "markdown",
   "id": "fb38d89c",
   "metadata": {},
   "source": [
    "#### SVC"
   ]
  },
  {
   "cell_type": "code",
   "execution_count": 9,
   "id": "1d50a2ad",
   "metadata": {},
   "outputs": [
    {
     "name": "stdout",
     "output_type": "stream",
     "text": [
      "scores_svc => [0.93333333 0.96666667 0.96666667 0.93333333 1.        ]\n",
      "mean => 0.96\n",
      "std => 0.024944382578492935\n"
     ]
    }
   ],
   "source": [
    "svc_clf = SVC(C=50, kernel='linear', max_iter=10000)\n",
    "\n",
    "scores_svc = cross_val_score(svc_clf, X, y, cv=5, n_jobs=-1, scoring='accuracy')\n",
    "print('scores_svc =>', scores_svc)\n",
    "print('mean =>', scores_svc.mean())\n",
    "print('std =>', scores_svc.std())"
   ]
  },
  {
   "cell_type": "markdown",
   "id": "82049e84",
   "metadata": {},
   "source": [
    "## SVC using kernel='poly'"
   ]
  },
  {
   "cell_type": "code",
   "execution_count": 10,
   "id": "7b8f42de",
   "metadata": {},
   "outputs": [],
   "source": [
    "moons = datasets.make_moons()"
   ]
  },
  {
   "cell_type": "code",
   "execution_count": 11,
   "id": "962a7023",
   "metadata": {},
   "outputs": [],
   "source": [
    "X_moon, y_moon = moons[0], moons[1]"
   ]
  },
  {
   "cell_type": "code",
   "execution_count": 12,
   "id": "5a03592b",
   "metadata": {},
   "outputs": [],
   "source": [
    "df_moons = pd.DataFrame(np.c_[X_moon, y_moon], columns=['X1', 'X2', 'target'])\n",
    "df_moons = utils.shuffle(df_moons)\n",
    "\n",
    "X_moons = df_moons[['X1', 'X2']]\n",
    "y_moons = df_moons['target']"
   ]
  },
  {
   "cell_type": "code",
   "execution_count": 13,
   "id": "5ba28449",
   "metadata": {},
   "outputs": [],
   "source": [
    "scalar_poly = StandardScaler()\n",
    "X_moons = scalar_poly.fit_transform(X_moons)"
   ]
  },
  {
   "cell_type": "code",
   "execution_count": 14,
   "id": "eba583eb",
   "metadata": {},
   "outputs": [],
   "source": [
    "svc_poly = SVC(kernel='poly', coef0=1.0, C=5, degree=10)"
   ]
  },
  {
   "cell_type": "code",
   "execution_count": 15,
   "id": "61224112",
   "metadata": {},
   "outputs": [],
   "source": [
    "best_params_poly = {'C': np.arange(1,50,10), 'degree': np.arange(2,20,10), 'coef0': np.arange(0,5,1)}"
   ]
  },
  {
   "cell_type": "code",
   "execution_count": 16,
   "id": "a31b7ce8",
   "metadata": {},
   "outputs": [
    {
     "data": {
      "text/plain": [
       "GridSearchCV(cv=3, estimator=SVC(C=5, coef0=1.0, degree=10, kernel='poly'),\n",
       "             n_jobs=-1,\n",
       "             param_grid={'C': array([ 1, 11, 21, 31, 41]),\n",
       "                         'coef0': array([0, 1, 2, 3, 4]),\n",
       "                         'degree': array([ 2, 12])},\n",
       "             scoring='accuracy')"
      ]
     },
     "execution_count": 16,
     "metadata": {},
     "output_type": "execute_result"
    }
   ],
   "source": [
    "grid_search_poly = GridSearchCV(svc_poly, \n",
    "                                param_grid=best_params_poly, \n",
    "                                scoring='accuracy',\n",
    "                                n_jobs=-1, cv=3)\n",
    "\n",
    "grid_search_poly.fit(X_moons, y_moons)"
   ]
  },
  {
   "cell_type": "code",
   "execution_count": 17,
   "id": "8585092b",
   "metadata": {},
   "outputs": [],
   "source": [
    "best_poly = grid_search_poly.best_estimator_"
   ]
  },
  {
   "cell_type": "code",
   "execution_count": 18,
   "id": "a364f0c6",
   "metadata": {},
   "outputs": [
    {
     "name": "stdout",
     "output_type": "stream",
     "text": [
      "scores_poly => [1. 1. 1.]\n"
     ]
    }
   ],
   "source": [
    "scores_poly = cross_val_score(best_poly, X_moons, y_moons, cv=3, n_jobs=-1, scoring='accuracy')\n",
    "print('scores_poly =>', scores_poly)"
   ]
  },
  {
   "cell_type": "code",
   "execution_count": 19,
   "id": "a43e4d4b",
   "metadata": {},
   "outputs": [],
   "source": [
    "y_scores_poly = cross_val_predict(best_poly, X_moons, y_moons, cv=3, n_jobs=-1, method='predict')"
   ]
  },
  {
   "cell_type": "code",
   "execution_count": 20,
   "id": "85433100",
   "metadata": {},
   "outputs": [
    {
     "data": {
      "text/plain": [
       "<AxesSubplot:>"
      ]
     },
     "execution_count": 20,
     "metadata": {},
     "output_type": "execute_result"
    },
    {
     "data": {
      "image/png": "[encoded data removed]",
      "text/plain": [
       "<Figure size 432x288 with 1 Axes>"
      ]
     },
     "metadata": {
      "needs_background": "light"
     },
     "output_type": "display_data"
    }
   ],
   "source": [
    "sns.heatmap(confusion_matrix(y_moons, y_scores_poly), fmt='g', annot=True, cmap='Blues', cbar=False)"
   ]
  },
  {
   "cell_type": "markdown",
   "id": "fa4e94bb",
   "metadata": {},
   "source": [
    "## SVC using kernel='rbf'\n",
    "\n",
    "**rbf stands for >> Gaussian - Radial Basis Function**"
   ]
  },
  {
   "cell_type": "code",
   "execution_count": 21,
   "id": "18e432cf",
   "metadata": {},
   "outputs": [],
   "source": [
    "svc_rbf = SVC(kernel='rbf', gamma=1, C=1)"
   ]
  },
  {
   "cell_type": "code",
   "execution_count": 22,
   "id": "32ef4b8c",
   "metadata": {},
   "outputs": [],
   "source": [
    "best_params_rbf = {'C': np.arange(1, 50, 10), 'gamma': np.arange(0.1, 5, 0.9)}"
   ]
  },
  {
   "cell_type": "code",
   "execution_count": 23,
   "id": "9ea1e994",
   "metadata": {},
   "outputs": [
    {
     "data": {
      "text/plain": [
       "GridSearchCV(cv=3, estimator=SVC(C=1, gamma=1), n_jobs=-1,\n",
       "             param_grid={'C': array([ 1, 11, 21, 31, 41]),\n",
       "                         'gamma': array([0.1, 1. , 1.9, 2.8, 3.7, 4.6])},\n",
       "             scoring='accuracy')"
      ]
     },
     "execution_count": 23,
     "metadata": {},
     "output_type": "execute_result"
    }
   ],
   "source": [
    "grid_search_rbf = GridSearchCV(svc_rbf, \n",
    "                                param_grid=best_params_rbf, \n",
    "                                scoring='accuracy',\n",
    "                                n_jobs=-1, cv=3)\n",
    "\n",
    "grid_search_rbf.fit(X_moons, y_moons)"
   ]
  },
  {
   "cell_type": "code",
   "execution_count": 24,
   "id": "d0837060",
   "metadata": {},
   "outputs": [
    {
     "data": {
      "text/plain": [
       "GridSearchCV(cv=3, estimator=SVC(C=1, gamma=1), n_jobs=-1,\n",
       "             param_grid={'C': array([0.01, 0.11, 0.21, 0.31, 0.41, 0.51, 0.61, 0.71, 0.81, 0.91, 1.01,\n",
       "       1.11, 1.21, 1.31, 1.41, 1.51, 1.61, 1.71, 1.81, 1.91]),\n",
       "                         'gamma': array([0.1, 0.3, 0.5, 0.7, 0.9, 1.1, 1.3, 1.5, 1.7, 1.9])},\n",
       "             scoring='accuracy')"
      ]
     },
     "execution_count": 24,
     "metadata": {},
     "output_type": "execute_result"
    }
   ],
   "source": [
    "best_params_rbf2 = {'C': np.arange(0.01, 2, 0.1), 'gamma': np.arange(0.1, 2, 0.2)}\n",
    "\n",
    "grid_search_rbf = GridSearchCV(svc_rbf, \n",
    "                                param_grid=best_params_rbf2, \n",
    "                                scoring='accuracy',\n",
    "                                n_jobs=-1, cv=3)\n",
    "\n",
    "grid_search_rbf.fit(X_moons, y_moons)"
   ]
  },
  {
   "cell_type": "code",
   "execution_count": 25,
   "id": "3c7063a3",
   "metadata": {},
   "outputs": [],
   "source": [
    "best_rbf = grid_search_rbf.best_estimator_"
   ]
  },
  {
   "cell_type": "code",
   "execution_count": 26,
   "id": "936ab7dd",
   "metadata": {},
   "outputs": [
    {
     "name": "stdout",
     "output_type": "stream",
     "text": [
      "scores_rbf => [1. 1. 1.]\n"
     ]
    }
   ],
   "source": [
    "scores_rbf = cross_val_score(best_rbf, X_moons, y_moons, cv=3, n_jobs=-1, scoring='accuracy')\n",
    "print('scores_rbf =>', scores_rbf)"
   ]
  },
  {
   "cell_type": "code",
   "execution_count": 27,
   "id": "928861c4",
   "metadata": {},
   "outputs": [],
   "source": [
    "y_scores_rbf = cross_val_predict(best_rbf, X_moons, y_moons, cv=3, n_jobs=-1, method='predict')"
   ]
  },
  {
   "cell_type": "code",
   "execution_count": 28,
   "id": "2a288b90",
   "metadata": {},
   "outputs": [
    {
     "data": {
      "text/plain": [
       "<AxesSubplot:>"
      ]
     },
     "execution_count": 28,
     "metadata": {},
     "output_type": "execute_result"
    },
    {
     "data": {
      "image/png": "[encoded data removed]",
      "text/plain": [
       "<Figure size 432x288 with 1 Axes>"
      ]
     },
     "metadata": {
      "needs_background": "light"
     },
     "output_type": "display_data"
    }
   ],
   "source": [
    "sns.heatmap(confusion_matrix(y_moons, y_scores_rbf), fmt='g', annot=True, cmap='Blues', cbar=False)"
   ]
  },
  {
   "cell_type": "markdown",
   "id": "58816cf8",
   "metadata": {},
   "source": [
    "## SVM Regression"
   ]
  },
  {
   "cell_type": "markdown",
   "id": "ea1aaca8",
   "metadata": {},
   "source": [
    "### SVR for Linear"
   ]
  },
  {
   "cell_type": "code",
   "execution_count": 29,
   "id": "4c89c7bb",
   "metadata": {},
   "outputs": [
    {
     "data": {
      "image/png": "[encoded data removed]",
      "text/plain": [
       "<Figure size 432x288 with 1 Axes>"
      ]
     },
     "metadata": {
      "needs_background": "light"
     },
     "output_type": "display_data"
    }
   ],
   "source": [
    "X = 2 + np.random.rand(100, 1)\n",
    "y = np.squeeze(4 + 3 * X + np.random.rand(100, 1))\n",
    "plt.plot(X, y, 'go');"
   ]
  },
  {
   "cell_type": "markdown",
   "id": "10d8e03a",
   "metadata": {},
   "source": [
    "#### Using LinearSVR"
   ]
  },
  {
   "cell_type": "code",
   "execution_count": 30,
   "id": "ae1e446c",
   "metadata": {},
   "outputs": [],
   "source": [
    "scalar_reg = StandardScaler()\n",
    "\n",
    "X = scalar_reg.fit_transform(X)"
   ]
  },
  {
   "cell_type": "code",
   "execution_count": 31,
   "id": "c407226c",
   "metadata": {},
   "outputs": [],
   "source": [
    "linear_svr = LinearSVR(epsilon=1.5, C=1.0, max_iter=10000)"
   ]
  },
  {
   "cell_type": "code",
   "execution_count": 32,
   "id": "16a92144",
   "metadata": {},
   "outputs": [
    {
     "data": {
      "text/plain": [
       "GridSearchCV(cv=3, estimator=LinearSVR(epsilon=1.5, max_iter=10000), n_jobs=-1,\n",
       "             param_grid={'C': array([1, 2, 3, 4, 5, 6, 7, 8, 9]),\n",
       "                         'epsilon': array([0.1, 0.6, 1.1, 1.6, 2.1, 2.6, 3.1, 3.6, 4.1, 4.6])},\n",
       "             scoring='neg_mean_squared_log_error')"
      ]
     },
     "execution_count": 32,
     "metadata": {},
     "output_type": "execute_result"
    }
   ],
   "source": [
    "best_params_reg = {'epsilon': np.arange(0.1,5,0.5), 'C': np.arange(1,10,1)}\n",
    "\n",
    "grid_search_reg = GridSearchCV(linear_svr, \n",
    "                               param_grid=best_params_reg,\n",
    "                               cv=3, \n",
    "                               n_jobs=-1, \n",
    "                               scoring='neg_mean_squared_log_error')\n",
    "\n",
    "grid_search_reg.fit(X, y)"
   ]
  },
  {
   "cell_type": "code",
   "execution_count": 33,
   "id": "84d0368e",
   "metadata": {},
   "outputs": [],
   "source": [
    "best_reg_linear = grid_search_reg.best_estimator_"
   ]
  },
  {
   "cell_type": "code",
   "execution_count": 34,
   "id": "f3d0d377",
   "metadata": {},
   "outputs": [
    {
     "name": "stdout",
     "output_type": "stream",
     "text": [
      "rmse_log_scores => [0.02273168 0.02131139 0.01889448]\n"
     ]
    }
   ],
   "source": [
    "scores_neg_mse_log = cross_val_score(best_reg_linear, X, y, \n",
    "                                     cv=3, \n",
    "                                     n_jobs=-1, \n",
    "                                     scoring='neg_mean_squared_log_error')\n",
    "\n",
    "rmse_log_scores = np.sqrt(-scores_neg_mse_log)\n",
    "print('rmse_log_scores =>', rmse_log_scores)"
   ]
  },
  {
   "cell_type": "code",
   "execution_count": null,
   "id": "bf2b62e7",
   "metadata": {},
   "outputs": [],
   "source": []
  },
  {
   "cell_type": "markdown",
   "id": "2b918de3",
   "metadata": {},
   "source": [
    "#### Using SVR"
   ]
  },
  {
   "cell_type": "code",
   "execution_count": 35,
   "id": "5857200e",
   "metadata": {},
   "outputs": [
    {
     "name": "stdout",
     "output_type": "stream",
     "text": [
      "rmse_log_scores_svr => [0.0229439  0.02124109 0.01896126]\n"
     ]
    }
   ],
   "source": [
    "svr_reg = SVR(kernel='linear', epsilon=0.1, C=7)\n",
    "\n",
    "scores_svr_negLog = cross_val_score(svr_reg, X, y, cv=3, \n",
    "                                    n_jobs=-1, scoring='neg_mean_squared_log_error')\n",
    "\n",
    "rmse_log_scores_svr = np.sqrt(-scores_svr_negLog)\n",
    "print('rmse_log_scores_svr =>', rmse_log_scores_svr)"
   ]
  },
  {
   "cell_type": "code",
   "execution_count": null,
   "id": "68b1253d",
   "metadata": {},
   "outputs": [],
   "source": []
  },
  {
   "cell_type": "markdown",
   "id": "0f3748dc",
   "metadata": {},
   "source": [
    "### SVR for Polynomial"
   ]
  },
  {
   "cell_type": "code",
   "execution_count": 5,
   "id": "c454b532",
   "metadata": {},
   "outputs": [],
   "source": [
    "X = 6 * np.random.rand(100, 1) - 3\n",
    "y = np.squeeze(0.5 * X**2 + X + 2 + np.random.rand(100, 1))"
   ]
  },
  {
   "cell_type": "code",
   "execution_count": 6,
   "id": "dd893e1c",
   "metadata": {},
   "outputs": [],
   "source": [
    "svr_reg_poly = SVR(kernel='rbf', C=10, epsilon=0.2, degree=5)"
   ]
  },
  {
   "cell_type": "code",
   "execution_count": 7,
   "id": "490ae7a8",
   "metadata": {},
   "outputs": [],
   "source": [
    "params_best_poly = {'kernel':['rbf', 'poly'], \n",
    "                    'epsilon': np.arange(1, 5, 0.5), \n",
    "                    'degree': np.arange(1, 5, 2),\n",
    "                    'gamma': np.arange(0.1, 4, 0.5),\n",
    "                    'C': np.arange(0.1, 5, 0.6)}"
   ]
  },
  {
   "cell_type": "code",
   "execution_count": 8,
   "id": "adc4bc7b",
   "metadata": {},
   "outputs": [
    {
     "name": "stderr",
     "output_type": "stream",
     "text": [
      "C:\\Users\\moham\\anaconda3\\lib\\site-packages\\sklearn\\model_selection\\_search.py:918: UserWarning: One or more of the test scores are non-finite: [-0.08201764 -0.1056154  -0.06622336 ... -0.37831199 -0.37831199\n",
      " -0.37831199]\n",
      "  warnings.warn(\n"
     ]
    },
    {
     "data": {
      "text/plain": [
       "GridSearchCV(cv=3, estimator=SVR(C=10, degree=5, epsilon=0.2), n_jobs=-1,\n",
       "             param_grid={'C': array([0.1, 0.7, 1.3, 1.9, 2.5, 3.1, 3.7, 4.3, 4.9]),\n",
       "                         'degree': array([1, 3]),\n",
       "                         'epsilon': array([1. , 1.5, 2. , 2.5, 3. , 3.5, 4. , 4.5]),\n",
       "                         'gamma': array([0.1, 0.6, 1.1, 1.6, 2.1, 2.6, 3.1, 3.6]),\n",
       "                         'kernel': ['rbf', 'poly']},\n",
       "             scoring='neg_mean_squared_log_error')"
      ]
     },
     "execution_count": 8,
     "metadata": {},
     "output_type": "execute_result"
    }
   ],
   "source": [
    "grid_search_reg_poly = GridSearchCV(svr_reg_poly, \n",
    "                                    param_grid=params_best_poly, \n",
    "                                    cv=3, \n",
    "                                    scoring='neg_mean_squared_log_error', n_jobs=-1)\n",
    "\n",
    "grid_search_reg_poly.fit(X, y)"
   ]
  },
  {
   "cell_type": "code",
   "execution_count": 12,
   "id": "56a9379b",
   "metadata": {},
   "outputs": [],
   "source": [
    "best_model_reg_poly = grid_search_reg_poly.best_estimator_"
   ]
  },
  {
   "cell_type": "code",
   "execution_count": 13,
   "id": "eb2cb367",
   "metadata": {},
   "outputs": [
    {
     "name": "stdout",
     "output_type": "stream",
     "text": [
      "rmse_log_poly => [0.13363432 0.12443616 0.168671  ]\n"
     ]
    }
   ],
   "source": [
    "scores_reg_poly = cross_val_score(best_model_reg_poly, X, y, \n",
    "                                  cv=3, \n",
    "                                  scoring='neg_mean_squared_log_error', n_jobs=-1)\n",
    "\n",
    "rmse_log_poly = np.sqrt(-scores_reg_poly)\n",
    "print('rmse_log_poly =>', rmse_log_poly)"
   ]
  },
  {
   "cell_type": "code",
   "execution_count": null,
   "id": "9ca3862b",
   "metadata": {},
   "outputs": [],
   "source": []
  },
  {
   "cell_type": "code",
   "execution_count": null,
   "id": "65f60db7",
   "metadata": {},
   "outputs": [],
   "source": []
  }
 ],
 "metadata": {
  "kernelspec": {
   "display_name": "Python 3",
   "language": "python",
   "name": "python3"
  },
  "language_info": {
   "codemirror_mode": {
    "name": "ipython",
    "version": 3
   },
   "file_extension": ".py",
   "mimetype": "text/x-python",
   "name": "python",
   "nbconvert_exporter": "python",
   "pygments_lexer": "ipython3",
   "version": "3.8.8"
  }
 },
 "nbformat": 4,
 "nbformat_minor": 5
}
