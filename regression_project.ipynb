{
 "cells": [
  {
   "cell_type": "code",
   "execution_count": 1,
   "id": "13ac0ef9",
   "metadata": {},
   "outputs": [],
   "source": [
    "# Most Important \n",
    "import numpy as np\n",
    "import pandas as pd\n",
    "import matplotlib.pyplot as plt\n",
    "%matplotlib inline\n",
    "import seaborn as sns\n",
    "from scipy import stats\n",
    "\n",
    "# other\n",
    "import missingno as msn\n",
    "import os\n",
    "import joblib\n",
    "import tarfile\n",
    "import urllib\n",
    "\n",
    "\n",
    "from sklearn import datasets\n",
    "\n",
    "# Metrics\n",
    "from sklearn.metrics import mean_squared_error, mean_squared_log_error\n",
    "from sklearn.metrics import r2_score, accuracy_score\n",
    "\n",
    "# Preprocessing & Imputing\n",
    "from sklearn.preprocessing import StandardScaler, MinMaxScaler, OneHotEncoder, OrdinalEncoder\n",
    "from sklearn.pipeline import Pipeline\n",
    "from sklearn.impute import SimpleImputer\n",
    "from sklearn.compose import ColumnTransformer\n",
    "\n",
    "# Validating and Tuning\n",
    "from sklearn.model_selection import train_test_split, StratifiedShuffleSplit, cross_val_score \n",
    "from sklearn.model_selection import GridSearchCV, RandomizedSearchCV, cross_val_predict\n",
    "\n",
    "# Algorithms\n",
    "from sklearn.linear_model import LinearRegression\n",
    "from sklearn.tree import DecisionTreeRegressor\n",
    "from sklearn.ensemble import RandomForestRegressor\n"
   ]
  },
  {
   "cell_type": "markdown",
   "id": "36afb0b5",
   "metadata": {},
   "source": [
    "## Download the Data"
   ]
  },
  {
   "cell_type": "code",
   "execution_count": 2,
   "id": "62bd59e0",
   "metadata": {},
   "outputs": [],
   "source": [
    "DOWNLOAD_ROOT = \"https://raw.githubusercontent.com/ageron/handson-ml2/master/\"\n",
    "MYCOMPUTER_PATH = os.path.join(\"datasets\", \"housing\")\n",
    "HOUSING_URL = DOWNLOAD_ROOT + \"datasets/housing/housing.tgz\"\n",
    "\n",
    "def fetch_housing_data(housing_url=HOUSING_URL, housing_path=MYCOMPUTER_PATH):\n",
    "    ''' downlaod the data from internet to specified folder\n",
    "    '''\n",
    "    \n",
    "    # check for directory\n",
    "    if not os.path.isdir(housing_path):\n",
    "        os.makedirs(housing_path)\n",
    "        \n",
    "    tgz_path = os.path.join(housing_path, \"housing.tgz\")\n",
    "    urllib.request.urlretrieve(housing_url, tgz_path)\n",
    "    \n",
    "    # as it is an Archive\n",
    "    housing_tgz = tarfile.open(tgz_path)\n",
    "    housing_tgz.extractall(path=housing_path)\n",
    "    housing_tgz.close()\n",
    "    \n",
    "fetch_housing_data(housing_url=HOUSING_URL, housing_path=MYCOMPUTER_PATH)"
   ]
  },
  {
   "cell_type": "markdown",
   "id": "69518e4c",
   "metadata": {},
   "source": [
    "## Read the Data"
   ]
  },
  {
   "cell_type": "code",
   "execution_count": 3,
   "id": "c543557c",
   "metadata": {},
   "outputs": [],
   "source": [
    "def load_housing_data(computer_path=MYCOMPUTER_PATH):\n",
    "    ''' this function read housing data from /datasets/housing/ folder\n",
    "    '''\n",
    "    \n",
    "    file_path = os.path.join(computer_path, 'housing.csv')\n",
    "    housing = pd.read_csv(file_path)\n",
    "    \n",
    "    return housing\n",
    "\n",
    "housing_df =  load_housing_data(computer_path=MYCOMPUTER_PATH)"
   ]
  },
  {
   "cell_type": "code",
   "execution_count": 4,
   "id": "d6b4bd13",
   "metadata": {},
   "outputs": [
    {
     "data": {
      "text/html": [
       "<div>\n",
       "<style scoped>\n",
       "    .dataframe tbody tr th:only-of-type {\n",
       "        vertical-align: middle;\n",
       "    }\n",
       "\n",
       "    .dataframe tbody tr th {\n",
       "        vertical-align: top;\n",
       "    }\n",
       "\n",
       "    .dataframe thead th {\n",
       "        text-align: right;\n",
       "    }\n",
       "</style>\n",
       "<table border=\"1\" class=\"dataframe\">\n",
       "  <thead>\n",
       "    <tr style=\"text-align: right;\">\n",
       "      <th></th>\n",
       "      <th>longitude</th>\n",
       "      <th>latitude</th>\n",
       "      <th>housing_median_age</th>\n",
       "      <th>total_rooms</th>\n",
       "      <th>total_bedrooms</th>\n",
       "      <th>population</th>\n",
       "      <th>households</th>\n",
       "      <th>median_income</th>\n",
       "      <th>median_house_value</th>\n",
       "      <th>ocean_proximity</th>\n",
       "    </tr>\n",
       "  </thead>\n",
       "  <tbody>\n",
       "    <tr>\n",
       "      <th>0</th>\n",
       "      <td>-122.23</td>\n",
       "      <td>37.88</td>\n",
       "      <td>41.0</td>\n",
       "      <td>880.0</td>\n",
       "      <td>129.0</td>\n",
       "      <td>322.0</td>\n",
       "      <td>126.0</td>\n",
       "      <td>8.3252</td>\n",
       "      <td>452600.0</td>\n",
       "      <td>NEAR BAY</td>\n",
       "    </tr>\n",
       "    <tr>\n",
       "      <th>1</th>\n",
       "      <td>-122.22</td>\n",
       "      <td>37.86</td>\n",
       "      <td>21.0</td>\n",
       "      <td>7099.0</td>\n",
       "      <td>1106.0</td>\n",
       "      <td>2401.0</td>\n",
       "      <td>1138.0</td>\n",
       "      <td>8.3014</td>\n",
       "      <td>358500.0</td>\n",
       "      <td>NEAR BAY</td>\n",
       "    </tr>\n",
       "    <tr>\n",
       "      <th>2</th>\n",
       "      <td>-122.24</td>\n",
       "      <td>37.85</td>\n",
       "      <td>52.0</td>\n",
       "      <td>1467.0</td>\n",
       "      <td>190.0</td>\n",
       "      <td>496.0</td>\n",
       "      <td>177.0</td>\n",
       "      <td>7.2574</td>\n",
       "      <td>352100.0</td>\n",
       "      <td>NEAR BAY</td>\n",
       "    </tr>\n",
       "    <tr>\n",
       "      <th>3</th>\n",
       "      <td>-122.25</td>\n",
       "      <td>37.85</td>\n",
       "      <td>52.0</td>\n",
       "      <td>1274.0</td>\n",
       "      <td>235.0</td>\n",
       "      <td>558.0</td>\n",
       "      <td>219.0</td>\n",
       "      <td>5.6431</td>\n",
       "      <td>341300.0</td>\n",
       "      <td>NEAR BAY</td>\n",
       "    </tr>\n",
       "    <tr>\n",
       "      <th>4</th>\n",
       "      <td>-122.25</td>\n",
       "      <td>37.85</td>\n",
       "      <td>52.0</td>\n",
       "      <td>1627.0</td>\n",
       "      <td>280.0</td>\n",
       "      <td>565.0</td>\n",
       "      <td>259.0</td>\n",
       "      <td>3.8462</td>\n",
       "      <td>342200.0</td>\n",
       "      <td>NEAR BAY</td>\n",
       "    </tr>\n",
       "  </tbody>\n",
       "</table>\n",
       "</div>"
      ],
      "text/plain": [
       "   longitude  latitude  housing_median_age  total_rooms  total_bedrooms  \\\n",
       "0    -122.23     37.88                41.0        880.0           129.0   \n",
       "1    -122.22     37.86                21.0       7099.0          1106.0   \n",
       "2    -122.24     37.85                52.0       1467.0           190.0   \n",
       "3    -122.25     37.85                52.0       1274.0           235.0   \n",
       "4    -122.25     37.85                52.0       1627.0           280.0   \n",
       "\n",
       "   population  households  median_income  median_house_value ocean_proximity  \n",
       "0       322.0       126.0         8.3252            452600.0        NEAR BAY  \n",
       "1      2401.0      1138.0         8.3014            358500.0        NEAR BAY  \n",
       "2       496.0       177.0         7.2574            352100.0        NEAR BAY  \n",
       "3       558.0       219.0         5.6431            341300.0        NEAR BAY  \n",
       "4       565.0       259.0         3.8462            342200.0        NEAR BAY  "
      ]
     },
     "execution_count": 4,
     "metadata": {},
     "output_type": "execute_result"
    }
   ],
   "source": [
    "housing_df.head()"
   ]
  },
  {
   "cell_type": "code",
   "execution_count": null,
   "id": "21d864e2",
   "metadata": {},
   "outputs": [],
   "source": []
  },
  {
   "cell_type": "markdown",
   "id": "0689a176",
   "metadata": {},
   "source": [
    "## Look at the big Picture"
   ]
  },
  {
   "cell_type": "code",
   "execution_count": 5,
   "id": "a448ba9f",
   "metadata": {},
   "outputs": [
    {
     "name": "stdout",
     "output_type": "stream",
     "text": [
      "<class 'pandas.core.frame.DataFrame'>\n",
      "RangeIndex: 20640 entries, 0 to 20639\n",
      "Data columns (total 10 columns):\n",
      " #   Column              Non-Null Count  Dtype  \n",
      "---  ------              --------------  -----  \n",
      " 0   longitude           20640 non-null  float64\n",
      " 1   latitude            20640 non-null  float64\n",
      " 2   housing_median_age  20640 non-null  float64\n",
      " 3   total_rooms         20640 non-null  float64\n",
      " 4   total_bedrooms      20433 non-null  float64\n",
      " 5   population          20640 non-null  float64\n",
      " 6   households          20640 non-null  float64\n",
      " 7   median_income       20640 non-null  float64\n",
      " 8   median_house_value  20640 non-null  float64\n",
      " 9   ocean_proximity     20640 non-null  object \n",
      "dtypes: float64(9), object(1)\n",
      "memory usage: 1.6+ MB\n"
     ]
    }
   ],
   "source": [
    "housing_df.info()"
   ]
  },
  {
   "cell_type": "code",
   "execution_count": 6,
   "id": "c61d40f7",
   "metadata": {},
   "outputs": [
    {
     "data": {
      "text/html": [
       "<div>\n",
       "<style scoped>\n",
       "    .dataframe tbody tr th:only-of-type {\n",
       "        vertical-align: middle;\n",
       "    }\n",
       "\n",
       "    .dataframe tbody tr th {\n",
       "        vertical-align: top;\n",
       "    }\n",
       "\n",
       "    .dataframe thead th {\n",
       "        text-align: right;\n",
       "    }\n",
       "</style>\n",
       "<table border=\"1\" class=\"dataframe\">\n",
       "  <thead>\n",
       "    <tr style=\"text-align: right;\">\n",
       "      <th></th>\n",
       "      <th>longitude</th>\n",
       "      <th>latitude</th>\n",
       "      <th>housing_median_age</th>\n",
       "      <th>total_rooms</th>\n",
       "      <th>total_bedrooms</th>\n",
       "      <th>population</th>\n",
       "      <th>households</th>\n",
       "      <th>median_income</th>\n",
       "      <th>median_house_value</th>\n",
       "    </tr>\n",
       "  </thead>\n",
       "  <tbody>\n",
       "    <tr>\n",
       "      <th>count</th>\n",
       "      <td>20640.000000</td>\n",
       "      <td>20640.000000</td>\n",
       "      <td>20640.000000</td>\n",
       "      <td>20640.000000</td>\n",
       "      <td>20433.000000</td>\n",
       "      <td>20640.000000</td>\n",
       "      <td>20640.000000</td>\n",
       "      <td>20640.000000</td>\n",
       "      <td>20640.000000</td>\n",
       "    </tr>\n",
       "    <tr>\n",
       "      <th>mean</th>\n",
       "      <td>-119.569704</td>\n",
       "      <td>35.631861</td>\n",
       "      <td>28.639486</td>\n",
       "      <td>2635.763081</td>\n",
       "      <td>537.870553</td>\n",
       "      <td>1425.476744</td>\n",
       "      <td>499.539680</td>\n",
       "      <td>3.870671</td>\n",
       "      <td>206855.816909</td>\n",
       "    </tr>\n",
       "    <tr>\n",
       "      <th>std</th>\n",
       "      <td>2.003532</td>\n",
       "      <td>2.135952</td>\n",
       "      <td>12.585558</td>\n",
       "      <td>2181.615252</td>\n",
       "      <td>421.385070</td>\n",
       "      <td>1132.462122</td>\n",
       "      <td>382.329753</td>\n",
       "      <td>1.899822</td>\n",
       "      <td>115395.615874</td>\n",
       "    </tr>\n",
       "    <tr>\n",
       "      <th>min</th>\n",
       "      <td>-124.350000</td>\n",
       "      <td>32.540000</td>\n",
       "      <td>1.000000</td>\n",
       "      <td>2.000000</td>\n",
       "      <td>1.000000</td>\n",
       "      <td>3.000000</td>\n",
       "      <td>1.000000</td>\n",
       "      <td>0.499900</td>\n",
       "      <td>14999.000000</td>\n",
       "    </tr>\n",
       "    <tr>\n",
       "      <th>25%</th>\n",
       "      <td>-121.800000</td>\n",
       "      <td>33.930000</td>\n",
       "      <td>18.000000</td>\n",
       "      <td>1447.750000</td>\n",
       "      <td>296.000000</td>\n",
       "      <td>787.000000</td>\n",
       "      <td>280.000000</td>\n",
       "      <td>2.563400</td>\n",
       "      <td>119600.000000</td>\n",
       "    </tr>\n",
       "    <tr>\n",
       "      <th>50%</th>\n",
       "      <td>-118.490000</td>\n",
       "      <td>34.260000</td>\n",
       "      <td>29.000000</td>\n",
       "      <td>2127.000000</td>\n",
       "      <td>435.000000</td>\n",
       "      <td>1166.000000</td>\n",
       "      <td>409.000000</td>\n",
       "      <td>3.534800</td>\n",
       "      <td>179700.000000</td>\n",
       "    </tr>\n",
       "    <tr>\n",
       "      <th>75%</th>\n",
       "      <td>-118.010000</td>\n",
       "      <td>37.710000</td>\n",
       "      <td>37.000000</td>\n",
       "      <td>3148.000000</td>\n",
       "      <td>647.000000</td>\n",
       "      <td>1725.000000</td>\n",
       "      <td>605.000000</td>\n",
       "      <td>4.743250</td>\n",
       "      <td>264725.000000</td>\n",
       "    </tr>\n",
       "    <tr>\n",
       "      <th>max</th>\n",
       "      <td>-114.310000</td>\n",
       "      <td>41.950000</td>\n",
       "      <td>52.000000</td>\n",
       "      <td>39320.000000</td>\n",
       "      <td>6445.000000</td>\n",
       "      <td>35682.000000</td>\n",
       "      <td>6082.000000</td>\n",
       "      <td>15.000100</td>\n",
       "      <td>500001.000000</td>\n",
       "    </tr>\n",
       "  </tbody>\n",
       "</table>\n",
       "</div>"
      ],
      "text/plain": [
       "          longitude      latitude  housing_median_age   total_rooms  \\\n",
       "count  20640.000000  20640.000000        20640.000000  20640.000000   \n",
       "mean    -119.569704     35.631861           28.639486   2635.763081   \n",
       "std        2.003532      2.135952           12.585558   2181.615252   \n",
       "min     -124.350000     32.540000            1.000000      2.000000   \n",
       "25%     -121.800000     33.930000           18.000000   1447.750000   \n",
       "50%     -118.490000     34.260000           29.000000   2127.000000   \n",
       "75%     -118.010000     37.710000           37.000000   3148.000000   \n",
       "max     -114.310000     41.950000           52.000000  39320.000000   \n",
       "\n",
       "       total_bedrooms    population    households  median_income  \\\n",
       "count    20433.000000  20640.000000  20640.000000   20640.000000   \n",
       "mean       537.870553   1425.476744    499.539680       3.870671   \n",
       "std        421.385070   1132.462122    382.329753       1.899822   \n",
       "min          1.000000      3.000000      1.000000       0.499900   \n",
       "25%        296.000000    787.000000    280.000000       2.563400   \n",
       "50%        435.000000   1166.000000    409.000000       3.534800   \n",
       "75%        647.000000   1725.000000    605.000000       4.743250   \n",
       "max       6445.000000  35682.000000   6082.000000      15.000100   \n",
       "\n",
       "       median_house_value  \n",
       "count        20640.000000  \n",
       "mean        206855.816909  \n",
       "std         115395.615874  \n",
       "min          14999.000000  \n",
       "25%         119600.000000  \n",
       "50%         179700.000000  \n",
       "75%         264725.000000  \n",
       "max         500001.000000  "
      ]
     },
     "execution_count": 6,
     "metadata": {},
     "output_type": "execute_result"
    }
   ],
   "source": [
    "housing_df.describe()"
   ]
  },
  {
   "cell_type": "code",
   "execution_count": 7,
   "id": "f0948111",
   "metadata": {},
   "outputs": [
    {
     "name": "stdout",
     "output_type": "stream",
     "text": [
      "ocean_values => \n",
      " <1H OCEAN     9136\n",
      "INLAND        6551\n",
      "NEAR OCEAN    2658\n",
      "NEAR BAY      2290\n",
      "ISLAND           5\n",
      "Name: ocean_proximity, dtype: int64\n",
      "========================================\n"
     ]
    },
    {
     "data": {
      "image/png": "[encoded data removed]",
      "text/plain": [
       "<Figure size 432x288 with 1 Axes>"
      ]
     },
     "metadata": {
      "needs_background": "light"
     },
     "output_type": "display_data"
    }
   ],
   "source": [
    "# seem to be biased\n",
    "\n",
    "ocean_values = housing_df['ocean_proximity'].value_counts()\n",
    "print('ocean_values => \\n', ocean_values)\n",
    "print('=='*20)\n",
    "sns.countplot(x=housing_df['ocean_proximity']);"
   ]
  },
  {
   "cell_type": "code",
   "execution_count": 8,
   "id": "6fb5d3c3",
   "metadata": {},
   "outputs": [
    {
     "data": {
      "image/png": "[encoded data removed]",
      "text/plain": [
       "<Figure size 1440x720 with 9 Axes>"
      ]
     },
     "metadata": {
      "needs_background": "light"
     },
     "output_type": "display_data"
    }
   ],
   "source": [
    "housing_df.hist(bins=30, figsize=(20,10));"
   ]
  },
  {
   "cell_type": "code",
   "execution_count": 9,
   "id": "94efecf4",
   "metadata": {},
   "outputs": [
    {
     "data": {
      "text/plain": [
       "median_house_value    1.000000\n",
       "median_income         0.688075\n",
       "total_rooms           0.134153\n",
       "housing_median_age    0.105623\n",
       "households            0.065843\n",
       "total_bedrooms        0.049686\n",
       "population           -0.024650\n",
       "longitude            -0.045967\n",
       "latitude             -0.144160\n",
       "Name: median_house_value, dtype: float64"
      ]
     },
     "execution_count": 9,
     "metadata": {},
     "output_type": "execute_result"
    }
   ],
   "source": [
    "corr_matrix = housing_df.corr()\n",
    "\n",
    "corr_matrix['median_house_value'].sort_values(ascending=False)\n",
    "\n",
    "# the most important feature is (median_income)"
   ]
  },
  {
   "cell_type": "markdown",
   "id": "02dca268",
   "metadata": {},
   "source": [
    "## Split the Data \n",
    "\n",
    "try to split the data as startified sampling by split using (StratifiedShuffleSplit)\n",
    "but it works in ctegorical , so try to make (median_income) as category then drop it later"
   ]
  },
  {
   "cell_type": "code",
   "execution_count": 10,
   "id": "f3e77516",
   "metadata": {},
   "outputs": [
    {
     "data": {
      "image/png": "[encoded data removed]",
      "text/plain": [
       "<Figure size 432x288 with 1 Axes>"
      ]
     },
     "metadata": {
      "needs_background": "light"
     },
     "output_type": "display_data"
    }
   ],
   "source": [
    "plt.plot(housing_df['median_income'], housing_df['median_house_value'], '.', alpha=0.1)\n",
    "plt.xlabel('median_income')\n",
    "plt.ylabel('median_house_value')\n",
    "plt.show()"
   ]
  },
  {
   "cell_type": "code",
   "execution_count": 11,
   "id": "3878ab41",
   "metadata": {},
   "outputs": [
    {
     "data": {
      "image/png": "[encoded data removed]",
      "text/plain": [
       "<Figure size 432x288 with 1 Axes>"
      ]
     },
     "metadata": {
      "needs_background": "light"
     },
     "output_type": "display_data"
    }
   ],
   "source": [
    "# try to transform to category\n",
    "\n",
    "housing_df['median_income_categ'] = pd.cut(housing_df['median_income'], \n",
    "                            bins=[0, 1.5, 3, 4.5, 6, np.inf],\n",
    "                            labels=['0-1.5', '1.5-3', '3-4.5', '4.5-6', '6<'])\n",
    "\n",
    "sns.countplot(x=housing_df['median_income_categ']);"
   ]
  },
  {
   "cell_type": "code",
   "execution_count": null,
   "id": "245792f1",
   "metadata": {},
   "outputs": [],
   "source": []
  },
  {
   "cell_type": "code",
   "execution_count": 12,
   "id": "1d5d4d63",
   "metadata": {},
   "outputs": [
    {
     "name": "stdout",
     "output_type": "stream",
     "text": [
      "housing_df shape => (20640, 11)\n",
      "==============================\n",
      "train_set shape => (16512, 11)\n",
      "==============================\n",
      "test_set shape => (4128, 11)\n"
     ]
    }
   ],
   "source": [
    "split_data = StratifiedShuffleSplit(n_splits=1, test_size=0.2, random_state=42)\n",
    "gen_for_indicies = split_data.split(housing_df, housing_df['median_income_categ'])\n",
    "\n",
    "for train_idx, test_idx in gen_for_indicies:\n",
    "    train_set = housing_df.iloc[train_idx]\n",
    "    test_set = housing_df.iloc[test_idx]\n",
    "    \n",
    "print('housing_df shape =>', housing_df.shape)\n",
    "print('=='*15)\n",
    "print('train_set shape =>', train_set.shape) # 80 %\n",
    "print('=='*15)\n",
    "print('test_set shape =>', test_set.shape) # 20 %"
   ]
  },
  {
   "cell_type": "code",
   "execution_count": 13,
   "id": "ee54ce65",
   "metadata": {},
   "outputs": [],
   "source": [
    "# test the income_medina_categorical has been distributed equally or there is a stratified sampling"
   ]
  },
  {
   "cell_type": "markdown",
   "id": "54ff37cc",
   "metadata": {},
   "source": [
    "### train"
   ]
  },
  {
   "cell_type": "code",
   "execution_count": 14,
   "id": "4ad355b3",
   "metadata": {},
   "outputs": [
    {
     "name": "stdout",
     "output_type": "stream",
     "text": [
      "count_in_train_for_each_categ => \n",
      "  3-4.5    0.350594\n",
      "1.5-3    0.318859\n",
      "4.5-6    0.176296\n",
      "6<       0.114402\n",
      "0-1.5    0.039850\n",
      "Name: median_income_categ, dtype: float64\n",
      "============================================================\n"
     ]
    },
    {
     "data": {
      "image/png": "[encoded data removed]",
      "text/plain": [
       "<Figure size 432x288 with 1 Axes>"
      ]
     },
     "metadata": {
      "needs_background": "light"
     },
     "output_type": "display_data"
    }
   ],
   "source": [
    "# for train\n",
    "\n",
    "count_in_train_for_each_categ = train_set['median_income_categ'].value_counts(normalize=True)\n",
    "print('count_in_train_for_each_categ => \\n ', count_in_train_for_each_categ)\n",
    "\n",
    "print('==='*20)\n",
    "\n",
    "sns.countplot(x=train_set['median_income_categ']);"
   ]
  },
  {
   "cell_type": "markdown",
   "id": "ba01b68d",
   "metadata": {},
   "source": [
    "### test"
   ]
  },
  {
   "cell_type": "code",
   "execution_count": 15,
   "id": "48c47d7c",
   "metadata": {},
   "outputs": [
    {
     "name": "stdout",
     "output_type": "stream",
     "text": [
      "count_in_test_for_each_categ => \n",
      "  3-4.5    0.350533\n",
      "1.5-3    0.318798\n",
      "4.5-6    0.176357\n",
      "6<       0.114583\n",
      "0-1.5    0.039729\n",
      "Name: median_income_categ, dtype: float64\n",
      "============================================================\n"
     ]
    },
    {
     "data": {
      "image/png": "[encoded data removed]",
      "text/plain": [
       "<Figure size 432x288 with 1 Axes>"
      ]
     },
     "metadata": {
      "needs_background": "light"
     },
     "output_type": "display_data"
    }
   ],
   "source": [
    "# for test\n",
    "\n",
    "count_in_test_for_each_categ = test_set['median_income_categ'].value_counts(normalize=True)\n",
    "print('count_in_test_for_each_categ => \\n ', count_in_test_for_each_categ)\n",
    "\n",
    "print('==='*20)\n",
    "\n",
    "sns.countplot(x=test_set['median_income_categ']);"
   ]
  },
  {
   "cell_type": "code",
   "execution_count": 16,
   "id": "72e91356",
   "metadata": {},
   "outputs": [],
   "source": [
    "# here we achieved that we split the data in both train and test and both of the \n",
    "# are equally distributed almostly according to the most important feature i think (medina_income)"
   ]
  },
  {
   "cell_type": "markdown",
   "id": "5fa15249",
   "metadata": {},
   "source": [
    "## EDA"
   ]
  },
  {
   "cell_type": "code",
   "execution_count": 17,
   "id": "d423fc35",
   "metadata": {},
   "outputs": [],
   "source": [
    "# i finished from this column ... drop it\n",
    "train_set = train_set.drop(columns=['median_income_categ'], axis=1)\n",
    "test_set = test_set.drop(columns=['median_income_categ'], axis=1)"
   ]
  },
  {
   "cell_type": "code",
   "execution_count": 18,
   "id": "c60c61ff",
   "metadata": {},
   "outputs": [
    {
     "data": {
      "image/png": "[encoded data removed]",
      "text/plain": [
       "<Figure size 1440x720 with 9 Axes>"
      ]
     },
     "metadata": {
      "needs_background": "light"
     },
     "output_type": "display_data"
    }
   ],
   "source": [
    "train_set.hist(bins=25, figsize=(20,10));"
   ]
  },
  {
   "cell_type": "code",
   "execution_count": 19,
   "id": "98debe51",
   "metadata": {},
   "outputs": [
    {
     "data": {
      "image/png": "[encoded data removed]",
      "text/plain": [
       "<Figure size 720x504 with 1 Axes>"
      ]
     },
     "metadata": {
      "needs_background": "light"
     },
     "output_type": "display_data"
    }
   ],
   "source": [
    "plt.figure(figsize=(10,7))\n",
    "plt.scatter(train_set['longitude'], train_set['latitude'], s=train_set['population']/100,\n",
    "           alpha=0.4, c=train_set['median_house_value'], cmap=plt.get_cmap('jet'),\n",
    "           label='population')\n",
    "plt.xlabel('Longitude')\n",
    "plt.ylabel('Latitude')\n",
    "plt.title('Longitude vs. Latitude')\n",
    "plt.legend()\n",
    "plt.show()"
   ]
  },
  {
   "cell_type": "code",
   "execution_count": 20,
   "id": "baf899f8",
   "metadata": {},
   "outputs": [
    {
     "data": {
      "text/plain": [
       "median_house_value    1.000000\n",
       "median_income         0.687160\n",
       "total_rooms           0.135097\n",
       "housing_median_age    0.114110\n",
       "households            0.064506\n",
       "total_bedrooms        0.047689\n",
       "population           -0.026920\n",
       "longitude            -0.047432\n",
       "latitude             -0.142724\n",
       "Name: median_house_value, dtype: float64"
      ]
     },
     "execution_count": 20,
     "metadata": {},
     "output_type": "execute_result"
    }
   ],
   "source": [
    "corr_matrix = train_set.corr()\n",
    "\n",
    "corr_matrix['median_house_value'].sort_values(ascending=False)\n",
    "\n",
    "# plt.figure(figsize=(8,6))\n",
    "# sns.heatmap(corr_matrix, annot=True, cbar=False)"
   ]
  },
  {
   "cell_type": "markdown",
   "id": "24ce05c3",
   "metadata": {},
   "source": [
    "## Try to add some Features"
   ]
  },
  {
   "cell_type": "code",
   "execution_count": 21,
   "id": "de42217f",
   "metadata": {},
   "outputs": [],
   "source": [
    "# what about getting rooms_per_household \n",
    "# waht about ratio of bedrooms to totalrooms\n",
    "# what about population per household"
   ]
  },
  {
   "cell_type": "code",
   "execution_count": 22,
   "id": "867ca890",
   "metadata": {},
   "outputs": [],
   "source": [
    "train_set['rooms_per_household'] = train_set['total_rooms'] / train_set['households']\n",
    "train_set['bedroms_per_rooms'] = train_set['total_bedrooms'] / train_set['total_rooms']\n",
    "train_set['population_per_household'] = train_set['population'] / train_set['households']"
   ]
  },
  {
   "cell_type": "code",
   "execution_count": 23,
   "id": "366e04fe",
   "metadata": {},
   "outputs": [
    {
     "data": {
      "text/plain": [
       "median_house_value          1.000000\n",
       "median_income               0.687160\n",
       "rooms_per_household         0.146285\n",
       "total_rooms                 0.135097\n",
       "housing_median_age          0.114110\n",
       "households                  0.064506\n",
       "total_bedrooms              0.047689\n",
       "population_per_household   -0.021985\n",
       "population                 -0.026920\n",
       "longitude                  -0.047432\n",
       "latitude                   -0.142724\n",
       "bedroms_per_rooms          -0.259984\n",
       "Name: median_house_value, dtype: float64"
      ]
     },
     "execution_count": 23,
     "metadata": {},
     "output_type": "execute_result"
    }
   ],
   "source": [
    "new_corr_matrix = train_set.corr()\n",
    "new_corr_matrix['median_house_value'].sort_values(ascending=False)"
   ]
  },
  {
   "cell_type": "code",
   "execution_count": 24,
   "id": "d6d6c4cd",
   "metadata": {},
   "outputs": [],
   "source": [
    "# here we found that (rooms_per_household) & (bedroms_per_rooms) are great ...."
   ]
  },
  {
   "cell_type": "code",
   "execution_count": 25,
   "id": "c91d5f2b",
   "metadata": {},
   "outputs": [
    {
     "name": "stdout",
     "output_type": "stream",
     "text": [
      "<class 'pandas.core.frame.DataFrame'>\n",
      "Int64Index: 16512 entries, 17606 to 15775\n",
      "Data columns (total 13 columns):\n",
      " #   Column                    Non-Null Count  Dtype  \n",
      "---  ------                    --------------  -----  \n",
      " 0   longitude                 16512 non-null  float64\n",
      " 1   latitude                  16512 non-null  float64\n",
      " 2   housing_median_age        16512 non-null  float64\n",
      " 3   total_rooms               16512 non-null  float64\n",
      " 4   total_bedrooms            16354 non-null  float64\n",
      " 5   population                16512 non-null  float64\n",
      " 6   households                16512 non-null  float64\n",
      " 7   median_income             16512 non-null  float64\n",
      " 8   median_house_value        16512 non-null  float64\n",
      " 9   ocean_proximity           16512 non-null  object \n",
      " 10  rooms_per_household       16512 non-null  float64\n",
      " 11  bedroms_per_rooms         16354 non-null  float64\n",
      " 12  population_per_household  16512 non-null  float64\n",
      "dtypes: float64(12), object(1)\n",
      "memory usage: 2.3+ MB\n"
     ]
    }
   ],
   "source": [
    "train_set.info()"
   ]
  },
  {
   "cell_type": "markdown",
   "id": "d107d122",
   "metadata": {},
   "source": [
    "## Data Preparing"
   ]
  },
  {
   "cell_type": "code",
   "execution_count": 26,
   "id": "a297e01b",
   "metadata": {},
   "outputs": [],
   "source": [
    "train_set_new = train_set.copy()\n",
    "\n",
    "X_train_new = train_set_new.drop(columns=['median_house_value'], axis=1)\n",
    "y_train_new = train_set_new['median_house_value']"
   ]
  },
  {
   "cell_type": "code",
   "execution_count": 27,
   "id": "5fd2abc3",
   "metadata": {},
   "outputs": [
    {
     "name": "stdout",
     "output_type": "stream",
     "text": [
      "num_cols => \n",
      " ['longitude', 'latitude', 'housing_median_age', 'total_rooms', 'total_bedrooms', 'population', 'households', 'median_income', 'rooms_per_household', 'bedroms_per_rooms', 'population_per_household']\n",
      "============================================================\n",
      "cat_cols => ['ocean_proximity']\n"
     ]
    }
   ],
   "source": [
    "num_cols = [cname for cname in  X_train_new.columns \n",
    "            if X_train_new[cname].dtype in ['float64', 'int64']]\n",
    "\n",
    "cat_cols =  [cname for cname in  X_train_new.columns \n",
    "            if X_train_new[cname].dtype in ['object']]\n",
    "\n",
    "print('num_cols => \\n', num_cols)\n",
    "print('=='*30)\n",
    "print('cat_cols =>', cat_cols)"
   ]
  },
  {
   "cell_type": "code",
   "execution_count": 28,
   "id": "fb033959",
   "metadata": {},
   "outputs": [
    {
     "name": "stdout",
     "output_type": "stream",
     "text": [
      "algorithm use to fill na (median_each_columns) \n",
      " [-1.18510000e+02  3.42600000e+01  2.90000000e+01  2.11950000e+03\n",
      "  4.33000000e+02  1.16400000e+03  4.08000000e+02  3.54090000e+00\n",
      "  5.23228423e+00  2.03031374e-01  2.81765270e+00]\n"
     ]
    }
   ],
   "source": [
    "# imputing with median\n",
    "my_imputer = SimpleImputer(strategy='median')\n",
    "X_train_new[num_cols] = my_imputer.fit_transform(X_train_new[num_cols])\n",
    "\n",
    "#########################################\n",
    "\n",
    "# if you want to know what value algorithm use to fill na (median_each_columns)\n",
    "median_cols = my_imputer.statistics_ \n",
    "print('algorithm use to fill na (median_each_columns) \\n', median_cols)"
   ]
  },
  {
   "cell_type": "code",
   "execution_count": 29,
   "id": "ea53feed",
   "metadata": {},
   "outputs": [
    {
     "name": "stdout",
     "output_type": "stream",
     "text": [
      "<class 'pandas.core.frame.DataFrame'>\n",
      "Int64Index: 16512 entries, 17606 to 15775\n",
      "Data columns (total 12 columns):\n",
      " #   Column                    Non-Null Count  Dtype  \n",
      "---  ------                    --------------  -----  \n",
      " 0   longitude                 16512 non-null  float64\n",
      " 1   latitude                  16512 non-null  float64\n",
      " 2   housing_median_age        16512 non-null  float64\n",
      " 3   total_rooms               16512 non-null  float64\n",
      " 4   total_bedrooms            16512 non-null  float64\n",
      " 5   population                16512 non-null  float64\n",
      " 6   households                16512 non-null  float64\n",
      " 7   median_income             16512 non-null  float64\n",
      " 8   ocean_proximity           16512 non-null  object \n",
      " 9   rooms_per_household       16512 non-null  float64\n",
      " 10  bedroms_per_rooms         16512 non-null  float64\n",
      " 11  population_per_household  16512 non-null  float64\n",
      "dtypes: float64(11), object(1)\n",
      "memory usage: 2.1+ MB\n"
     ]
    }
   ],
   "source": [
    "X_train_new.info()"
   ]
  },
  {
   "cell_type": "code",
   "execution_count": 30,
   "id": "0fe10ee4",
   "metadata": {},
   "outputs": [
    {
     "data": {
      "image/png": "[encoded data removed]",
      "text/plain": [
       "<Figure size 1800x720 with 2 Axes>"
      ]
     },
     "metadata": {
      "needs_background": "light"
     },
     "output_type": "display_data"
    }
   ],
   "source": [
    "msn.matrix(X_train_new); # ok there is no nulls now"
   ]
  },
  {
   "cell_type": "code",
   "execution_count": 31,
   "id": "5f6fb4fc",
   "metadata": {},
   "outputs": [
    {
     "data": {
      "text/html": [
       "<div>\n",
       "<style scoped>\n",
       "    .dataframe tbody tr th:only-of-type {\n",
       "        vertical-align: middle;\n",
       "    }\n",
       "\n",
       "    .dataframe tbody tr th {\n",
       "        vertical-align: top;\n",
       "    }\n",
       "\n",
       "    .dataframe thead th {\n",
       "        text-align: right;\n",
       "    }\n",
       "</style>\n",
       "<table border=\"1\" class=\"dataframe\">\n",
       "  <thead>\n",
       "    <tr style=\"text-align: right;\">\n",
       "      <th></th>\n",
       "      <th>name0</th>\n",
       "      <th>name1</th>\n",
       "      <th>name2</th>\n",
       "      <th>name3</th>\n",
       "      <th>name4</th>\n",
       "    </tr>\n",
       "  </thead>\n",
       "  <tbody>\n",
       "    <tr>\n",
       "      <th>0</th>\n",
       "      <td>1.0</td>\n",
       "      <td>0.0</td>\n",
       "      <td>0.0</td>\n",
       "      <td>0.0</td>\n",
       "      <td>0.0</td>\n",
       "    </tr>\n",
       "    <tr>\n",
       "      <th>1</th>\n",
       "      <td>1.0</td>\n",
       "      <td>0.0</td>\n",
       "      <td>0.0</td>\n",
       "      <td>0.0</td>\n",
       "      <td>0.0</td>\n",
       "    </tr>\n",
       "    <tr>\n",
       "      <th>2</th>\n",
       "      <td>0.0</td>\n",
       "      <td>0.0</td>\n",
       "      <td>0.0</td>\n",
       "      <td>0.0</td>\n",
       "      <td>1.0</td>\n",
       "    </tr>\n",
       "    <tr>\n",
       "      <th>3</th>\n",
       "      <td>0.0</td>\n",
       "      <td>1.0</td>\n",
       "      <td>0.0</td>\n",
       "      <td>0.0</td>\n",
       "      <td>0.0</td>\n",
       "    </tr>\n",
       "    <tr>\n",
       "      <th>4</th>\n",
       "      <td>1.0</td>\n",
       "      <td>0.0</td>\n",
       "      <td>0.0</td>\n",
       "      <td>0.0</td>\n",
       "      <td>0.0</td>\n",
       "    </tr>\n",
       "  </tbody>\n",
       "</table>\n",
       "</div>"
      ],
      "text/plain": [
       "   name0  name1  name2  name3  name4\n",
       "0    1.0    0.0    0.0    0.0    0.0\n",
       "1    1.0    0.0    0.0    0.0    0.0\n",
       "2    0.0    0.0    0.0    0.0    1.0\n",
       "3    0.0    1.0    0.0    0.0    0.0\n",
       "4    1.0    0.0    0.0    0.0    0.0"
      ]
     },
     "execution_count": 31,
     "metadata": {},
     "output_type": "execute_result"
    }
   ],
   "source": [
    "## Handle Categorical Data using OneHotEncoder\n",
    "\n",
    "X_train_cat = X_train_new[['ocean_proximity']]\n",
    "\n",
    "cat_encoder = OneHotEncoder()\n",
    "\n",
    "train_cat_hot_encoded = cat_encoder.fit_transform(X_train_cat)\n",
    "\n",
    "# it is sparse matrix ... convert it to array\n",
    "train_cat_hot_encoded = train_cat_hot_encoded.toarray()\n",
    "\n",
    "cols_names = ['name0', 'name1', 'name2', 'name3', 'name4']\n",
    "train_cat_hot_encoded = pd.DataFrame(train_cat_hot_encoded, columns=cols_names)\n",
    "train_cat_hot_encoded.head()\n",
    "\n",
    "\n",
    "# print('train_cat_hot_encoded categories => \\n', cat_encoder.categories_)\n"
   ]
  },
  {
   "cell_type": "code",
   "execution_count": 32,
   "id": "e930763d",
   "metadata": {},
   "outputs": [],
   "source": [
    "# get final dataframe \n",
    "X_train_final = pd.DataFrame(np.c_[X_train_new, train_cat_hot_encoded])\n",
    "\n",
    "all_names = [*X_train_new.columns.values] + [*train_cat_hot_encoded.columns.values]\n",
    "\n",
    "X_train_final.columns = all_names "
   ]
  },
  {
   "cell_type": "code",
   "execution_count": 33,
   "id": "0b3d8bea",
   "metadata": {},
   "outputs": [],
   "source": [
    "X_train_final = X_train_final.drop(columns=['ocean_proximity'], axis=1)"
   ]
  },
  {
   "cell_type": "code",
   "execution_count": 34,
   "id": "1cee9fd5",
   "metadata": {},
   "outputs": [
    {
     "data": {
      "text/html": [
       "<div>\n",
       "<style scoped>\n",
       "    .dataframe tbody tr th:only-of-type {\n",
       "        vertical-align: middle;\n",
       "    }\n",
       "\n",
       "    .dataframe tbody tr th {\n",
       "        vertical-align: top;\n",
       "    }\n",
       "\n",
       "    .dataframe thead th {\n",
       "        text-align: right;\n",
       "    }\n",
       "</style>\n",
       "<table border=\"1\" class=\"dataframe\">\n",
       "  <thead>\n",
       "    <tr style=\"text-align: right;\">\n",
       "      <th></th>\n",
       "      <th>longitude</th>\n",
       "      <th>latitude</th>\n",
       "      <th>housing_median_age</th>\n",
       "      <th>total_rooms</th>\n",
       "      <th>total_bedrooms</th>\n",
       "      <th>population</th>\n",
       "      <th>households</th>\n",
       "      <th>median_income</th>\n",
       "      <th>rooms_per_household</th>\n",
       "      <th>bedroms_per_rooms</th>\n",
       "      <th>population_per_household</th>\n",
       "      <th>name0</th>\n",
       "      <th>name1</th>\n",
       "      <th>name2</th>\n",
       "      <th>name3</th>\n",
       "      <th>name4</th>\n",
       "    </tr>\n",
       "  </thead>\n",
       "  <tbody>\n",
       "    <tr>\n",
       "      <th>0</th>\n",
       "      <td>-121.89</td>\n",
       "      <td>37.29</td>\n",
       "      <td>38.0</td>\n",
       "      <td>1568.0</td>\n",
       "      <td>351.0</td>\n",
       "      <td>710.0</td>\n",
       "      <td>339.0</td>\n",
       "      <td>2.7042</td>\n",
       "      <td>4.625369</td>\n",
       "      <td>0.223852</td>\n",
       "      <td>2.094395</td>\n",
       "      <td>1.0</td>\n",
       "      <td>0.0</td>\n",
       "      <td>0.0</td>\n",
       "      <td>0.0</td>\n",
       "      <td>0.0</td>\n",
       "    </tr>\n",
       "    <tr>\n",
       "      <th>1</th>\n",
       "      <td>-121.93</td>\n",
       "      <td>37.05</td>\n",
       "      <td>14.0</td>\n",
       "      <td>679.0</td>\n",
       "      <td>108.0</td>\n",
       "      <td>306.0</td>\n",
       "      <td>113.0</td>\n",
       "      <td>6.4214</td>\n",
       "      <td>6.00885</td>\n",
       "      <td>0.159057</td>\n",
       "      <td>2.707965</td>\n",
       "      <td>1.0</td>\n",
       "      <td>0.0</td>\n",
       "      <td>0.0</td>\n",
       "      <td>0.0</td>\n",
       "      <td>0.0</td>\n",
       "    </tr>\n",
       "    <tr>\n",
       "      <th>2</th>\n",
       "      <td>-117.2</td>\n",
       "      <td>32.77</td>\n",
       "      <td>31.0</td>\n",
       "      <td>1952.0</td>\n",
       "      <td>471.0</td>\n",
       "      <td>936.0</td>\n",
       "      <td>462.0</td>\n",
       "      <td>2.8621</td>\n",
       "      <td>4.225108</td>\n",
       "      <td>0.241291</td>\n",
       "      <td>2.025974</td>\n",
       "      <td>0.0</td>\n",
       "      <td>0.0</td>\n",
       "      <td>0.0</td>\n",
       "      <td>0.0</td>\n",
       "      <td>1.0</td>\n",
       "    </tr>\n",
       "    <tr>\n",
       "      <th>3</th>\n",
       "      <td>-119.61</td>\n",
       "      <td>36.31</td>\n",
       "      <td>25.0</td>\n",
       "      <td>1847.0</td>\n",
       "      <td>371.0</td>\n",
       "      <td>1460.0</td>\n",
       "      <td>353.0</td>\n",
       "      <td>1.8839</td>\n",
       "      <td>5.232295</td>\n",
       "      <td>0.200866</td>\n",
       "      <td>4.135977</td>\n",
       "      <td>0.0</td>\n",
       "      <td>1.0</td>\n",
       "      <td>0.0</td>\n",
       "      <td>0.0</td>\n",
       "      <td>0.0</td>\n",
       "    </tr>\n",
       "    <tr>\n",
       "      <th>4</th>\n",
       "      <td>-118.59</td>\n",
       "      <td>34.23</td>\n",
       "      <td>17.0</td>\n",
       "      <td>6592.0</td>\n",
       "      <td>1525.0</td>\n",
       "      <td>4459.0</td>\n",
       "      <td>1463.0</td>\n",
       "      <td>3.0347</td>\n",
       "      <td>4.50581</td>\n",
       "      <td>0.231341</td>\n",
       "      <td>3.047847</td>\n",
       "      <td>1.0</td>\n",
       "      <td>0.0</td>\n",
       "      <td>0.0</td>\n",
       "      <td>0.0</td>\n",
       "      <td>0.0</td>\n",
       "    </tr>\n",
       "  </tbody>\n",
       "</table>\n",
       "</div>"
      ],
      "text/plain": [
       "  longitude latitude housing_median_age total_rooms total_bedrooms population  \\\n",
       "0   -121.89    37.29               38.0      1568.0          351.0      710.0   \n",
       "1   -121.93    37.05               14.0       679.0          108.0      306.0   \n",
       "2    -117.2    32.77               31.0      1952.0          471.0      936.0   \n",
       "3   -119.61    36.31               25.0      1847.0          371.0     1460.0   \n",
       "4   -118.59    34.23               17.0      6592.0         1525.0     4459.0   \n",
       "\n",
       "  households median_income rooms_per_household bedroms_per_rooms  \\\n",
       "0      339.0        2.7042            4.625369          0.223852   \n",
       "1      113.0        6.4214             6.00885          0.159057   \n",
       "2      462.0        2.8621            4.225108          0.241291   \n",
       "3      353.0        1.8839            5.232295          0.200866   \n",
       "4     1463.0        3.0347             4.50581          0.231341   \n",
       "\n",
       "  population_per_household name0 name1 name2 name3 name4  \n",
       "0                 2.094395   1.0   0.0   0.0   0.0   0.0  \n",
       "1                 2.707965   1.0   0.0   0.0   0.0   0.0  \n",
       "2                 2.025974   0.0   0.0   0.0   0.0   1.0  \n",
       "3                 4.135977   0.0   1.0   0.0   0.0   0.0  \n",
       "4                 3.047847   1.0   0.0   0.0   0.0   0.0  "
      ]
     },
     "execution_count": 34,
     "metadata": {},
     "output_type": "execute_result"
    }
   ],
   "source": [
    "X_train_final.head()"
   ]
  },
  {
   "cell_type": "code",
   "execution_count": 35,
   "id": "7791d2d0",
   "metadata": {},
   "outputs": [],
   "source": [
    "# now you can make some (standardization or Normalization)\n",
    "\n",
    "# i will repeat all above steps and (standardization or Normalization)\n",
    "# using PipeLine & ColumnTRansformer"
   ]
  },
  {
   "cell_type": "markdown",
   "id": "c4e0f8f3",
   "metadata": {},
   "source": [
    "### Using Pipeline & ColumnTransfomer"
   ]
  },
  {
   "cell_type": "code",
   "execution_count": 36,
   "id": "cf14c781",
   "metadata": {},
   "outputs": [],
   "source": [
    "# copy  of the original one\n",
    "housing_train = train_set.copy()\n",
    "X_housing_train = housing_train.drop(columns=['median_house_value'], axis=1)\n",
    "y_housing_train = housing_train['median_house_value']"
   ]
  },
  {
   "cell_type": "code",
   "execution_count": 37,
   "id": "b4b39cf0",
   "metadata": {},
   "outputs": [],
   "source": [
    "# numerical\n",
    "num_pipeline = Pipeline([\n",
    "    ('imputer', SimpleImputer(strategy='median')),\n",
    "    ('std_scalar', StandardScaler())\n",
    "])\n",
    "\n",
    "# total numerical and categorical using ColuneTransformer\n",
    "full_pipeline = ColumnTransformer([\n",
    "    ('numerical', num_pipeline, num_cols),\n",
    "    ('categorical', OneHotEncoder(), cat_cols)\n",
    "])"
   ]
  },
  {
   "cell_type": "code",
   "execution_count": 38,
   "id": "dff95461",
   "metadata": {},
   "outputs": [],
   "source": [
    "X_housing_train = full_pipeline.fit_transform(X_housing_train)\n"
   ]
  },
  {
   "cell_type": "code",
   "execution_count": 39,
   "id": "15877768",
   "metadata": {},
   "outputs": [],
   "source": [
    "X_housing_train = pd.DataFrame(X_housing_train)"
   ]
  },
  {
   "cell_type": "code",
   "execution_count": 40,
   "id": "b3fb35df",
   "metadata": {},
   "outputs": [
    {
     "data": {
      "text/plain": [
       "ColumnTransformer(transformers=[('numerical',\n",
       "                                 Pipeline(steps=[('imputer',\n",
       "                                                  SimpleImputer(strategy='median')),\n",
       "                                                 ('std_scalar',\n",
       "                                                  StandardScaler())]),\n",
       "                                 ['longitude', 'latitude', 'housing_median_age',\n",
       "                                  'total_rooms', 'total_bedrooms', 'population',\n",
       "                                  'households', 'median_income',\n",
       "                                  'rooms_per_household', 'bedroms_per_rooms',\n",
       "                                  'population_per_household']),\n",
       "                                ('categorical', OneHotEncoder(),\n",
       "                                 ['ocean_proximity'])])"
      ]
     },
     "execution_count": 40,
     "metadata": {},
     "output_type": "execute_result"
    }
   ],
   "source": [
    "full_pipeline"
   ]
  },
  {
   "cell_type": "code",
   "execution_count": 41,
   "id": "60576457",
   "metadata": {},
   "outputs": [],
   "source": [
    "num_cols_pipeline = ['longitude', 'latitude', 'housing_median_age',\n",
    "                                  'total_rooms', 'total_bedrooms', 'population',\n",
    "                                  'households', 'median_income',\n",
    "                                  'rooms_per_household', 'bedroms_per_rooms',\n",
    "                                  'population_per_household']\n",
    "\n",
    "cat_cols_pipeline = ['ocean0', 'ocean1', 'ocean2', 'ocean3', 'ocean4']\n",
    "\n",
    "X_housing_train.columns = num_cols_pipeline + cat_cols_pipeline"
   ]
  },
  {
   "cell_type": "code",
   "execution_count": 42,
   "id": "f971e5be",
   "metadata": {},
   "outputs": [
    {
     "data": {
      "text/html": [
       "<div>\n",
       "<style scoped>\n",
       "    .dataframe tbody tr th:only-of-type {\n",
       "        vertical-align: middle;\n",
       "    }\n",
       "\n",
       "    .dataframe tbody tr th {\n",
       "        vertical-align: top;\n",
       "    }\n",
       "\n",
       "    .dataframe thead th {\n",
       "        text-align: right;\n",
       "    }\n",
       "</style>\n",
       "<table border=\"1\" class=\"dataframe\">\n",
       "  <thead>\n",
       "    <tr style=\"text-align: right;\">\n",
       "      <th></th>\n",
       "      <th>longitude</th>\n",
       "      <th>latitude</th>\n",
       "      <th>housing_median_age</th>\n",
       "      <th>total_rooms</th>\n",
       "      <th>total_bedrooms</th>\n",
       "      <th>population</th>\n",
       "      <th>households</th>\n",
       "      <th>median_income</th>\n",
       "      <th>rooms_per_household</th>\n",
       "      <th>bedroms_per_rooms</th>\n",
       "      <th>population_per_household</th>\n",
       "      <th>ocean0</th>\n",
       "      <th>ocean1</th>\n",
       "      <th>ocean2</th>\n",
       "      <th>ocean3</th>\n",
       "      <th>ocean4</th>\n",
       "    </tr>\n",
       "  </thead>\n",
       "  <tbody>\n",
       "    <tr>\n",
       "      <th>0</th>\n",
       "      <td>-1.156043</td>\n",
       "      <td>0.771950</td>\n",
       "      <td>0.743331</td>\n",
       "      <td>-0.493234</td>\n",
       "      <td>-0.445438</td>\n",
       "      <td>-0.636211</td>\n",
       "      <td>-0.420698</td>\n",
       "      <td>-0.614937</td>\n",
       "      <td>-0.312055</td>\n",
       "      <td>0.193805</td>\n",
       "      <td>-0.086499</td>\n",
       "      <td>1.0</td>\n",
       "      <td>0.0</td>\n",
       "      <td>0.0</td>\n",
       "      <td>0.0</td>\n",
       "      <td>0.0</td>\n",
       "    </tr>\n",
       "    <tr>\n",
       "      <th>1</th>\n",
       "      <td>-1.176025</td>\n",
       "      <td>0.659695</td>\n",
       "      <td>-1.165317</td>\n",
       "      <td>-0.908967</td>\n",
       "      <td>-1.036928</td>\n",
       "      <td>-0.998331</td>\n",
       "      <td>-1.022227</td>\n",
       "      <td>1.336459</td>\n",
       "      <td>0.217683</td>\n",
       "      <td>-0.940745</td>\n",
       "      <td>-0.033534</td>\n",
       "      <td>1.0</td>\n",
       "      <td>0.0</td>\n",
       "      <td>0.0</td>\n",
       "      <td>0.0</td>\n",
       "      <td>0.0</td>\n",
       "    </tr>\n",
       "    <tr>\n",
       "      <th>2</th>\n",
       "      <td>1.186849</td>\n",
       "      <td>-1.342183</td>\n",
       "      <td>0.186642</td>\n",
       "      <td>-0.313660</td>\n",
       "      <td>-0.153345</td>\n",
       "      <td>-0.433639</td>\n",
       "      <td>-0.093318</td>\n",
       "      <td>-0.532046</td>\n",
       "      <td>-0.465315</td>\n",
       "      <td>0.499160</td>\n",
       "      <td>-0.092405</td>\n",
       "      <td>0.0</td>\n",
       "      <td>0.0</td>\n",
       "      <td>0.0</td>\n",
       "      <td>0.0</td>\n",
       "      <td>1.0</td>\n",
       "    </tr>\n",
       "    <tr>\n",
       "      <th>3</th>\n",
       "      <td>-0.017068</td>\n",
       "      <td>0.313576</td>\n",
       "      <td>-0.290520</td>\n",
       "      <td>-0.362762</td>\n",
       "      <td>-0.396756</td>\n",
       "      <td>0.036041</td>\n",
       "      <td>-0.383436</td>\n",
       "      <td>-1.045566</td>\n",
       "      <td>-0.079661</td>\n",
       "      <td>-0.208675</td>\n",
       "      <td>0.089736</td>\n",
       "      <td>0.0</td>\n",
       "      <td>1.0</td>\n",
       "      <td>0.0</td>\n",
       "      <td>0.0</td>\n",
       "      <td>0.0</td>\n",
       "    </tr>\n",
       "    <tr>\n",
       "      <th>4</th>\n",
       "      <td>0.492474</td>\n",
       "      <td>-0.659299</td>\n",
       "      <td>-0.926736</td>\n",
       "      <td>1.856193</td>\n",
       "      <td>2.412211</td>\n",
       "      <td>2.724154</td>\n",
       "      <td>2.570975</td>\n",
       "      <td>-0.441437</td>\n",
       "      <td>-0.357834</td>\n",
       "      <td>0.324937</td>\n",
       "      <td>-0.004194</td>\n",
       "      <td>1.0</td>\n",
       "      <td>0.0</td>\n",
       "      <td>0.0</td>\n",
       "      <td>0.0</td>\n",
       "      <td>0.0</td>\n",
       "    </tr>\n",
       "  </tbody>\n",
       "</table>\n",
       "</div>"
      ],
      "text/plain": [
       "   longitude  latitude  housing_median_age  total_rooms  total_bedrooms  \\\n",
       "0  -1.156043  0.771950            0.743331    -0.493234       -0.445438   \n",
       "1  -1.176025  0.659695           -1.165317    -0.908967       -1.036928   \n",
       "2   1.186849 -1.342183            0.186642    -0.313660       -0.153345   \n",
       "3  -0.017068  0.313576           -0.290520    -0.362762       -0.396756   \n",
       "4   0.492474 -0.659299           -0.926736     1.856193        2.412211   \n",
       "\n",
       "   population  households  median_income  rooms_per_household  \\\n",
       "0   -0.636211   -0.420698      -0.614937            -0.312055   \n",
       "1   -0.998331   -1.022227       1.336459             0.217683   \n",
       "2   -0.433639   -0.093318      -0.532046            -0.465315   \n",
       "3    0.036041   -0.383436      -1.045566            -0.079661   \n",
       "4    2.724154    2.570975      -0.441437            -0.357834   \n",
       "\n",
       "   bedroms_per_rooms  population_per_household  ocean0  ocean1  ocean2  \\\n",
       "0           0.193805                 -0.086499     1.0     0.0     0.0   \n",
       "1          -0.940745                 -0.033534     1.0     0.0     0.0   \n",
       "2           0.499160                 -0.092405     0.0     0.0     0.0   \n",
       "3          -0.208675                  0.089736     0.0     1.0     0.0   \n",
       "4           0.324937                 -0.004194     1.0     0.0     0.0   \n",
       "\n",
       "   ocean3  ocean4  \n",
       "0     0.0     0.0  \n",
       "1     0.0     0.0  \n",
       "2     0.0     1.0  \n",
       "3     0.0     0.0  \n",
       "4     0.0     0.0  "
      ]
     },
     "execution_count": 42,
     "metadata": {},
     "output_type": "execute_result"
    }
   ],
   "source": [
    "X_housing_train.head()"
   ]
  },
  {
   "cell_type": "markdown",
   "id": "58b84e4b",
   "metadata": {},
   "source": [
    "## Train the Model"
   ]
  },
  {
   "cell_type": "markdown",
   "id": "fbc337a0",
   "metadata": {},
   "source": [
    "#### LinearRegression"
   ]
  },
  {
   "cell_type": "code",
   "execution_count": 43,
   "id": "379624e5",
   "metadata": {},
   "outputs": [
    {
     "data": {
      "text/plain": [
       "LinearRegression()"
      ]
     },
     "execution_count": 43,
     "metadata": {},
     "output_type": "execute_result"
    }
   ],
   "source": [
    "lin_reg = LinearRegression()\n",
    "lin_reg.fit(X_housing_train, y_housing_train)"
   ]
  },
  {
   "cell_type": "code",
   "execution_count": 44,
   "id": "6c482c6c",
   "metadata": {},
   "outputs": [],
   "source": [
    "some_data = X_housing_train.iloc[:5]   # already pipedline\n",
    "y_true = y_housing_train.iloc[:5]"
   ]
  },
  {
   "cell_type": "code",
   "execution_count": 45,
   "id": "397332e1",
   "metadata": {},
   "outputs": [],
   "source": [
    "lin_reg_pred_y = lin_reg.predict(some_data)"
   ]
  },
  {
   "cell_type": "code",
   "execution_count": 46,
   "id": "40fffa5a",
   "metadata": {},
   "outputs": [
    {
     "name": "stdout",
     "output_type": "stream",
     "text": [
      "lin_reg_rms => 48854.8917533481\n"
     ]
    }
   ],
   "source": [
    "lin_reg_rms = (mean_squared_error(y_true, lin_reg_pred_y))**0.5\n",
    "print('lin_reg_rms =>', lin_reg_rms)"
   ]
  },
  {
   "cell_type": "code",
   "execution_count": null,
   "id": "6c12a6dd",
   "metadata": {},
   "outputs": [],
   "source": []
  },
  {
   "cell_type": "markdown",
   "id": "39d3ba65",
   "metadata": {},
   "source": [
    "#### Decision Tree"
   ]
  },
  {
   "cell_type": "code",
   "execution_count": 47,
   "id": "b3deb41e",
   "metadata": {},
   "outputs": [
    {
     "data": {
      "text/plain": [
       "DecisionTreeRegressor()"
      ]
     },
     "execution_count": 47,
     "metadata": {},
     "output_type": "execute_result"
    }
   ],
   "source": [
    "tree_reg = DecisionTreeRegressor()\n",
    "tree_reg.fit(X_housing_train, y_housing_train)"
   ]
  },
  {
   "cell_type": "code",
   "execution_count": 48,
   "id": "02ca02d5",
   "metadata": {},
   "outputs": [],
   "source": [
    "tree_reg_pred_y =  tree_reg.predict(some_data)"
   ]
  },
  {
   "cell_type": "code",
   "execution_count": 49,
   "id": "9475d467",
   "metadata": {},
   "outputs": [
    {
     "name": "stdout",
     "output_type": "stream",
     "text": [
      "tree_reg_rms => 0.0\n"
     ]
    }
   ],
   "source": [
    "tree_reg_rms = (mean_squared_error(y_true, tree_reg_pred_y))**0.5\n",
    "print('tree_reg_rms =>', tree_reg_rms)"
   ]
  },
  {
   "cell_type": "code",
   "execution_count": null,
   "id": "4fc88988",
   "metadata": {},
   "outputs": [],
   "source": []
  },
  {
   "cell_type": "code",
   "execution_count": null,
   "id": "e4dc0fae",
   "metadata": {},
   "outputs": [],
   "source": []
  },
  {
   "cell_type": "markdown",
   "id": "5170d5dd",
   "metadata": {},
   "source": [
    "### Using Cross Validation"
   ]
  },
  {
   "cell_type": "markdown",
   "id": "52526ed7",
   "metadata": {},
   "source": [
    "#### Linear Regression"
   ]
  },
  {
   "cell_type": "code",
   "execution_count": 50,
   "id": "e6733345",
   "metadata": {},
   "outputs": [
    {
     "name": "stdout",
     "output_type": "stream",
     "text": [
      "rmse => 87993.33428106444\n",
      "rmsle => 0.32718847796880746\n",
      "rmsle_cross => 0.025262719425438607\n"
     ]
    }
   ],
   "source": [
    "lin_reg = LinearRegression()\n",
    "\n",
    "# log transform\n",
    "y_housing_train_log = np.log1p(y_housing_train)\n",
    "\n",
    "lin_reg.fit(X_housing_train, y_housing_train_log)\n",
    "\n",
    "y_log = lin_reg.predict(X_housing_train)\n",
    "\n",
    "# return\n",
    "y_lin_reg = np.expm1(y_log)\n",
    "\n",
    "rmse = (mean_squared_error(y_housing_train, y_lin_reg))**0.5\n",
    "rmsle = (mean_squared_log_error(y_housing_train, y_lin_reg))**0.5\n",
    "\n",
    "print('rmse =>', rmse)\n",
    "print('rmsle =>', rmsle)\n",
    "\n",
    "reg_scores = cross_val_score(lin_reg, X_housing_train, y_housing_train_log, \n",
    "                cv=10, scoring='neg_mean_squared_log_error')\n",
    "\n",
    "\n",
    "reg_scores = -reg_scores\n",
    "\n",
    "# return\n",
    "reg_scores = np.expm1(reg_scores)\n",
    "\n",
    "rmsle_cross = (reg_scores**0.5).mean()\n",
    "\n",
    "print('rmsle_cross =>', rmsle_cross)\n",
    "\n",
    "\n",
    "# reg_scores = -reg_scores\n",
    "# reg_scores = (reg_scores)**0.5\n",
    "# print('mean', reg_scores.mean())\n",
    "# print('std', reg_scores.std())"
   ]
  },
  {
   "cell_type": "code",
   "execution_count": 51,
   "id": "5176ee05",
   "metadata": {},
   "outputs": [
    {
     "data": {
      "text/plain": [
       "<AxesSubplot:>"
      ]
     },
     "execution_count": 51,
     "metadata": {},
     "output_type": "execute_result"
    },
    {
     "data": {
      "image/png": "[encoded data removed]",
      "text/plain": [
       "<Figure size 432x288 with 1 Axes>"
      ]
     },
     "metadata": {
      "needs_background": "light"
     },
     "output_type": "display_data"
    }
   ],
   "source": [
    "y_housing_train_log.hist()"
   ]
  },
  {
   "cell_type": "code",
   "execution_count": null,
   "id": "3ff10136",
   "metadata": {},
   "outputs": [],
   "source": []
  },
  {
   "cell_type": "markdown",
   "id": "aab1e667",
   "metadata": {},
   "source": [
    "#### Random Forest"
   ]
  },
  {
   "cell_type": "code",
   "execution_count": 52,
   "id": "7a08dfbc",
   "metadata": {},
   "outputs": [
    {
     "name": "stdout",
     "output_type": "stream",
     "text": [
      "rmse_forest => 55444.5827076517\n",
      "rmsle_forest => 0.2525720512511504\n",
      "rmsle_cross => 0.020747519720918088\n"
     ]
    }
   ],
   "source": [
    "forest_reg = RandomForestRegressor(n_estimators=100, max_depth=7) \n",
    "\n",
    "# log transform\n",
    "y_housing_train_log = np.log1p(y_housing_train)\n",
    "\n",
    "forest_reg.fit(X_housing_train, y_housing_train_log)\n",
    "\n",
    "y_log_forest = forest_reg.predict(X_housing_train)\n",
    "\n",
    "# return\n",
    "y_pred_forest = np.expm1(y_log_forest)\n",
    "\n",
    "rmse_forest = (mean_squared_error(y_housing_train, y_pred_forest))**0.5\n",
    "rmsle_forest = (mean_squared_log_error(y_housing_train, y_pred_forest))**0.5\n",
    "\n",
    "print('rmse_forest =>', rmse_forest)\n",
    "print('rmsle_forest =>', rmsle_forest)\n",
    "\n",
    "forest_scores = cross_val_score(forest_reg, X_housing_train, y_housing_train_log, \n",
    "                cv=10, scoring='neg_mean_squared_log_error')\n",
    "\n",
    "\n",
    "forest_scores = -forest_scores\n",
    "\n",
    "# return\n",
    "forest_scores = np.expm1(forest_scores)\n",
    "\n",
    "rmsle_cross = (forest_scores**0.5).mean()\n",
    "\n",
    "print('rmsle_cross =>', rmsle_cross)\n",
    "\n",
    "\n",
    "# reg_scores = -reg_scores\n",
    "# reg_scores = (reg_scores)**0.5\n",
    "# print('mean', reg_scores.mean())\n",
    "# print('std', reg_scores.std())"
   ]
  },
  {
   "cell_type": "markdown",
   "id": "18842d51",
   "metadata": {},
   "source": [
    "### Using Random forest \n",
    "\n",
    "root mean squred error ,test for overfitting"
   ]
  },
  {
   "cell_type": "code",
   "execution_count": 53,
   "id": "7198a89c",
   "metadata": {},
   "outputs": [
    {
     "name": "stdout",
     "output_type": "stream",
     "text": [
      "rmse_forest => 18633.980616084104\n"
     ]
    }
   ],
   "source": [
    "forest = RandomForestRegressor()\n",
    "forest.fit(X_housing_train, y_housing_train)\n",
    "y_pred_forest = forest.predict(X_housing_train)\n",
    "\n",
    "rmse_forest = (mean_squared_error(y_housing_train, y_pred_forest))**0.5\n",
    "print('rmse_forest =>', rmse_forest)"
   ]
  },
  {
   "cell_type": "code",
   "execution_count": 54,
   "id": "5ce690fd",
   "metadata": {},
   "outputs": [
    {
     "name": "stdout",
     "output_type": "stream",
     "text": [
      "cross_forest scores (mean) => 50108.00483394178\n",
      "cross_forest scores (std) => 1812.8173841572952\n"
     ]
    }
   ],
   "source": [
    "# using cross valuidation\n",
    "cross_forest = cross_val_score(forest, X_housing_train, y_housing_train, cv=10,\n",
    "                              scoring='neg_mean_squared_error')\n",
    "\n",
    "cross_forest = np.sqrt(-cross_forest)\n",
    "print('cross_forest scores (mean) =>', cross_forest.mean())\n",
    "print('cross_forest scores (std) =>', cross_forest.std())"
   ]
  },
  {
   "cell_type": "code",
   "execution_count": 55,
   "id": "c18c2e2d",
   "metadata": {},
   "outputs": [],
   "source": [
    "## there is an overfitting as shown above two cells"
   ]
  },
  {
   "cell_type": "markdown",
   "id": "aa044f3b",
   "metadata": {},
   "source": [
    "## Tune Model (RandomForest)"
   ]
  },
  {
   "cell_type": "code",
   "execution_count": 56,
   "id": "dd092f5c",
   "metadata": {},
   "outputs": [],
   "source": [
    "parms_test = {'n_estimators':[10,25,35,40], 'max_features':[2,4,6,8], 'bootstrap':[False]}\n",
    "\n",
    "grid_search = GridSearchCV(estimator=forest, param_grid=parms_test, cv=5, \n",
    "                           scoring='neg_mean_squared_error', n_jobs=-1,\n",
    "                          return_train_score=True)"
   ]
  },
  {
   "cell_type": "code",
   "execution_count": 57,
   "id": "563ff5bd",
   "metadata": {},
   "outputs": [
    {
     "data": {
      "text/plain": [
       "GridSearchCV(cv=5, estimator=RandomForestRegressor(), n_jobs=-1,\n",
       "             param_grid={'bootstrap': [False], 'max_features': [2, 4, 6, 8],\n",
       "                         'n_estimators': [10, 25, 35, 40]},\n",
       "             return_train_score=True, scoring='neg_mean_squared_error')"
      ]
     },
     "execution_count": 57,
     "metadata": {},
     "output_type": "execute_result"
    }
   ],
   "source": [
    "grid_search.fit(X_housing_train, y_housing_train)"
   ]
  },
  {
   "cell_type": "code",
   "execution_count": 58,
   "id": "c276e054",
   "metadata": {},
   "outputs": [],
   "source": [
    "# get best model hypr-parameters\n",
    "best_model = grid_search.best_estimator_"
   ]
  },
  {
   "cell_type": "code",
   "execution_count": 59,
   "id": "20250102",
   "metadata": {},
   "outputs": [
    {
     "name": "stdout",
     "output_type": "stream",
     "text": [
      "score_best after Tuning =>  48875.85574081665\n",
      "==========================================================================================\n",
      "54926.208838444974 {'bootstrap': False, 'max_features': 2, 'n_estimators': 10}\n",
      "52122.69155975183 {'bootstrap': False, 'max_features': 2, 'n_estimators': 25}\n",
      "51560.56731136817 {'bootstrap': False, 'max_features': 2, 'n_estimators': 35}\n",
      "51537.428441217846 {'bootstrap': False, 'max_features': 2, 'n_estimators': 40}\n",
      "51761.055200987954 {'bootstrap': False, 'max_features': 4, 'n_estimators': 10}\n",
      "49905.772862905214 {'bootstrap': False, 'max_features': 4, 'n_estimators': 25}\n",
      "49450.042770685264 {'bootstrap': False, 'max_features': 4, 'n_estimators': 35}\n",
      "49495.95086967757 {'bootstrap': False, 'max_features': 4, 'n_estimators': 40}\n",
      "51100.419370169955 {'bootstrap': False, 'max_features': 6, 'n_estimators': 10}\n",
      "49159.12334447737 {'bootstrap': False, 'max_features': 6, 'n_estimators': 25}\n",
      "49084.0438938671 {'bootstrap': False, 'max_features': 6, 'n_estimators': 35}\n",
      "48875.85574081665 {'bootstrap': False, 'max_features': 6, 'n_estimators': 40}\n",
      "51371.02953992758 {'bootstrap': False, 'max_features': 8, 'n_estimators': 10}\n",
      "49625.95176732265 {'bootstrap': False, 'max_features': 8, 'n_estimators': 25}\n",
      "49291.70936924407 {'bootstrap': False, 'max_features': 8, 'n_estimators': 35}\n",
      "49237.34184106316 {'bootstrap': False, 'max_features': 8, 'n_estimators': 40}\n"
     ]
    }
   ],
   "source": [
    "# get best scores\n",
    "\n",
    "score_best = grid_search.best_score_\n",
    "score_best = np.sqrt(-score_best)\n",
    "\n",
    "print('score_best after Tuning => ', score_best)\n",
    "\n",
    "print('==='*30)\n",
    "\n",
    "cvres = grid_search.cv_results_\n",
    "for mean_score, params in zip(cvres['mean_test_score'], cvres['params']):\n",
    "    print(np.sqrt(-mean_score), params)"
   ]
  },
  {
   "cell_type": "code",
   "execution_count": 60,
   "id": "a0703dac",
   "metadata": {},
   "outputs": [
    {
     "name": "stdout",
     "output_type": "stream",
     "text": [
      "features_importance => \n",
      " [8.77688077e-02 7.94948433e-02 4.06326997e-02 1.61844114e-02\n",
      " 1.60030593e-02 1.67891667e-02 1.52360811e-02 3.35942797e-01\n",
      " 4.83373592e-02 7.43746720e-02 1.02931678e-01 1.01462219e-02\n",
      " 1.48788859e-01 5.15724567e-05 3.11768278e-03 4.20008939e-03]\n"
     ]
    }
   ],
   "source": [
    "# get best features\n",
    "\n",
    "features_importance = best_model.feature_importances_\n",
    "\n",
    "print('features_importance => \\n', features_importance)\n",
    "# then how to get their names"
   ]
  },
  {
   "cell_type": "code",
   "execution_count": 61,
   "id": "43df6db4",
   "metadata": {},
   "outputs": [],
   "source": [
    "names = X_housing_train.columns"
   ]
  },
  {
   "cell_type": "code",
   "execution_count": 62,
   "id": "fb94df36",
   "metadata": {},
   "outputs": [
    {
     "data": {
      "text/plain": [
       "[(0.3359427965417058, 'median_income'),\n",
       " (0.14878885873009576, 'ocean1'),\n",
       " (0.10293167769399522, 'population_per_household'),\n",
       " (0.08776880771209175, 'longitude'),\n",
       " (0.07949484328779599, 'latitude'),\n",
       " (0.07437467200968041, 'bedroms_per_rooms'),\n",
       " (0.0483373592156207, 'rooms_per_household'),\n",
       " (0.04063269969238057, 'housing_median_age'),\n",
       " (0.016789166748901678, 'population'),\n",
       " (0.016184411415290475, 'total_rooms'),\n",
       " (0.01600305931272882, 'total_bedrooms'),\n",
       " (0.015236081120258585, 'households'),\n",
       " (0.010146221888431207, 'ocean0'),\n",
       " (0.004200089389397871, 'ocean4'),\n",
       " (0.0031176827849090398, 'ocean3'),\n",
       " (5.157245671616301e-05, 'ocean2')]"
      ]
     },
     "execution_count": 62,
     "metadata": {},
     "output_type": "execute_result"
    }
   ],
   "source": [
    "sorted([*zip(features_importance, names)], reverse=True)"
   ]
  },
  {
   "cell_type": "code",
   "execution_count": null,
   "id": "7668b02d",
   "metadata": {
    "scrolled": true
   },
   "outputs": [],
   "source": []
  },
  {
   "cell_type": "code",
   "execution_count": null,
   "id": "4648ad94",
   "metadata": {},
   "outputs": [],
   "source": []
  },
  {
   "cell_type": "markdown",
   "id": "163b2783",
   "metadata": {},
   "source": [
    "## Evaluate on Test Data"
   ]
  },
  {
   "cell_type": "code",
   "execution_count": 63,
   "id": "6e215026",
   "metadata": {},
   "outputs": [
    {
     "data": {
      "text/html": [
       "<div>\n",
       "<style scoped>\n",
       "    .dataframe tbody tr th:only-of-type {\n",
       "        vertical-align: middle;\n",
       "    }\n",
       "\n",
       "    .dataframe tbody tr th {\n",
       "        vertical-align: top;\n",
       "    }\n",
       "\n",
       "    .dataframe thead th {\n",
       "        text-align: right;\n",
       "    }\n",
       "</style>\n",
       "<table border=\"1\" class=\"dataframe\">\n",
       "  <thead>\n",
       "    <tr style=\"text-align: right;\">\n",
       "      <th></th>\n",
       "      <th>longitude</th>\n",
       "      <th>latitude</th>\n",
       "      <th>housing_median_age</th>\n",
       "      <th>total_rooms</th>\n",
       "      <th>total_bedrooms</th>\n",
       "      <th>population</th>\n",
       "      <th>households</th>\n",
       "      <th>median_income</th>\n",
       "      <th>median_house_value</th>\n",
       "      <th>ocean_proximity</th>\n",
       "    </tr>\n",
       "  </thead>\n",
       "  <tbody>\n",
       "    <tr>\n",
       "      <th>5241</th>\n",
       "      <td>-118.39</td>\n",
       "      <td>34.12</td>\n",
       "      <td>29.0</td>\n",
       "      <td>6447.0</td>\n",
       "      <td>1012.0</td>\n",
       "      <td>2184.0</td>\n",
       "      <td>960.0</td>\n",
       "      <td>8.2816</td>\n",
       "      <td>500001.0</td>\n",
       "      <td>&lt;1H OCEAN</td>\n",
       "    </tr>\n",
       "    <tr>\n",
       "      <th>10970</th>\n",
       "      <td>-117.86</td>\n",
       "      <td>33.77</td>\n",
       "      <td>39.0</td>\n",
       "      <td>4159.0</td>\n",
       "      <td>655.0</td>\n",
       "      <td>1669.0</td>\n",
       "      <td>651.0</td>\n",
       "      <td>4.6111</td>\n",
       "      <td>240300.0</td>\n",
       "      <td>&lt;1H OCEAN</td>\n",
       "    </tr>\n",
       "    <tr>\n",
       "      <th>20351</th>\n",
       "      <td>-119.05</td>\n",
       "      <td>34.21</td>\n",
       "      <td>27.0</td>\n",
       "      <td>4357.0</td>\n",
       "      <td>926.0</td>\n",
       "      <td>2110.0</td>\n",
       "      <td>876.0</td>\n",
       "      <td>3.0119</td>\n",
       "      <td>218200.0</td>\n",
       "      <td>&lt;1H OCEAN</td>\n",
       "    </tr>\n",
       "    <tr>\n",
       "      <th>6568</th>\n",
       "      <td>-118.15</td>\n",
       "      <td>34.20</td>\n",
       "      <td>52.0</td>\n",
       "      <td>1786.0</td>\n",
       "      <td>306.0</td>\n",
       "      <td>1018.0</td>\n",
       "      <td>322.0</td>\n",
       "      <td>4.1518</td>\n",
       "      <td>182100.0</td>\n",
       "      <td>INLAND</td>\n",
       "    </tr>\n",
       "    <tr>\n",
       "      <th>13285</th>\n",
       "      <td>-117.68</td>\n",
       "      <td>34.07</td>\n",
       "      <td>32.0</td>\n",
       "      <td>1775.0</td>\n",
       "      <td>314.0</td>\n",
       "      <td>1067.0</td>\n",
       "      <td>302.0</td>\n",
       "      <td>4.0375</td>\n",
       "      <td>121300.0</td>\n",
       "      <td>INLAND</td>\n",
       "    </tr>\n",
       "  </tbody>\n",
       "</table>\n",
       "</div>"
      ],
      "text/plain": [
       "       longitude  latitude  housing_median_age  total_rooms  total_bedrooms  \\\n",
       "5241     -118.39     34.12                29.0       6447.0          1012.0   \n",
       "10970    -117.86     33.77                39.0       4159.0           655.0   \n",
       "20351    -119.05     34.21                27.0       4357.0           926.0   \n",
       "6568     -118.15     34.20                52.0       1786.0           306.0   \n",
       "13285    -117.68     34.07                32.0       1775.0           314.0   \n",
       "\n",
       "       population  households  median_income  median_house_value  \\\n",
       "5241       2184.0       960.0         8.2816            500001.0   \n",
       "10970      1669.0       651.0         4.6111            240300.0   \n",
       "20351      2110.0       876.0         3.0119            218200.0   \n",
       "6568       1018.0       322.0         4.1518            182100.0   \n",
       "13285      1067.0       302.0         4.0375            121300.0   \n",
       "\n",
       "      ocean_proximity  \n",
       "5241        <1H OCEAN  \n",
       "10970       <1H OCEAN  \n",
       "20351       <1H OCEAN  \n",
       "6568           INLAND  \n",
       "13285          INLAND  "
      ]
     },
     "execution_count": 63,
     "metadata": {},
     "output_type": "execute_result"
    }
   ],
   "source": [
    "test_set_new = test_set.copy()\n",
    "test_set_new.head()"
   ]
  },
  {
   "cell_type": "code",
   "execution_count": 64,
   "id": "867496c1",
   "metadata": {},
   "outputs": [],
   "source": [
    "X_test = test_set_new.drop(columns=['median_house_value'], axis=1)\n",
    "y_test = test_set_new['median_house_value']\n",
    "\n"
   ]
  },
  {
   "cell_type": "code",
   "execution_count": 65,
   "id": "32ef6724",
   "metadata": {},
   "outputs": [],
   "source": [
    "# adding features like we do above\n",
    "\n",
    "X_test['rooms_per_household'] = X_test['total_rooms'] / X_test['households']\n",
    "X_test['bedroms_per_rooms'] = X_test['total_bedrooms'] / X_test['total_rooms']\n",
    "X_test['population_per_household'] = X_test['population'] / X_test['households']\n"
   ]
  },
  {
   "cell_type": "code",
   "execution_count": 66,
   "id": "6354f72e",
   "metadata": {},
   "outputs": [
    {
     "data": {
      "text/html": [
       "<div>\n",
       "<style scoped>\n",
       "    .dataframe tbody tr th:only-of-type {\n",
       "        vertical-align: middle;\n",
       "    }\n",
       "\n",
       "    .dataframe tbody tr th {\n",
       "        vertical-align: top;\n",
       "    }\n",
       "\n",
       "    .dataframe thead th {\n",
       "        text-align: right;\n",
       "    }\n",
       "</style>\n",
       "<table border=\"1\" class=\"dataframe\">\n",
       "  <thead>\n",
       "    <tr style=\"text-align: right;\">\n",
       "      <th></th>\n",
       "      <th>longitude</th>\n",
       "      <th>latitude</th>\n",
       "      <th>housing_median_age</th>\n",
       "      <th>total_rooms</th>\n",
       "      <th>total_bedrooms</th>\n",
       "      <th>population</th>\n",
       "      <th>households</th>\n",
       "      <th>median_income</th>\n",
       "      <th>ocean_proximity</th>\n",
       "      <th>rooms_per_household</th>\n",
       "      <th>bedroms_per_rooms</th>\n",
       "      <th>population_per_household</th>\n",
       "    </tr>\n",
       "  </thead>\n",
       "  <tbody>\n",
       "    <tr>\n",
       "      <th>5241</th>\n",
       "      <td>-118.39</td>\n",
       "      <td>34.12</td>\n",
       "      <td>29.0</td>\n",
       "      <td>6447.0</td>\n",
       "      <td>1012.0</td>\n",
       "      <td>2184.0</td>\n",
       "      <td>960.0</td>\n",
       "      <td>8.2816</td>\n",
       "      <td>&lt;1H OCEAN</td>\n",
       "      <td>6.715625</td>\n",
       "      <td>0.156972</td>\n",
       "      <td>2.275000</td>\n",
       "    </tr>\n",
       "    <tr>\n",
       "      <th>10970</th>\n",
       "      <td>-117.86</td>\n",
       "      <td>33.77</td>\n",
       "      <td>39.0</td>\n",
       "      <td>4159.0</td>\n",
       "      <td>655.0</td>\n",
       "      <td>1669.0</td>\n",
       "      <td>651.0</td>\n",
       "      <td>4.6111</td>\n",
       "      <td>&lt;1H OCEAN</td>\n",
       "      <td>6.388633</td>\n",
       "      <td>0.157490</td>\n",
       "      <td>2.563748</td>\n",
       "    </tr>\n",
       "    <tr>\n",
       "      <th>20351</th>\n",
       "      <td>-119.05</td>\n",
       "      <td>34.21</td>\n",
       "      <td>27.0</td>\n",
       "      <td>4357.0</td>\n",
       "      <td>926.0</td>\n",
       "      <td>2110.0</td>\n",
       "      <td>876.0</td>\n",
       "      <td>3.0119</td>\n",
       "      <td>&lt;1H OCEAN</td>\n",
       "      <td>4.973744</td>\n",
       "      <td>0.212532</td>\n",
       "      <td>2.408676</td>\n",
       "    </tr>\n",
       "    <tr>\n",
       "      <th>6568</th>\n",
       "      <td>-118.15</td>\n",
       "      <td>34.20</td>\n",
       "      <td>52.0</td>\n",
       "      <td>1786.0</td>\n",
       "      <td>306.0</td>\n",
       "      <td>1018.0</td>\n",
       "      <td>322.0</td>\n",
       "      <td>4.1518</td>\n",
       "      <td>INLAND</td>\n",
       "      <td>5.546584</td>\n",
       "      <td>0.171333</td>\n",
       "      <td>3.161491</td>\n",
       "    </tr>\n",
       "    <tr>\n",
       "      <th>13285</th>\n",
       "      <td>-117.68</td>\n",
       "      <td>34.07</td>\n",
       "      <td>32.0</td>\n",
       "      <td>1775.0</td>\n",
       "      <td>314.0</td>\n",
       "      <td>1067.0</td>\n",
       "      <td>302.0</td>\n",
       "      <td>4.0375</td>\n",
       "      <td>INLAND</td>\n",
       "      <td>5.877483</td>\n",
       "      <td>0.176901</td>\n",
       "      <td>3.533113</td>\n",
       "    </tr>\n",
       "  </tbody>\n",
       "</table>\n",
       "</div>"
      ],
      "text/plain": [
       "       longitude  latitude  housing_median_age  total_rooms  total_bedrooms  \\\n",
       "5241     -118.39     34.12                29.0       6447.0          1012.0   \n",
       "10970    -117.86     33.77                39.0       4159.0           655.0   \n",
       "20351    -119.05     34.21                27.0       4357.0           926.0   \n",
       "6568     -118.15     34.20                52.0       1786.0           306.0   \n",
       "13285    -117.68     34.07                32.0       1775.0           314.0   \n",
       "\n",
       "       population  households  median_income ocean_proximity  \\\n",
       "5241       2184.0       960.0         8.2816       <1H OCEAN   \n",
       "10970      1669.0       651.0         4.6111       <1H OCEAN   \n",
       "20351      2110.0       876.0         3.0119       <1H OCEAN   \n",
       "6568       1018.0       322.0         4.1518          INLAND   \n",
       "13285      1067.0       302.0         4.0375          INLAND   \n",
       "\n",
       "       rooms_per_household  bedroms_per_rooms  population_per_household  \n",
       "5241              6.715625           0.156972                  2.275000  \n",
       "10970             6.388633           0.157490                  2.563748  \n",
       "20351             4.973744           0.212532                  2.408676  \n",
       "6568              5.546584           0.171333                  3.161491  \n",
       "13285             5.877483           0.176901                  3.533113  "
      ]
     },
     "execution_count": 66,
     "metadata": {},
     "output_type": "execute_result"
    }
   ],
   "source": [
    "X_test.head()"
   ]
  },
  {
   "cell_type": "code",
   "execution_count": 67,
   "id": "e7ff0a61",
   "metadata": {},
   "outputs": [],
   "source": [
    "X_test = full_pipeline.transform(X_test)"
   ]
  },
  {
   "cell_type": "code",
   "execution_count": 68,
   "id": "ee95ac9b",
   "metadata": {},
   "outputs": [
    {
     "data": {
      "text/html": [
       "<div>\n",
       "<style scoped>\n",
       "    .dataframe tbody tr th:only-of-type {\n",
       "        vertical-align: middle;\n",
       "    }\n",
       "\n",
       "    .dataframe tbody tr th {\n",
       "        vertical-align: top;\n",
       "    }\n",
       "\n",
       "    .dataframe thead th {\n",
       "        text-align: right;\n",
       "    }\n",
       "</style>\n",
       "<table border=\"1\" class=\"dataframe\">\n",
       "  <thead>\n",
       "    <tr style=\"text-align: right;\">\n",
       "      <th></th>\n",
       "      <th>0</th>\n",
       "      <th>1</th>\n",
       "      <th>2</th>\n",
       "      <th>3</th>\n",
       "      <th>4</th>\n",
       "      <th>5</th>\n",
       "      <th>6</th>\n",
       "      <th>7</th>\n",
       "      <th>8</th>\n",
       "      <th>9</th>\n",
       "      <th>10</th>\n",
       "      <th>11</th>\n",
       "      <th>12</th>\n",
       "      <th>13</th>\n",
       "      <th>14</th>\n",
       "      <th>15</th>\n",
       "    </tr>\n",
       "  </thead>\n",
       "  <tbody>\n",
       "    <tr>\n",
       "      <th>0</th>\n",
       "      <td>0.592384</td>\n",
       "      <td>-0.710749</td>\n",
       "      <td>0.027588</td>\n",
       "      <td>1.788385</td>\n",
       "      <td>1.163511</td>\n",
       "      <td>0.684989</td>\n",
       "      <td>1.232174</td>\n",
       "      <td>2.312998</td>\n",
       "      <td>0.488309</td>\n",
       "      <td>-0.977257</td>\n",
       "      <td>-0.070908</td>\n",
       "      <td>1.0</td>\n",
       "      <td>0.0</td>\n",
       "      <td>0.0</td>\n",
       "      <td>0.0</td>\n",
       "      <td>0.0</td>\n",
       "    </tr>\n",
       "    <tr>\n",
       "      <th>1</th>\n",
       "      <td>0.857146</td>\n",
       "      <td>-0.874454</td>\n",
       "      <td>0.822858</td>\n",
       "      <td>0.718423</td>\n",
       "      <td>0.294532</td>\n",
       "      <td>0.223375</td>\n",
       "      <td>0.409730</td>\n",
       "      <td>0.386117</td>\n",
       "      <td>0.363103</td>\n",
       "      <td>-0.968195</td>\n",
       "      <td>-0.045983</td>\n",
       "      <td>1.0</td>\n",
       "      <td>0.0</td>\n",
       "      <td>0.0</td>\n",
       "      <td>0.0</td>\n",
       "      <td>0.0</td>\n",
       "    </tr>\n",
       "    <tr>\n",
       "      <th>2</th>\n",
       "      <td>0.262681</td>\n",
       "      <td>-0.668654</td>\n",
       "      <td>-0.131466</td>\n",
       "      <td>0.811016</td>\n",
       "      <td>0.954177</td>\n",
       "      <td>0.618660</td>\n",
       "      <td>1.008597</td>\n",
       "      <td>-0.453406</td>\n",
       "      <td>-0.178661</td>\n",
       "      <td>-0.004416</td>\n",
       "      <td>-0.059369</td>\n",
       "      <td>1.0</td>\n",
       "      <td>0.0</td>\n",
       "      <td>0.0</td>\n",
       "      <td>0.0</td>\n",
       "      <td>0.0</td>\n",
       "    </tr>\n",
       "    <tr>\n",
       "      <th>3</th>\n",
       "      <td>0.712276</td>\n",
       "      <td>-0.673331</td>\n",
       "      <td>1.856709</td>\n",
       "      <td>-0.391288</td>\n",
       "      <td>-0.554973</td>\n",
       "      <td>-0.360140</td>\n",
       "      <td>-0.465946</td>\n",
       "      <td>0.145001</td>\n",
       "      <td>0.040681</td>\n",
       "      <td>-0.725808</td>\n",
       "      <td>0.005616</td>\n",
       "      <td>0.0</td>\n",
       "      <td>1.0</td>\n",
       "      <td>0.0</td>\n",
       "      <td>0.0</td>\n",
       "      <td>0.0</td>\n",
       "    </tr>\n",
       "    <tr>\n",
       "      <th>4</th>\n",
       "      <td>0.947065</td>\n",
       "      <td>-0.734136</td>\n",
       "      <td>0.266169</td>\n",
       "      <td>-0.396432</td>\n",
       "      <td>-0.535500</td>\n",
       "      <td>-0.316219</td>\n",
       "      <td>-0.519179</td>\n",
       "      <td>0.084997</td>\n",
       "      <td>0.167383</td>\n",
       "      <td>-0.628298</td>\n",
       "      <td>0.037695</td>\n",
       "      <td>0.0</td>\n",
       "      <td>1.0</td>\n",
       "      <td>0.0</td>\n",
       "      <td>0.0</td>\n",
       "      <td>0.0</td>\n",
       "    </tr>\n",
       "  </tbody>\n",
       "</table>\n",
       "</div>"
      ],
      "text/plain": [
       "         0         1         2         3         4         5         6   \\\n",
       "0  0.592384 -0.710749  0.027588  1.788385  1.163511  0.684989  1.232174   \n",
       "1  0.857146 -0.874454  0.822858  0.718423  0.294532  0.223375  0.409730   \n",
       "2  0.262681 -0.668654 -0.131466  0.811016  0.954177  0.618660  1.008597   \n",
       "3  0.712276 -0.673331  1.856709 -0.391288 -0.554973 -0.360140 -0.465946   \n",
       "4  0.947065 -0.734136  0.266169 -0.396432 -0.535500 -0.316219 -0.519179   \n",
       "\n",
       "         7         8         9         10   11   12   13   14   15  \n",
       "0  2.312998  0.488309 -0.977257 -0.070908  1.0  0.0  0.0  0.0  0.0  \n",
       "1  0.386117  0.363103 -0.968195 -0.045983  1.0  0.0  0.0  0.0  0.0  \n",
       "2 -0.453406 -0.178661 -0.004416 -0.059369  1.0  0.0  0.0  0.0  0.0  \n",
       "3  0.145001  0.040681 -0.725808  0.005616  0.0  1.0  0.0  0.0  0.0  \n",
       "4  0.084997  0.167383 -0.628298  0.037695  0.0  1.0  0.0  0.0  0.0  "
      ]
     },
     "execution_count": 68,
     "metadata": {},
     "output_type": "execute_result"
    }
   ],
   "source": [
    "X_test = pd.DataFrame(X_test)\n",
    "X_test.head()"
   ]
  },
  {
   "cell_type": "code",
   "execution_count": 69,
   "id": "54361abf",
   "metadata": {},
   "outputs": [],
   "source": [
    "num_cols_pipeline = ['longitude', 'latitude', 'housing_median_age',\n",
    "                                  'total_rooms', 'total_bedrooms', 'population',\n",
    "                                  'households', 'median_income',\n",
    "                                  'rooms_per_household', 'bedroms_per_rooms',\n",
    "                                  'population_per_household']\n",
    "\n",
    "cat_cols_pipeline = ['ocean0', 'ocean1', 'ocean2', 'ocean3', 'ocean4']\n",
    "\n",
    "X_test.columns = num_cols_pipeline + cat_cols_pipeline"
   ]
  },
  {
   "cell_type": "code",
   "execution_count": 70,
   "id": "f03fa301",
   "metadata": {},
   "outputs": [
    {
     "data": {
      "text/html": [
       "<div>\n",
       "<style scoped>\n",
       "    .dataframe tbody tr th:only-of-type {\n",
       "        vertical-align: middle;\n",
       "    }\n",
       "\n",
       "    .dataframe tbody tr th {\n",
       "        vertical-align: top;\n",
       "    }\n",
       "\n",
       "    .dataframe thead th {\n",
       "        text-align: right;\n",
       "    }\n",
       "</style>\n",
       "<table border=\"1\" class=\"dataframe\">\n",
       "  <thead>\n",
       "    <tr style=\"text-align: right;\">\n",
       "      <th></th>\n",
       "      <th>longitude</th>\n",
       "      <th>latitude</th>\n",
       "      <th>housing_median_age</th>\n",
       "      <th>total_rooms</th>\n",
       "      <th>total_bedrooms</th>\n",
       "      <th>population</th>\n",
       "      <th>households</th>\n",
       "      <th>median_income</th>\n",
       "      <th>rooms_per_household</th>\n",
       "      <th>bedroms_per_rooms</th>\n",
       "      <th>population_per_household</th>\n",
       "      <th>ocean0</th>\n",
       "      <th>ocean1</th>\n",
       "      <th>ocean2</th>\n",
       "      <th>ocean3</th>\n",
       "      <th>ocean4</th>\n",
       "    </tr>\n",
       "  </thead>\n",
       "  <tbody>\n",
       "    <tr>\n",
       "      <th>0</th>\n",
       "      <td>0.592384</td>\n",
       "      <td>-0.710749</td>\n",
       "      <td>0.027588</td>\n",
       "      <td>1.788385</td>\n",
       "      <td>1.163511</td>\n",
       "      <td>0.684989</td>\n",
       "      <td>1.232174</td>\n",
       "      <td>2.312998</td>\n",
       "      <td>0.488309</td>\n",
       "      <td>-0.977257</td>\n",
       "      <td>-0.070908</td>\n",
       "      <td>1.0</td>\n",
       "      <td>0.0</td>\n",
       "      <td>0.0</td>\n",
       "      <td>0.0</td>\n",
       "      <td>0.0</td>\n",
       "    </tr>\n",
       "    <tr>\n",
       "      <th>1</th>\n",
       "      <td>0.857146</td>\n",
       "      <td>-0.874454</td>\n",
       "      <td>0.822858</td>\n",
       "      <td>0.718423</td>\n",
       "      <td>0.294532</td>\n",
       "      <td>0.223375</td>\n",
       "      <td>0.409730</td>\n",
       "      <td>0.386117</td>\n",
       "      <td>0.363103</td>\n",
       "      <td>-0.968195</td>\n",
       "      <td>-0.045983</td>\n",
       "      <td>1.0</td>\n",
       "      <td>0.0</td>\n",
       "      <td>0.0</td>\n",
       "      <td>0.0</td>\n",
       "      <td>0.0</td>\n",
       "    </tr>\n",
       "    <tr>\n",
       "      <th>2</th>\n",
       "      <td>0.262681</td>\n",
       "      <td>-0.668654</td>\n",
       "      <td>-0.131466</td>\n",
       "      <td>0.811016</td>\n",
       "      <td>0.954177</td>\n",
       "      <td>0.618660</td>\n",
       "      <td>1.008597</td>\n",
       "      <td>-0.453406</td>\n",
       "      <td>-0.178661</td>\n",
       "      <td>-0.004416</td>\n",
       "      <td>-0.059369</td>\n",
       "      <td>1.0</td>\n",
       "      <td>0.0</td>\n",
       "      <td>0.0</td>\n",
       "      <td>0.0</td>\n",
       "      <td>0.0</td>\n",
       "    </tr>\n",
       "    <tr>\n",
       "      <th>3</th>\n",
       "      <td>0.712276</td>\n",
       "      <td>-0.673331</td>\n",
       "      <td>1.856709</td>\n",
       "      <td>-0.391288</td>\n",
       "      <td>-0.554973</td>\n",
       "      <td>-0.360140</td>\n",
       "      <td>-0.465946</td>\n",
       "      <td>0.145001</td>\n",
       "      <td>0.040681</td>\n",
       "      <td>-0.725808</td>\n",
       "      <td>0.005616</td>\n",
       "      <td>0.0</td>\n",
       "      <td>1.0</td>\n",
       "      <td>0.0</td>\n",
       "      <td>0.0</td>\n",
       "      <td>0.0</td>\n",
       "    </tr>\n",
       "    <tr>\n",
       "      <th>4</th>\n",
       "      <td>0.947065</td>\n",
       "      <td>-0.734136</td>\n",
       "      <td>0.266169</td>\n",
       "      <td>-0.396432</td>\n",
       "      <td>-0.535500</td>\n",
       "      <td>-0.316219</td>\n",
       "      <td>-0.519179</td>\n",
       "      <td>0.084997</td>\n",
       "      <td>0.167383</td>\n",
       "      <td>-0.628298</td>\n",
       "      <td>0.037695</td>\n",
       "      <td>0.0</td>\n",
       "      <td>1.0</td>\n",
       "      <td>0.0</td>\n",
       "      <td>0.0</td>\n",
       "      <td>0.0</td>\n",
       "    </tr>\n",
       "  </tbody>\n",
       "</table>\n",
       "</div>"
      ],
      "text/plain": [
       "   longitude  latitude  housing_median_age  total_rooms  total_bedrooms  \\\n",
       "0   0.592384 -0.710749            0.027588     1.788385        1.163511   \n",
       "1   0.857146 -0.874454            0.822858     0.718423        0.294532   \n",
       "2   0.262681 -0.668654           -0.131466     0.811016        0.954177   \n",
       "3   0.712276 -0.673331            1.856709    -0.391288       -0.554973   \n",
       "4   0.947065 -0.734136            0.266169    -0.396432       -0.535500   \n",
       "\n",
       "   population  households  median_income  rooms_per_household  \\\n",
       "0    0.684989    1.232174       2.312998             0.488309   \n",
       "1    0.223375    0.409730       0.386117             0.363103   \n",
       "2    0.618660    1.008597      -0.453406            -0.178661   \n",
       "3   -0.360140   -0.465946       0.145001             0.040681   \n",
       "4   -0.316219   -0.519179       0.084997             0.167383   \n",
       "\n",
       "   bedroms_per_rooms  population_per_household  ocean0  ocean1  ocean2  \\\n",
       "0          -0.977257                 -0.070908     1.0     0.0     0.0   \n",
       "1          -0.968195                 -0.045983     1.0     0.0     0.0   \n",
       "2          -0.004416                 -0.059369     1.0     0.0     0.0   \n",
       "3          -0.725808                  0.005616     0.0     1.0     0.0   \n",
       "4          -0.628298                  0.037695     0.0     1.0     0.0   \n",
       "\n",
       "   ocean3  ocean4  \n",
       "0     0.0     0.0  \n",
       "1     0.0     0.0  \n",
       "2     0.0     0.0  \n",
       "3     0.0     0.0  \n",
       "4     0.0     0.0  "
      ]
     },
     "execution_count": 70,
     "metadata": {},
     "output_type": "execute_result"
    }
   ],
   "source": [
    "X_test.head()"
   ]
  },
  {
   "cell_type": "markdown",
   "id": "2e88034e",
   "metadata": {},
   "source": [
    "### Prediction"
   ]
  },
  {
   "cell_type": "code",
   "execution_count": 71,
   "id": "101598ce",
   "metadata": {},
   "outputs": [],
   "source": [
    "y_predict = best_model.predict(X_test)"
   ]
  },
  {
   "cell_type": "code",
   "execution_count": 72,
   "id": "3dd6f6c3",
   "metadata": {},
   "outputs": [
    {
     "name": "stdout",
     "output_type": "stream",
     "text": [
      "rmse_test => 46210.052061316776\n"
     ]
    }
   ],
   "source": [
    "rmse_test = (mean_squared_error(y_test, y_predict))**0.5\n",
    "\n",
    "print('rmse_test =>', rmse_test)"
   ]
  },
  {
   "cell_type": "code",
   "execution_count": null,
   "id": "e8ba704d",
   "metadata": {},
   "outputs": [],
   "source": []
  },
  {
   "cell_type": "code",
   "execution_count": null,
   "id": "fe47e2d6",
   "metadata": {},
   "outputs": [],
   "source": []
  },
  {
   "cell_type": "code",
   "execution_count": null,
   "id": "30268c87",
   "metadata": {},
   "outputs": [],
   "source": []
  },
  {
   "cell_type": "code",
   "execution_count": null,
   "id": "37eecd56",
   "metadata": {},
   "outputs": [],
   "source": []
  },
  {
   "cell_type": "code",
   "execution_count": null,
   "id": "82bbc370",
   "metadata": {},
   "outputs": [],
   "source": []
  }
 ],
 "metadata": {
  "kernelspec": {
   "display_name": "Python 3 (ipykernel)",
   "language": "python",
   "name": "python3"
  },
  "language_info": {
   "codemirror_mode": {
    "name": "ipython",
    "version": 3
   },
   "file_extension": ".py",
   "mimetype": "text/x-python",
   "name": "python",
   "nbconvert_exporter": "python",
   "pygments_lexer": "ipython3",
   "version": "3.11.7"
  }
 },
 "nbformat": 4,
 "nbformat_minor": 5
}
